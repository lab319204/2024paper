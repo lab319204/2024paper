{
 "cells": [
  {
   "cell_type": "markdown",
   "id": "6bf076af-50cb-46f1-9a0d-cd864e6920f2",
   "metadata": {},
   "source": [
    "<table style=\"width:100%\">\n",
    "<tr>\n",
    "<td style=\"vertical-align:middle; text-align:left;\">\n",
    "<font size=\"2\">\n",
    "Supplementary code for the <a href=\"http://mng.bz/orYv\">Build a Large Language Model From Scratch</a> book by <a href=\"https://sebastianraschka.com\">Sebastian Raschka</a><br>\n",
    "<br>Code repository: <a href=\"https://github.com/rasbt/LLMs-from-scratch\">https://github.com/rasbt/LLMs-from-scratch</a>\n",
    "</font>\n",
    "</td>\n",
    "<td style=\"vertical-align:middle; text-align:left;\">\n",
    "<a href=\"http://mng.bz/orYv\"><img src=\"https://sebastianraschka.com/images/LLMs-from-scratch-images/cover-small.webp\" width=\"100px\"></a>\n",
    "</td>\n",
    "</tr>\n",
    "</table>"
   ]
  },
  {
   "cell_type": "markdown",
   "id": "6afe495a-a838-4737-b7ff-4306f5745c66",
   "metadata": {},
   "source": [
    "# Chapter 5: Pretraining on Unlabeled Data"
   ]
  },
  {
   "cell_type": "code",
   "execution_count": 27,
   "id": "22199548-14f6-4e0d-ad09-3ed240a45676",
   "metadata": {},
   "outputs": [
    {
     "name": "stdout",
     "output_type": "stream",
     "text": [
      "matplotlib version: 3.8.4\n",
      "numpy version: 1.26.4\n",
      "tiktoken version: 0.8.0\n",
      "torch version: 2.5.0+cu118\n",
      "tensorflow version: 2.18.0\n"
     ]
    }
   ],
   "source": [
    "from importlib.metadata import version\n",
    "\n",
    "pkgs = [\"matplotlib\", \n",
    "        \"numpy\", \n",
    "        \"tiktoken\", \n",
    "        \"torch\",\n",
    "        \"tensorflow\" # For OpenAI's pretrained weights\n",
    "       ]\n",
    "for p in pkgs:\n",
    "    print(f\"{p} version: {version(p)}\")"
   ]
  },
  {
   "cell_type": "markdown",
   "id": "bef65c2c-c2e8-4770-8b2c-6cabd8522cef",
   "metadata": {},
   "source": [
    "本章内容包括\n",
    "- 计算训练和验证集的损失，以评估在训练期间生成的LLM文本的质量\n",
    "- 实现一个训练函数并预训练LLM\n",
    "- 保存和加载模型权重以继续训练LLM\n",
    "- 从OpenAI加载预训练的权重"
   ]
  },
  {
   "cell_type": "markdown",
   "id": "76562d54-839d-469e-bc7a-58c19d33c472",
   "metadata": {},
   "source": [
    "在前几章中，我们实现了数据采样、注意力机制并编码了LLM架构。本章的核心重点是实现一个训练函数并预训练LLM。"
   ]
  },
  {
   "cell_type": "markdown",
   "id": "04df775c-a82d-4a73-bbd3-64ef0e7e6a55",
   "metadata": {},
   "source": [
    "<img src=\"https://sebastianraschka.com/images/LLMs-from-scratch-images/ch05_compressed/chapter-overview.webp\" width=500px>"
   ]
  },
  {
   "cell_type": "markdown",
   "id": "96ac001c-dd58-48c0-a51b-4e11fb5695f8",
   "metadata": {},
   "source": [
    "- 本章涵盖的主题如下所示"
   ]
  },
  {
   "cell_type": "markdown",
   "id": "ad7ce4b9-ae9f-47e1-8f20-2b0be7a413f3",
   "metadata": {},
   "source": [
    "<img src=\"https://sebastianraschka.com/images/LLMs-from-scratch-images/ch05_compressed/mental-model--0.webp\" width=400px>"
   ]
  },
  {
   "cell_type": "markdown",
   "id": "91ba20cd-12e6-49ba-9b60-6da2b9250ae2",
   "metadata": {},
   "source": [
    "## 5.1 Evaluating generative text models"
   ]
  },
  {
   "cell_type": "markdown",
   "id": "36352ccd-e52f-4379-a842-4521d2e18038",
   "metadata": {},
   "source": [
    "- 我们首先简要回顾一下如何使用前一章的代码来初始化一个GPT模型\n",
    "- 接着，我们讨论了用于评估大型语言模型的基本评价指标\n",
    "- 最后，在本节中，我们将这些评价指标应用于训练集和验证集"
   ]
  },
  {
   "cell_type": "markdown",
   "id": "20cf7e50-3f3c-441c-ba35-b622a0d21ce9",
   "metadata": {},
   "source": [
    "### 5.1.1 Using GPT to generate text"
   ]
  },
  {
   "cell_type": "markdown",
   "id": "41b84385-e08d-464f-9427-aa1c1a886960",
   "metadata": {},
   "source": [
    "- 我们使用前一章的代码来初始化一个GPT模型"
   ]
  },
  {
   "cell_type": "code",
   "execution_count": 29,
   "id": "0c032cae-d914-4011-8439-db85e2704118",
   "metadata": {},
   "outputs": [
    {
     "data": {
      "text/plain": [
       "GPTModel(\n",
       "  (tok_emb): Embedding(50257, 768)\n",
       "  (pos_emb): Embedding(256, 768)\n",
       "  (drop_emb): Dropout(p=0.1, inplace=False)\n",
       "  (trf_blocks): Sequential(\n",
       "    (0): TransformerBlock(\n",
       "      (att): MultiHeadAttention(\n",
       "        (W_query): Linear(in_features=768, out_features=768, bias=False)\n",
       "        (W_key): Linear(in_features=768, out_features=768, bias=False)\n",
       "        (W_value): Linear(in_features=768, out_features=768, bias=False)\n",
       "        (out_proj): Linear(in_features=768, out_features=768, bias=True)\n",
       "        (dropout): Dropout(p=0.1, inplace=False)\n",
       "      )\n",
       "      (ff): FeedForward(\n",
       "        (layers): Sequential(\n",
       "          (0): Linear(in_features=768, out_features=3072, bias=True)\n",
       "          (1): GELU()\n",
       "          (2): Linear(in_features=3072, out_features=768, bias=True)\n",
       "        )\n",
       "      )\n",
       "      (norm1): LayerNorm()\n",
       "      (norm2): LayerNorm()\n",
       "      (drop_shortcut): Dropout(p=0.1, inplace=False)\n",
       "    )\n",
       "    (1): TransformerBlock(\n",
       "      (att): MultiHeadAttention(\n",
       "        (W_query): Linear(in_features=768, out_features=768, bias=False)\n",
       "        (W_key): Linear(in_features=768, out_features=768, bias=False)\n",
       "        (W_value): Linear(in_features=768, out_features=768, bias=False)\n",
       "        (out_proj): Linear(in_features=768, out_features=768, bias=True)\n",
       "        (dropout): Dropout(p=0.1, inplace=False)\n",
       "      )\n",
       "      (ff): FeedForward(\n",
       "        (layers): Sequential(\n",
       "          (0): Linear(in_features=768, out_features=3072, bias=True)\n",
       "          (1): GELU()\n",
       "          (2): Linear(in_features=3072, out_features=768, bias=True)\n",
       "        )\n",
       "      )\n",
       "      (norm1): LayerNorm()\n",
       "      (norm2): LayerNorm()\n",
       "      (drop_shortcut): Dropout(p=0.1, inplace=False)\n",
       "    )\n",
       "    (2): TransformerBlock(\n",
       "      (att): MultiHeadAttention(\n",
       "        (W_query): Linear(in_features=768, out_features=768, bias=False)\n",
       "        (W_key): Linear(in_features=768, out_features=768, bias=False)\n",
       "        (W_value): Linear(in_features=768, out_features=768, bias=False)\n",
       "        (out_proj): Linear(in_features=768, out_features=768, bias=True)\n",
       "        (dropout): Dropout(p=0.1, inplace=False)\n",
       "      )\n",
       "      (ff): FeedForward(\n",
       "        (layers): Sequential(\n",
       "          (0): Linear(in_features=768, out_features=3072, bias=True)\n",
       "          (1): GELU()\n",
       "          (2): Linear(in_features=3072, out_features=768, bias=True)\n",
       "        )\n",
       "      )\n",
       "      (norm1): LayerNorm()\n",
       "      (norm2): LayerNorm()\n",
       "      (drop_shortcut): Dropout(p=0.1, inplace=False)\n",
       "    )\n",
       "    (3): TransformerBlock(\n",
       "      (att): MultiHeadAttention(\n",
       "        (W_query): Linear(in_features=768, out_features=768, bias=False)\n",
       "        (W_key): Linear(in_features=768, out_features=768, bias=False)\n",
       "        (W_value): Linear(in_features=768, out_features=768, bias=False)\n",
       "        (out_proj): Linear(in_features=768, out_features=768, bias=True)\n",
       "        (dropout): Dropout(p=0.1, inplace=False)\n",
       "      )\n",
       "      (ff): FeedForward(\n",
       "        (layers): Sequential(\n",
       "          (0): Linear(in_features=768, out_features=3072, bias=True)\n",
       "          (1): GELU()\n",
       "          (2): Linear(in_features=3072, out_features=768, bias=True)\n",
       "        )\n",
       "      )\n",
       "      (norm1): LayerNorm()\n",
       "      (norm2): LayerNorm()\n",
       "      (drop_shortcut): Dropout(p=0.1, inplace=False)\n",
       "    )\n",
       "    (4): TransformerBlock(\n",
       "      (att): MultiHeadAttention(\n",
       "        (W_query): Linear(in_features=768, out_features=768, bias=False)\n",
       "        (W_key): Linear(in_features=768, out_features=768, bias=False)\n",
       "        (W_value): Linear(in_features=768, out_features=768, bias=False)\n",
       "        (out_proj): Linear(in_features=768, out_features=768, bias=True)\n",
       "        (dropout): Dropout(p=0.1, inplace=False)\n",
       "      )\n",
       "      (ff): FeedForward(\n",
       "        (layers): Sequential(\n",
       "          (0): Linear(in_features=768, out_features=3072, bias=True)\n",
       "          (1): GELU()\n",
       "          (2): Linear(in_features=3072, out_features=768, bias=True)\n",
       "        )\n",
       "      )\n",
       "      (norm1): LayerNorm()\n",
       "      (norm2): LayerNorm()\n",
       "      (drop_shortcut): Dropout(p=0.1, inplace=False)\n",
       "    )\n",
       "    (5): TransformerBlock(\n",
       "      (att): MultiHeadAttention(\n",
       "        (W_query): Linear(in_features=768, out_features=768, bias=False)\n",
       "        (W_key): Linear(in_features=768, out_features=768, bias=False)\n",
       "        (W_value): Linear(in_features=768, out_features=768, bias=False)\n",
       "        (out_proj): Linear(in_features=768, out_features=768, bias=True)\n",
       "        (dropout): Dropout(p=0.1, inplace=False)\n",
       "      )\n",
       "      (ff): FeedForward(\n",
       "        (layers): Sequential(\n",
       "          (0): Linear(in_features=768, out_features=3072, bias=True)\n",
       "          (1): GELU()\n",
       "          (2): Linear(in_features=3072, out_features=768, bias=True)\n",
       "        )\n",
       "      )\n",
       "      (norm1): LayerNorm()\n",
       "      (norm2): LayerNorm()\n",
       "      (drop_shortcut): Dropout(p=0.1, inplace=False)\n",
       "    )\n",
       "    (6): TransformerBlock(\n",
       "      (att): MultiHeadAttention(\n",
       "        (W_query): Linear(in_features=768, out_features=768, bias=False)\n",
       "        (W_key): Linear(in_features=768, out_features=768, bias=False)\n",
       "        (W_value): Linear(in_features=768, out_features=768, bias=False)\n",
       "        (out_proj): Linear(in_features=768, out_features=768, bias=True)\n",
       "        (dropout): Dropout(p=0.1, inplace=False)\n",
       "      )\n",
       "      (ff): FeedForward(\n",
       "        (layers): Sequential(\n",
       "          (0): Linear(in_features=768, out_features=3072, bias=True)\n",
       "          (1): GELU()\n",
       "          (2): Linear(in_features=3072, out_features=768, bias=True)\n",
       "        )\n",
       "      )\n",
       "      (norm1): LayerNorm()\n",
       "      (norm2): LayerNorm()\n",
       "      (drop_shortcut): Dropout(p=0.1, inplace=False)\n",
       "    )\n",
       "    (7): TransformerBlock(\n",
       "      (att): MultiHeadAttention(\n",
       "        (W_query): Linear(in_features=768, out_features=768, bias=False)\n",
       "        (W_key): Linear(in_features=768, out_features=768, bias=False)\n",
       "        (W_value): Linear(in_features=768, out_features=768, bias=False)\n",
       "        (out_proj): Linear(in_features=768, out_features=768, bias=True)\n",
       "        (dropout): Dropout(p=0.1, inplace=False)\n",
       "      )\n",
       "      (ff): FeedForward(\n",
       "        (layers): Sequential(\n",
       "          (0): Linear(in_features=768, out_features=3072, bias=True)\n",
       "          (1): GELU()\n",
       "          (2): Linear(in_features=3072, out_features=768, bias=True)\n",
       "        )\n",
       "      )\n",
       "      (norm1): LayerNorm()\n",
       "      (norm2): LayerNorm()\n",
       "      (drop_shortcut): Dropout(p=0.1, inplace=False)\n",
       "    )\n",
       "    (8): TransformerBlock(\n",
       "      (att): MultiHeadAttention(\n",
       "        (W_query): Linear(in_features=768, out_features=768, bias=False)\n",
       "        (W_key): Linear(in_features=768, out_features=768, bias=False)\n",
       "        (W_value): Linear(in_features=768, out_features=768, bias=False)\n",
       "        (out_proj): Linear(in_features=768, out_features=768, bias=True)\n",
       "        (dropout): Dropout(p=0.1, inplace=False)\n",
       "      )\n",
       "      (ff): FeedForward(\n",
       "        (layers): Sequential(\n",
       "          (0): Linear(in_features=768, out_features=3072, bias=True)\n",
       "          (1): GELU()\n",
       "          (2): Linear(in_features=3072, out_features=768, bias=True)\n",
       "        )\n",
       "      )\n",
       "      (norm1): LayerNorm()\n",
       "      (norm2): LayerNorm()\n",
       "      (drop_shortcut): Dropout(p=0.1, inplace=False)\n",
       "    )\n",
       "    (9): TransformerBlock(\n",
       "      (att): MultiHeadAttention(\n",
       "        (W_query): Linear(in_features=768, out_features=768, bias=False)\n",
       "        (W_key): Linear(in_features=768, out_features=768, bias=False)\n",
       "        (W_value): Linear(in_features=768, out_features=768, bias=False)\n",
       "        (out_proj): Linear(in_features=768, out_features=768, bias=True)\n",
       "        (dropout): Dropout(p=0.1, inplace=False)\n",
       "      )\n",
       "      (ff): FeedForward(\n",
       "        (layers): Sequential(\n",
       "          (0): Linear(in_features=768, out_features=3072, bias=True)\n",
       "          (1): GELU()\n",
       "          (2): Linear(in_features=3072, out_features=768, bias=True)\n",
       "        )\n",
       "      )\n",
       "      (norm1): LayerNorm()\n",
       "      (norm2): LayerNorm()\n",
       "      (drop_shortcut): Dropout(p=0.1, inplace=False)\n",
       "    )\n",
       "    (10): TransformerBlock(\n",
       "      (att): MultiHeadAttention(\n",
       "        (W_query): Linear(in_features=768, out_features=768, bias=False)\n",
       "        (W_key): Linear(in_features=768, out_features=768, bias=False)\n",
       "        (W_value): Linear(in_features=768, out_features=768, bias=False)\n",
       "        (out_proj): Linear(in_features=768, out_features=768, bias=True)\n",
       "        (dropout): Dropout(p=0.1, inplace=False)\n",
       "      )\n",
       "      (ff): FeedForward(\n",
       "        (layers): Sequential(\n",
       "          (0): Linear(in_features=768, out_features=3072, bias=True)\n",
       "          (1): GELU()\n",
       "          (2): Linear(in_features=3072, out_features=768, bias=True)\n",
       "        )\n",
       "      )\n",
       "      (norm1): LayerNorm()\n",
       "      (norm2): LayerNorm()\n",
       "      (drop_shortcut): Dropout(p=0.1, inplace=False)\n",
       "    )\n",
       "    (11): TransformerBlock(\n",
       "      (att): MultiHeadAttention(\n",
       "        (W_query): Linear(in_features=768, out_features=768, bias=False)\n",
       "        (W_key): Linear(in_features=768, out_features=768, bias=False)\n",
       "        (W_value): Linear(in_features=768, out_features=768, bias=False)\n",
       "        (out_proj): Linear(in_features=768, out_features=768, bias=True)\n",
       "        (dropout): Dropout(p=0.1, inplace=False)\n",
       "      )\n",
       "      (ff): FeedForward(\n",
       "        (layers): Sequential(\n",
       "          (0): Linear(in_features=768, out_features=3072, bias=True)\n",
       "          (1): GELU()\n",
       "          (2): Linear(in_features=3072, out_features=768, bias=True)\n",
       "        )\n",
       "      )\n",
       "      (norm1): LayerNorm()\n",
       "      (norm2): LayerNorm()\n",
       "      (drop_shortcut): Dropout(p=0.1, inplace=False)\n",
       "    )\n",
       "  )\n",
       "  (final_norm): LayerNorm()\n",
       "  (out_head): Linear(in_features=768, out_features=50257, bias=False)\n",
       ")"
      ]
     },
     "execution_count": 29,
     "metadata": {},
     "output_type": "execute_result"
    }
   ],
   "source": [
    "import torch                        # 导入torch库\n",
    "from previous_chapters import GPTModel      # 从第4章导入GPTModel\n",
    "\n",
    "GPT_CONFIG_124M = {                 # GPT配置字典\n",
    "    \"vocab_size\": 50257,            # 词汇表大小\n",
    "    \"context_length\": 256,          #A 将上下文长度从1024缩短到256词元\n",
    "    \"emb_dim\": 768,                 # 嵌入维度\n",
    "    \"n_heads\": 12,                  # 注意力头数量\n",
    "    \"n_layers\": 12,                 # 层数\n",
    "    \"drop_rate\": 0.1,               #B 可能且常见的是将dropout设置为0。\n",
    "    \"qkv_bias\": False               # QKV偏置\n",
    "}\n",
    "\n",
    "torch.manual_seed(123)              # 设置随机种子\n",
    "model = GPTModel(GPT_CONFIG_124M)   # 使用配置初始化模型\n",
    "model.eval()                        # 将模型设置为评估模式"
   ]
  },
  {
   "cell_type": "markdown",
   "id": "8e85b653-e79b-4e8a-953b-1bb722cec752",
   "metadata": {},
   "source": [
    "- 我们之前使用了0.1的dropout（随机失活率），但现在训练大型语言模型时不使用dropout已经相对常见了。\n",
    "- 现代的大型语言模型在`nn.Linear`层中用于查询（query）、键（key）和值（value）矩阵时也不使用偏置向量（这与早期的GPT模型不同），这是通过设置`\"qkv_bias\": False`来实现的。\n",
    "- 我们将上下文长度（`context_length`）减少到只有256个令牌，以降低训练模型所需的计算资源需求，而原始的具有1.24亿参数的GPT-2模型使用了1024个令牌。\n",
    "  - 这样做是为了让更多读者能够在他们的笔记本电脑上跟随并执行代码示例。\n",
    "  - 我们稍后也会从预训练权重中加载一个具有1024个令牌`context_length`（上下文长度）的模型。"
   ]
  },
  {
   "cell_type": "markdown",
   "id": "e982e0c1-7d17-447b-ba95-1c8ddf548d32",
   "metadata": {},
   "source": [
    "- 接下来，我们使用前一章中的 `generate_text_simple`函数来生成文本。\n",
    "- 此外，我们定义了两个实用函数，`text_to_token_ids` 和 `token_ids_to_text`，用于在本章中使用的令牌（token）和文本（text）表示之间的转换。"
   ]
  },
  {
   "cell_type": "markdown",
   "id": "bb892f19-cbac-4017-8f38-a1f7c1751b1e",
   "metadata": {},
   "source": [
    "<img src=\"https://sebastianraschka.com/images/LLMs-from-scratch-images/ch05_compressed/gpt-process.webp\" width=500px>"
   ]
  },
  {
   "cell_type": "code",
   "execution_count": 31,
   "id": "8ee65fb6-42fb-4f2d-a0eb-829dcabc6b21",
   "metadata": {},
   "outputs": [
    {
     "name": "stdout",
     "output_type": "stream",
     "text": [
      "Output text:\n",
      " Every effort moves you rentingetic wasnم refres RexMeCHicular stren\n"
     ]
    }
   ],
   "source": [
    "import tiktoken                    # 导入tiktoken库\n",
    "from previous_chapters import generate_text_simple # 从第4章导入generate_text_simple函数\n",
    "\n",
    "def text_to_token_ids(text, tokenizer):   # 定义text_to_token_ids函数\n",
    "    encoded = tokenizer.encode(text, allowed_special={'<|endoftext|>'}) # 编码文本，允许特殊词元\n",
    "    encoded_tensor = torch.tensor(encoded).unsqueeze(0) # 添加批次维度\n",
    "    return encoded_tensor             # 返回编码后的张量\n",
    "\n",
    "def token_ids_to_text(token_ids, tokenizer): # 定义token_ids_to_text函数\n",
    "    flat = token_ids.squeeze(0)       # 移除批次维度\n",
    "    return tokenizer.decode(flat.tolist()) # 解码为文本\n",
    "\n",
    "start_context = \"Every effort moves you\" # 设置初始上下文\n",
    "tokenizer = tiktoken.get_encoding(\"gpt2\") # 获取GPT-2的分词器编码\n",
    "\n",
    "token_ids = generate_text_simple(   # 调用generate_text_simple函数生成词元ID\n",
    "    model=model,                    # 模型\n",
    "    idx=text_to_token_ids(start_context, tokenizer), # 将初始上下文转换为词元ID\n",
    "    max_new_tokens=10,              # 最大新词元数\n",
    "    context_size=GPT_CONFIG_124M[\"context_length\"]  # 上下文长度\n",
    ")\n",
    "print(\"Output text:\\n\", token_ids_to_text(token_ids, tokenizer)) # 打印生成的文本\n"
   ]
  },
  {
   "cell_type": "markdown",
   "id": "f556d56f-7005-41a3-a959-0d471ba5ff35",
   "metadata": {},
   "source": [
    "- 根据输出结果，很明显模型尚未生成连贯的文本，因为它还没有经过训练。\n",
    "- 要定义使文本 “连贯”或“高质量” 的标准，我们必须实现一种数值方法来评估生成的内容。这种方法将使我们能够在整个训练过程中监控和提高模型的性能。\n",
    "- 接下来的小节介绍了用于计算生成输出的损失度量的指标，我们可以使用这些指标来衡量训练进度。\n",
    "- 接下来的章节关于微调大型语言模型也会介绍额外的方法来衡量模型质量。"
   ]
  },
  {
   "cell_type": "markdown",
   "id": "9db1622a-5374-44e2-9447-a038f2d088da",
   "metadata": {},
   "source": [
    "### 5.1.2 Calculating the text generation loss: cross-entropy and perplexity"
   ]
  },
  {
   "cell_type": "markdown",
   "id": "0290e2d1-3dad-4041-8d3b-7343a75a4f74",
   "metadata": {},
   "source": [
    "- 假设我们有一个名为 `inputs` 的张量，其中包含了2个训练样本（行）的标记ID。\n",
    "- 与 `inputs` 对应，`targets` 包含了我们希望模型生成的目标标记ID。\n",
    "- 请注意，`targets`是将 `inputs` 向右移动了一个位置，正如我们在第2章实现数据加载器时所解释的那样。"
   ]
  },
  {
   "cell_type": "code",
   "execution_count": 11,
   "id": "c1e34341-230a-4ab0-90d9-ac7ccb62c31e",
   "metadata": {},
   "outputs": [],
   "source": [
    "inputs = torch.tensor([[16833, 3626, 6100],   # [\"every effort moves\",\n",
    "                       [40,    1107, 588]])   #  \"I really like\"]\n",
    "\n",
    "targets = torch.tensor([[3626, 6100, 345  ],  # [\" effort moves you\",\n",
    "                        [1107,  588, 11311]]) #  \" really like chocolate\"]"
   ]
  },
  {
   "cell_type": "markdown",
   "id": "1e8d473b-e887-480b-99fe-718a347da031",
   "metadata": {},
   "source": [
    "- 将 `inputs` 馈送到模型中，我们获得了2个输入样本的logits向量，每个样本包含3个标记。\n",
    "- 每个标记都是一个对应于词汇表大小的50,257维向量。\n",
    "- 应用softmax函数，我们可以将logits张量转换为具有相同维度的张量，其中包含概率分数。 "
   ]
  },
  {
   "cell_type": "code",
   "execution_count": 14,
   "id": "f64f7dce-08b2-4402-8a54-8e1591f1dc1c",
   "metadata": {},
   "outputs": [
    {
     "name": "stdout",
     "output_type": "stream",
     "text": [
      "torch.Size([2, 3, 50257])\n"
     ]
    }
   ],
   "source": [
    "with torch.no_grad():\n",
    "    logits = model(inputs)\n",
    "\n",
    "probas = torch.softmax(logits, dim=-1) # Probability of each token in vocabulary\n",
    "print(probas.shape) # Shape: (batch_size, num_tokens, vocab_size)"
   ]
  },
  {
   "cell_type": "markdown",
   "id": "6e54b403-55ab-4824-bcb7-2ef5de529a3c",
   "metadata": {},
   "source": [
    "- 下图使用非常小的词汇量进行说明，概述了我们在上一章末尾讨论的如何将概率分数转换回文本。"
   ]
  },
  {
   "cell_type": "markdown",
   "id": "30a3938b-3a72-4420-911b-eb084eb884ad",
   "metadata": {},
   "source": [
    "<img src=\"https://sebastianraschka.com/images/LLMs-from-scratch-images/ch05_compressed/proba-to-text.webp\" width=500px>"
   ]
  },
  {
   "cell_type": "markdown",
   "id": "3b964b5c-08d2-4597-b6d1-6f154fd21fc8",
   "metadata": {},
   "source": [
    "- 如前一章所讨论，我们可以应用`argmax`函数将概率分数转换为预测的标记ID。\n",
    "- 上面的softmax函数为每个标记产生了一个50,257维的向量；`argmax`函数返回这个向量中最高概率分数的位置，这是给定标记的预测标记ID。"
   ]
  },
  {
   "cell_type": "markdown",
   "id": "aae9f1fd-fd77-4dce-8c76-113742a26196",
   "metadata": {},
   "source": [
    "- 由于我们有2个输入批次，每个批次有3个标记，我们获得了2乘以3的预测标记ID："
   ]
  },
  {
   "cell_type": "code",
   "execution_count": 16,
   "id": "6eed4fc4-1324-4196-adc7-f250666f23b0",
   "metadata": {},
   "outputs": [
    {
     "name": "stdout",
     "output_type": "stream",
     "text": [
      "Token IDs:\n",
      " tensor([[[16657],\n",
      "         [  339],\n",
      "         [42826]],\n",
      "\n",
      "        [[49906],\n",
      "         [29669],\n",
      "         [41751]]])\n"
     ]
    }
   ],
   "source": [
    "token_ids = torch.argmax(probas, dim=-1, keepdim=True)\n",
    "print(\"Token IDs:\\n\", token_ids)"
   ]
  },
  {
   "cell_type": "markdown",
   "id": "e1c7dcf9-9f12-4c3b-8cb3-cac07097cf76",
   "metadata": {},
   "source": [
    "- 如果我们解码这些标记，我们会发现这些与我们希望模型预测的目标标记相当不同："
   ]
  },
  {
   "cell_type": "code",
   "execution_count": 18,
   "id": "b430c452-9f53-48a2-b3c4-e90d0fdb7c9b",
   "metadata": {},
   "outputs": [
    {
     "name": "stdout",
     "output_type": "stream",
     "text": [
      "Targets batch 1:  effort moves you\n",
      "Outputs batch 1:  Armed heNetflix\n"
     ]
    }
   ],
   "source": [
    "print(f\"Targets batch 1: {token_ids_to_text(targets[0], tokenizer)}\")\n",
    "print(f\"Outputs batch 1: {token_ids_to_text(token_ids[0].flatten(), tokenizer)}\")"
   ]
  },
  {
   "cell_type": "markdown",
   "id": "115da172-850f-43e9-a68d-f06f33e35a48",
   "metadata": {},
   "source": [
    "- 那是因为模型还没有经过训练。\n",
    "- 为了训练模型，我们需要知道它离正确预测（目标）有多远。"
   ]
  },
  {
   "cell_type": "markdown",
   "id": "e7fe7868-62b9-48b5-8245-ca8cd9b5c2e0",
   "metadata": {},
   "source": [
    "<img src=\"https://sebastianraschka.com/images/LLMs-from-scratch-images/ch05_compressed/proba-index.webp\" width=500px>"
   ]
  },
  {
   "cell_type": "markdown",
   "id": "cc4b2d43-c64a-47bc-a134-8ce69e414a9a",
   "metadata": {},
   "source": [
    "- 目标索引对应的标记概率如下："
   ]
  },
  {
   "cell_type": "code",
   "execution_count": 20,
   "id": "89a89e78-1944-4cd9-93b8-8cad188ef9c3",
   "metadata": {},
   "outputs": [
    {
     "name": "stdout",
     "output_type": "stream",
     "text": [
      "Text 1: tensor([7.4541e-05, 3.1061e-05, 1.1563e-05])\n",
      "Text 2: tensor([1.0337e-05, 5.6776e-05, 4.7559e-06])\n"
     ]
    }
   ],
   "source": [
    "text_idx = 0\n",
    "target_probas_1 = probas[text_idx, [0, 1, 2], targets[text_idx]]\n",
    "print(\"Text 1:\", target_probas_1)\n",
    "\n",
    "text_idx = 1\n",
    "target_probas_2 = probas[text_idx, [0, 1, 2], targets[text_idx]]\n",
    "print(\"Text 2:\", target_probas_2)"
   ]
  },
  {
   "cell_type": "markdown",
   "id": "a03f8f2f-056f-4ead-ad46-6d3e22b29cc0",
   "metadata": {},
   "source": [
    "- 我们希望最大化所有这些值，使它们接近1的概率。\n",
    "- 在数学优化中，最大化概率分数的对数比最大化概率分数本身更容易[L8.2 Logistic Regression Loss Function](https://www.youtube.com/watch?v=GxJe0DZvydM)"
   ]
  },
  {
   "cell_type": "code",
   "execution_count": 38,
   "id": "a528d62b-f6e2-41cd-90bd-9ed359eeaa8b",
   "metadata": {},
   "outputs": [
    {
     "name": "stdout",
     "output_type": "stream",
     "text": [
      "tensor([ -9.5042, -10.3796, -11.3677, -11.4798,  -9.7764, -12.2561])\n"
     ]
    }
   ],
   "source": [
    "log_probas = torch.log(torch.cat((target_probas_1, target_probas_2)))\n",
    "print(log_probas)"
   ]
  },
  {
   "cell_type": "markdown",
   "id": "43ddfb0a-5e71-423f-af30-11c4b24fffc9",
   "metadata": {},
   "source": [
    "- 接下来，我们计算平均对数概率："
   ]
  },
  {
   "cell_type": "code",
   "execution_count": 24,
   "id": "68993804-33b1-4894-9d9b-4866e95b6d9b",
   "metadata": {},
   "outputs": [
    {
     "name": "stdout",
     "output_type": "stream",
     "text": [
      "tensor(-10.7940)\n"
     ]
    }
   ],
   "source": [
    "# Calculate the average probability for each token\n",
    "avg_log_probas = torch.mean(log_probas)\n",
    "print(avg_log_probas)"
   ]
  },
  {
   "cell_type": "markdown",
   "id": "49d885fd-6816-4ab0-bc5c-b068d64d6af6",
   "metadata": {},
   "source": [
    "- 目标是通过优化模型权重，使这个平均对数概率尽可能大。\n",
    "- 由于对数的存在，最大可能的值是0，而我们目前离0还很远。"
   ]
  },
  {
   "cell_type": "markdown",
   "id": "3990e6bb-834f-4bbe-b197-ecf6f89d6183",
   "metadata": {},
   "source": [
    "- 在深度学习中，与其最大化平均对数概率，不如最小化负平均对数概率值，这是一种标准惯例；在我们的例子中，我们不会最大化-10.7940使其接近0，而是在深度学习中，我们会最小化10.7940使其接近0。\n",
    "- -10.7940的负值，即10.7940，也被称为深度学习中的交叉熵损失（cross-entropy loss）。"
   ]
  },
  {
   "cell_type": "code",
   "execution_count": 26,
   "id": "86f2cf12-21c6-4a42-98e2-ecc291d52851",
   "metadata": {},
   "outputs": [
    {
     "name": "stdout",
     "output_type": "stream",
     "text": [
      "tensor(10.7940)\n"
     ]
    }
   ],
   "source": [
    "neg_avg_log_probas = avg_log_probas * -1\n",
    "print(neg_avg_log_probas)"
   ]
  },
  {
   "cell_type": "markdown",
   "id": "c0c0c996-9f8d-4a68-80b0-246b11f7a62e",
   "metadata": {},
   "source": [
    "- PyTorch已经实现了一个`cross_entropy`函数，该函数执行了前面的步骤。"
   ]
  },
  {
   "cell_type": "markdown",
   "id": "71247e16-4519-4fe4-9d14-7b833a3716f5",
   "metadata": {},
   "source": [
    "<img src=\"https://sebastianraschka.com/images/LLMs-from-scratch-images/ch05_compressed/cross-entropy.webp?123\" width=400px>"
   ]
  },
  {
   "cell_type": "markdown",
   "id": "aae7e2c3-1729-4977-ad69-8373a2138e05",
   "metadata": {},
   "source": [
    "- 在我们应用`cross_entropy`函数之前，让我们检查一下logits（模型输出的原始分数）和targets（目标标签）的形状。"
   ]
  },
  {
   "cell_type": "code",
   "execution_count": 40,
   "id": "64c1a6ab-21c1-4543-84b1-e98b12517b97",
   "metadata": {},
   "outputs": [
    {
     "name": "stdout",
     "output_type": "stream",
     "text": [
      "Logits shape: torch.Size([2, 3, 50257])\n",
      "Targets shape: torch.Size([2, 3])\n"
     ]
    }
   ],
   "source": [
    "print(\"Logits shape:\", logits.shape)\n",
    "print(\"Targets shape:\", targets.shape)"
   ]
  },
  {
   "cell_type": "markdown",
   "id": "276b1720-0b2b-42e5-83f0-bc471f9df90d",
   "metadata": {},
   "source": [
    "- 在PyTorch中，对于`cross_entropy`函数，我们希望将这些张量在批次维度上合并以展平它们："
   ]
  },
  {
   "cell_type": "code",
   "execution_count": 32,
   "id": "66d75fdf-7911-42a0-91f8-15d7243401bf",
   "metadata": {},
   "outputs": [
    {
     "name": "stdout",
     "output_type": "stream",
     "text": [
      "Flattened logits: torch.Size([6, 50257])\n",
      "Flattened targets: torch.Size([6])\n"
     ]
    }
   ],
   "source": [
    "logits_flat = logits.flatten(0, 1)  # 将logits展平\n",
    "targets_flat = targets.flatten()  # 将目标展平\n",
    "print(\"Flattened logits:\", logits_flat.shape)  # 打印展平后的logits形状\n",
    "print(\"Flattened targets:\", targets_flat.shape)  # 打印展平后的目标形状"
   ]
  },
  {
   "cell_type": "markdown",
   "id": "f3404a83-5eb1-4748-9fd1-a22449baddcc",
   "metadata": {},
   "source": [
    "- 请注意，目标是标记ID，它们也代表在logits张量中我们想要最大化的索引位置。\n",
    "- PyTorch中的`cross_entropy`函数会自动处理对logits中要最大化的标记索引应用softmax和对数概率计算。"
   ]
  },
  {
   "cell_type": "code",
   "execution_count": 34,
   "id": "38ce2d7d-040a-43dc-acf5-2d32b2b5b991",
   "metadata": {},
   "outputs": [
    {
     "name": "stdout",
     "output_type": "stream",
     "text": [
      "tensor(10.7940)\n"
     ]
    }
   ],
   "source": [
    "loss = torch.nn.functional.cross_entropy(logits_flat, targets_flat)\n",
    "print(loss)"
   ]
  },
  {
   "cell_type": "markdown",
   "id": "847d2267-f494-4de6-91f9-41d10f442eb4",
   "metadata": {},
   "source": [
    "- 与交叉熵损失相关的概念是大型语言模型（LLM）的困惑度（perplexity）。\n",
    "- 困惑度简单地说是交叉熵损失的指数。"
   ]
  },
  {
   "cell_type": "code",
   "execution_count": 36,
   "id": "39c163ca-e617-4a73-964c-c92a1191e159",
   "metadata": {},
   "outputs": [
    {
     "name": "stdout",
     "output_type": "stream",
     "text": [
      "tensor(48725.8203)\n"
     ]
    }
   ],
   "source": [
    "perplexity = torch.exp(loss)\n",
    "print(perplexity)"
   ]
  },
  {
   "cell_type": "markdown",
   "id": "d5194ced-5a5a-44a3-9ed0-5805064e1c3d",
   "metadata": {},
   "source": [
    "- 困惑度通常被认为更易于解释，因为它可以被理解为模型在每一步不确定的有效词汇量大小（在上面的例子中，这将是48,725个单词或标记）。\n",
    "- 换句话说，困惑度提供了一个衡量模型预测的概率分布与数据集中单词实际分布匹配程度的指标。\n",
    "- 与损失函数类似，较低的困惑度表明模型预测更接近实际分布。"
   ]
  },
  {
   "cell_type": "markdown",
   "id": "aa37fc8a-eef0-4a0d-a870-d4f8274321fe",
   "metadata": {},
   "source": [
    "### 5.1.3 Calculating the training and validation set losses"
   ]
  },
  {
   "cell_type": "markdown",
   "id": "c91d4041-2361-4ba7-9041-a281c57e38d7",
   "metadata": {},
   "source": [
    "- 我们使用一个相对较小的数据集（一个短篇故事）来训练大型语言模型。\n",
    "- 原因如下:\n",
    "  - 你可以在没有合适GPU的笔记本电脑上在几分钟内运行这些代码示例。\n",
    "  - 训练相对较快完成（几分钟而不是几周）。\n",
    "  - 我们使用公共领域的文本，这些文本可以包含在这个GitHub仓库中，而不会违反任何使用权或使仓库大小膨胀。\n",
    "\n",
    "- 例如，训练一个拥有70亿参数的Llama 2模型，该模型在A100 GPU上需要184,320个GPU小时，处理2万亿词元。\n",
    "  - 在撰写本文时，AWS上8xA100云服务器的每小时成本大约为30美元。\n",
    "  - 因此，通过粗略计算，训练这个大型语言模型的成本大约为690000美元。\n",
    "\n",
    " \n",
    "- 以下代码加载我们在第2章中使用的\"The Verdict\"短篇小说："
   ]
  },
  {
   "cell_type": "code",
   "execution_count": 33,
   "id": "af7f5777-ee45-4ed2-824a-bd4a405c8c99",
   "metadata": {},
   "outputs": [],
   "source": [
    "file_path = \"the-verdict.txt\"  # 文件路径\n",
    "with open(file_path, \"r\", encoding=\"utf-8\") as file:  # 以读模式打开文件\n",
    "    text_data = file.read()  # 读取文件内容"
   ]
  },
  {
   "cell_type": "markdown",
   "id": "0a3ec2aa-911a-4354-94fb-c0f5e2d0444f",
   "metadata": {},
   "source": [
    "- 通过打印前100个和最后100个单词来快速检查文本是否加载正常。"
   ]
  },
  {
   "cell_type": "code",
   "execution_count": 15,
   "id": "f796da3f-7552-4e90-84ee-fc40e8ec8e90",
   "metadata": {},
   "outputs": [
    {
     "name": "stdout",
     "output_type": "stream",
     "text": [
      "I HAD always thought Jack Gisburn rather a cheap genius--though a good fellow enough--so it was no \n"
     ]
    }
   ],
   "source": [
    "print(text_data[:99])"
   ]
  },
  {
   "cell_type": "code",
   "execution_count": 44,
   "id": "5983126e-eb4e-4e9c-9abf-27ce24bc4f8e",
   "metadata": {},
   "outputs": [
    {
     "name": "stdout",
     "output_type": "stream",
     "text": [
      "it for me! The Strouds stand alone, and happen once--but there's no exterminating our kind of art.\"\n"
     ]
    }
   ],
   "source": [
    "print(text_data[-99:])"
   ]
  },
  {
   "cell_type": "code",
   "execution_count": 46,
   "id": "dfcdbd9f-8c2e-4e62-a725-79dbd5ba02f1",
   "metadata": {},
   "outputs": [
    {
     "name": "stdout",
     "output_type": "stream",
     "text": [
      "Characters: 20479\n",
      "Tokens: 5145\n"
     ]
    }
   ],
   "source": [
    "total_characters = len(text_data)\n",
    "total_tokens = len(tokenizer.encode(text_data))\n",
    "\n",
    "print(\"Characters:\", total_characters)\n",
    "print(\"Tokens:\", total_tokens)"
   ]
  },
  {
   "cell_type": "markdown",
   "id": "da399902-abeb-490e-bf63-e9a07457618c",
   "metadata": {},
   "source": [
    "- 只有5145个词元，这段文本可能看起来太小，不适合训练LLM，但如前所述，这是为了教育目的，以便我们可以在几分钟内运行代码，而不是几周。\n",
    "- 此外，我们将在本章末尾从OpenAI加载预训练权重到我们的GPTModel代码中。"
   ]
  },
  {
   "cell_type": "markdown",
   "id": "8c4b1c91-ca4e-4f79-b024-4ec8d061d4ea",
   "metadata": {},
   "source": [
    "- 接下来，我们将数据集划分为训练集和验证集，并使用第2章中的数据加载器为LLM训练准备批次。\n",
    "- 为了可视化目的，下图假设`max_length=6`，但对于训练加载器，我们将`max_length`设置为LLM支持的上下文长度。\n",
    "- 下图仅显示输入标记，以简化说明。\n",
    "    - 由于我们训练LLM来预测文本中的下一个单词，目标看起来与这些输入相同，只是目标在位置上向后移动了一个位置。"
   ]
  },
  {
   "cell_type": "markdown",
   "id": "a71b5dba-6d03-47d9-9b6f-b0d23c361cce",
   "metadata": {},
   "source": [
    "<img src=\"https://sebastianraschka.com/images/LLMs-from-scratch-images/ch05_compressed/batching.webp\" width=500px>"
   ]
  },
  {
   "cell_type": "code",
   "execution_count": 35,
   "id": "61256e74-4384-4938-8844-f1ef24b01e4a",
   "metadata": {},
   "outputs": [],
   "source": [
    "from previous_chapters import create_dataloader_v1\n",
    "import torch \n",
    "\n",
    "train_ratio = 0.90  # 训练集比例\n",
    "split_idx = int(train_ratio * len(text_data))  # 计算分割索引\n",
    "train_data = text_data[:split_idx]  # 获取训练数据\n",
    "val_data = text_data[split_idx:]  # 获取验证数据\n",
    "\n",
    "torch.manual_seed(123)  # 设置随机种子\n",
    "\n",
    "train_loader = create_dataloader_v1(\n",
    "    train_data,  # 训练数据\n",
    "    batch_size=2,  # 批大小\n",
    "    max_length=GPT_CONFIG_124M[\"context_length\"],  # 最大长度\n",
    "    stride=GPT_CONFIG_124M[\"context_length\"],  # 步幅\n",
    "    drop_last=True,  # 丢弃最后一个不完整批次\n",
    "    shuffle=True,  # 是否打乱数据\n",
    "    num_workers=0  # 工作线程数\n",
    ")\n",
    "\n",
    "val_loader = create_dataloader_v1(\n",
    "    val_data,  # 验证数据\n",
    "    batch_size=2,\n",
    "    max_length=GPT_CONFIG_124M[\"context_length\"],\n",
    "    stride=GPT_CONFIG_124M[\"context_length\"],\n",
    "    drop_last=False,\n",
    "    shuffle=False,\n",
    "    num_workers=0\n",
    ")"
   ]
  },
  {
   "cell_type": "markdown",
   "id": "89e71cf1-6e74-4606-b62c-630c6fb8ab35",
   "metadata": {},
   "source": [
    "- 我们使用相对较小的批次大小来减少计算资源需求，而且数据集本身非常小。\n",
    "- 例如，Llama 2是使用1024的批次大小进行训练的。"
   ]
  },
  {
   "cell_type": "markdown",
   "id": "d4ee4ed1-b73d-4502-806c-8487ce341bce",
   "metadata": {},
   "source": [
    "- 作为可选检查，我们可以遍历数据加载器，以确保它们已正确创建："
   ]
  },
  {
   "cell_type": "code",
   "execution_count": 50,
   "id": "e6dbbb70-bf1b-4bb9-9ff7-02879a92b420",
   "metadata": {},
   "outputs": [
    {
     "name": "stdout",
     "output_type": "stream",
     "text": [
      "Train loader:\n",
      "torch.Size([2, 256]) torch.Size([2, 256])\n",
      "torch.Size([2, 256]) torch.Size([2, 256])\n",
      "torch.Size([2, 256]) torch.Size([2, 256])\n",
      "torch.Size([2, 256]) torch.Size([2, 256])\n",
      "torch.Size([2, 256]) torch.Size([2, 256])\n",
      "torch.Size([2, 256]) torch.Size([2, 256])\n",
      "torch.Size([2, 256]) torch.Size([2, 256])\n",
      "torch.Size([2, 256]) torch.Size([2, 256])\n",
      "torch.Size([2, 256]) torch.Size([2, 256])\n",
      "\n",
      "Validation loader:\n",
      "torch.Size([2, 256]) torch.Size([2, 256])\n"
     ]
    }
   ],
   "source": [
    "print(\"Train loader:\")  # 打印训练加载器\n",
    "for x, y in train_loader:\n",
    "    print(x.shape, y.shape)  # 打印每个批次的形状\n",
    "\n",
    "print(\"\\nValidation loader:\")  # 打印验证加载器\n",
    "for x, y in val_loader:\n",
    "    print(x.shape, y.shape)  # 打印每个批次的形状"
   ]
  },
  {
   "cell_type": "markdown",
   "id": "fbc3cc66-a732-4359-929e-34bce46fab0f",
   "metadata": {},
   "source": [
    "- 根据前面的代码输出，我们有9个训练集批次，每个批次包含2个样本和256个词元。\n",
    "- 由于我们只分配了10%的数据进行验证，因此只有一个由2个输入示例组成的验证批次。\n",
    "- 如预期的那样，输入数据（x）和目标数据（y）具有相同的形状（批大小乘以每个批次中的词元数），因为目标是将输入偏移一个位置。"
   ]
  },
  {
   "cell_type": "markdown",
   "id": "1e398766-acf0-4155-9aee-5428d90194e4",
   "metadata": {},
   "source": [
    "- 另一个可选的检查，以确保标记大小在预期的范围内："
   ]
  },
  {
   "cell_type": "code",
   "execution_count": 52,
   "id": "496c2993-e26c-4254-b1c4-674c57692145",
   "metadata": {},
   "outputs": [
    {
     "name": "stdout",
     "output_type": "stream",
     "text": [
      "Training tokens: 4608\n",
      "Validation tokens: 512\n",
      "All tokens: 5120\n"
     ]
    }
   ],
   "source": [
    "train_tokens = 0\n",
    "for input_batch, target_batch in train_loader:\n",
    "    train_tokens += input_batch.numel()\n",
    "\n",
    "val_tokens = 0\n",
    "for input_batch, target_batch in val_loader:\n",
    "    val_tokens += input_batch.numel()\n",
    "\n",
    "print(\"Training tokens:\", train_tokens)\n",
    "print(\"Validation tokens:\", val_tokens)\n",
    "print(\"All tokens:\", train_tokens + val_tokens)"
   ]
  },
  {
   "cell_type": "markdown",
   "id": "f8d18d53-4668-4401-bf13-3024ff51b379",
   "metadata": {},
   "source": [
    "- 接下来，我们实现一个实用函数，以计算通过训练和验证加载器返回的给定批次的交叉熵损失\n",
    "- 此外，我们实现了第二个实用函数，用于计算数据加载器中用户指定数量批次的损失。"
   ]
  },
  {
   "cell_type": "code",
   "execution_count": 37,
   "id": "2ed20151-deb3-4065-a09d-23eb801b9375",
   "metadata": {},
   "outputs": [],
   "source": [
    "def calc_loss_batch(input_batch, target_batch, model, device):  # 定义计算批次损失的函数\n",
    "    input_batch, target_batch = input_batch.to(device), target_batch.to(device)  # 将输入和目标批次转移到设备上\n",
    "    logits = model(input_batch)  # 模型计算logits\n",
    "    loss = torch.nn.functional.cross_entropy(  # 计算交叉熵损失\n",
    "        logits.flatten(0, 1), target_batch.flatten()  # 展平logits和目标批次\n",
    "    )\n",
    "    return loss  # 返回损失\n",
    "\n",
    "def calc_loss_loader(data_loader, model, device, num_batches=None):  # 定义计算加载器损失的函数\n",
    "    total_loss = 0.  # 初始化总损失为0\n",
    "    if len(data_loader) == 0:  # 如果加载器为空\n",
    "        return float(\"nan\")  # 返回NaN\n",
    "    elif num_batches is None:  # 如果未指定批次数\n",
    "        num_batches = len(data_loader)  # 使用加载器中的批次数\n",
    "    else:\n",
    "        num_batches = min(num_batches, len(data_loader))  # 限制批次数为加载器中的批次数\n",
    "    for i, (input_batch, target_batch) in enumerate(data_loader):  # 遍历加载器中的批次\n",
    "        if i < num_batches:  # 如果未达到指定批次数\n",
    "            loss = calc_loss_batch(input_batch, target_batch, model, device)  # 计算批次损失\n",
    "            total_loss += loss.item()  # 累加损失\n",
    "        else:\n",
    "            break  # 超过指定批次数则退出\n",
    "    return total_loss / num_batches  # 返回平均损失"
   ]
  },
  {
   "cell_type": "markdown",
   "id": "fbb79770-3790-4933-bb4f-d032307bb754",
   "metadata": {},
   "source": [
    "- 默认情况下，calc_loss_batch函数遍历给定数据加载器中的所有批次，将损失累加到total_loss变量中，然后计算并平均所有批次的损失。\n",
    "- 或者，我们可以通过num_batches指定较小的批次数，以加快模型训练期间的评估。"
   ]
  },
  {
   "cell_type": "markdown",
   "id": "0519b99d-b17f-4c60-93e6-2813fbe68ec8",
   "metadata": {},
   "source": [
    "现在让我们来看一下这个calc_loss_batch函数的实际应用，将其应用于训练和验证集加载器："
   ]
  },
  {
   "cell_type": "code",
   "execution_count": 39,
   "id": "5abe70ab-caeb-4f69-9c16-6ea6f71f36f7",
   "metadata": {},
   "outputs": [
    {
     "name": "stdout",
     "output_type": "stream",
     "text": [
      "Training loss: 10.98758347829183\n",
      "Validation loss: 10.981106758117676\n"
     ]
    }
   ],
   "source": [
    "device = torch.device(\"cuda\" if torch.cuda.is_available() else \"cpu\")\n",
    "\n",
    "model.to(device) \n",
    "\n",
    "\n",
    "torch.manual_seed(123) \n",
    "\n",
    "with torch.no_grad():   #禁用梯度计算以提高效率\n",
    "    train_loss = calc_loss_loader(train_loader, model, device) # 计算训练集损失\n",
    "    val_loss = calc_loss_loader(val_loader, model, device) # 计算验证集损失\n",
    "\n",
    "print(\"Training loss:\", train_loss)\n",
    "print(\"Validation loss:\", val_loss)"
   ]
  },
  {
   "cell_type": "markdown",
   "id": "65a6a182-c149-4c63-8530-85ca0ed8ed38",
   "metadata": {},
   "source": [
    "- 损失值相对较高，因为模型尚未训练。相比之下，如果模型学会生成训练和验证集中出现的下一个词元，损失将接近0。\n",
    "- 现在我们有了一种衡量生成文本质量的方法，在下一节中，我们训练LLM以减少这种损失，从而更好地生成文本"
   ]
  },
  {
   "cell_type": "markdown",
   "id": "2e5f3ba0-1d79-4f27-8796-500ee1562e20",
   "metadata": {},
   "source": [
    "<img src=\"https://sebastianraschka.com/images/LLMs-from-scratch-images/ch05_compressed/mental-model-1.webp\" width=400px>"
   ]
  },
  {
   "cell_type": "markdown",
   "id": "bc31c4bd-f3c0-49c2-80e8-abde8960a16e",
   "metadata": {},
   "source": [
    "## 5.2 Training an LLM"
   ]
  },
  {
   "cell_type": "markdown",
   "id": "3476b386-874e-4012-a6d3-78960f311f59",
   "metadata": {},
   "source": [
    "- 在这一节中，我们实现了训练LLM的代码。\n",
    "- 我们专注于一个简单的训练函数（如果您对使用更先进的技术增强这个训练函数感兴趣，如学习率预热、余弦退火和梯度裁剪，请参考附录D）。[Appendix D](../../appendix-D/01_main-chapter-code)\n",
    "\n",
    "<img src=\"https://sebastianraschka.com/images/LLMs-from-scratch-images/ch05_compressed/train-steps.webp\" width=300px>"
   ]
  },
  {
   "cell_type": "markdown",
   "id": "e538844d-4cdf-44f0-b084-ba378aae1488",
   "metadata": {},
   "source": [
    "- PyTorch中训练深度神经网络的典型训练循环包括几个步骤，在几个时期内迭代训练集中的批次。在每个循环中，我们计算每个训练集批次的损失以确定损失梯度，使用这些梯度来更新模型权重，从而使训练集损失最小化。\n",
    "- 流程图描述了一个典型的PyTorch神经网络训练工作流，我们用它来训练LLM。它概述了八个步骤，从迭代每个周期、处理批次、重置和计算梯度、更新权重，到以打印损失和生成文本示例等监控步骤结束。"
   ]
  },
  {
   "cell_type": "code",
   "execution_count": 41,
   "id": "4294acd3-8fbf-44d1-8ecf-53012b425e39",
   "metadata": {},
   "outputs": [],
   "source": [
    "def train_model_simple(model, train_loader, val_loader, optimizer, device, num_epochs,\n",
    "                       eval_freq, eval_iter, start_context, tokenizer):\n",
    "    train_losses, val_losses, track_tokens_seen = [], [], []  # 初始化列表以跟踪损失和看到的词元\n",
    "    tokens_seen, global_step = 0, -1  # 初始化词元计数和全局步数\n",
    "\n",
    "    for epoch in range(num_epochs):  # 开始主要训练循环\n",
    "        model.train()  # 设置模型为训练模式\n",
    "        \n",
    "        for input_batch, target_batch in train_loader:  # 遍历训练数据\n",
    "            optimizer.zero_grad() # 重置前一批次迭代的梯度\n",
    "            loss = calc_loss_batch(input_batch, target_batch, model, device) # 计算批次损失\n",
    "            loss.backward() #  计算损失梯度\n",
    "            optimizer.step() # 使用损失梯度更新模型权重\n",
    "            tokens_seen += input_batch.numel()  \n",
    "            global_step += 1\n",
    "\n",
    "            if global_step % eval_freq == 0:  # 可选的评估步骤\n",
    "                train_loss, val_loss = evaluate_model(  # 评估模型性能\n",
    "                    model, train_loader, val_loader, device, eval_iter)\n",
    "                train_losses.append(train_loss)  # 添加训练损失到列表\n",
    "                val_losses.append(val_loss)  # 添加验证损失到列表\n",
    "                track_tokens_seen.append(tokens_seen)  # 记录看到的词元数\n",
    "                print(f\"Ep {epoch+1} (Step {global_step:06d}): \"  # 打印当前训练信息\n",
    "                      f\"Train loss {train_loss:.3f}, Val loss {val_loss:.3f}\")\n",
    "        generate_and_print_sample(  # 生成并打印样本\n",
    "            model, tokenizer, device, start_context\n",
    "        )\n",
    "\n",
    "    return train_losses, val_losses, track_tokens_seen  # 返回训练和验证损失及词元计数\n",
    "\n",
    "\n",
    "def evaluate_model(model, train_loader, val_loader, device, eval_iter):\n",
    "    model.eval()  # 设置模型为评估模式\n",
    "    with torch.no_grad():  # 禁用梯度跟踪\n",
    "        train_loss = calc_loss_loader(train_loader, model, device, num_batches=eval_iter)   # 计算训练集损失\n",
    "        val_loss = calc_loss_loader(val_loader, model, device, num_batches=eval_iter)   # 计算验证集损失\n",
    "    model.train()  # 设置模型为训练模式\n",
    "    return train_loss, val_loss  # 返回训练和验证损失\n",
    "\n",
    "\n",
    "def generate_and_print_sample(model, tokenizer, device, start_context):\n",
    "    model.eval()\n",
    "    context_size = model.pos_emb.weight.shape[0]  # 获取上下文大小\n",
    "    encoded = text_to_token_ids(start_context, tokenizer).to(device)   # 将文本转换为词元ID并移动到设备\n",
    "    with torch.no_grad():\n",
    "        token_ids = generate_text_simple(  # 生成文本词元ID\n",
    "            model=model, idx=encoded,\n",
    "            max_new_tokens=50, context_size=context_size\n",
    "        )\n",
    "    decoded_text = token_ids_to_text(token_ids, tokenizer)  # 将词元ID转换为文本\n",
    "    print(decoded_text.replace(\"\\n\", \" \"))  # 打印生成的文本，以紧凑格式显示\n",
    "    model.train()"
   ]
  },
  {
   "cell_type": "markdown",
   "id": "84560a04-2c6c-4aaf-a846-a142cc9f903d",
   "metadata": {},
   "source": [
    "- Adam优化器是训练深度神经网络的常用选择。\n",
    "- AdamW是Adam的一种变体，它改进了权重衰减方法，旨在通过惩罚较大的权重来最小化模型复杂性并防止过拟合。\n",
    "- 这一调整使得AdamW能够实现更有效的正则化和更好的泛化，因此在LLMs的训练中经常使用。"
   ]
  },
  {
   "cell_type": "markdown",
   "id": "00955e5b-4402-4805-998c-ee2a69b040d0",
   "metadata": {},
   "source": [
    "- 让我们通过使用AdamW优化器和之前定义的train_model_simple函数训练一个GPTModel实例10个周期来实际演示这一切。"
   ]
  },
  {
   "cell_type": "code",
   "execution_count": 43,
   "id": "afb53378-af69-4be3-985f-d82e987f7a76",
   "metadata": {},
   "outputs": [
    {
     "name": "stdout",
     "output_type": "stream",
     "text": [
      "Ep 1 (Step 000000): Train loss 9.830, Val loss 9.927\n",
      "Ep 1 (Step 000005): Train loss 8.133, Val loss 8.335\n",
      "Every effort moves you,,,,,,,,,,,,.                                     \n",
      "Ep 2 (Step 000010): Train loss 6.770, Val loss 7.048\n",
      "Ep 2 (Step 000015): Train loss 6.497, Val loss 6.573\n",
      "Every effort moves you, and,, and, and,,,,, and, and,,,,,,,,,,,,,, and,,,, and,, and,,,,, and,,,,,,\n",
      "Ep 3 (Step 000020): Train loss 5.579, Val loss 6.490\n",
      "Ep 3 (Step 000025): Train loss 4.732, Val loss 6.387\n",
      "Every effort moves you, and to the picture.                      \"I, and the of the of the's the honour, and, and I had been, and I\n",
      "Ep 4 (Step 000030): Train loss 5.284, Val loss 6.360\n",
      "Ep 4 (Step 000035): Train loss 3.855, Val loss 6.258\n",
      "Every effort moves you of the to the picture--as of the picture--as I had been \" it was his \" I was the     \"I was his I had been the his pictures--and it the picture and I had been the picture of\n",
      "Ep 5 (Step 000040): Train loss 3.667, Val loss 6.196\n",
      "Every effort moves you know the \"Oh, and he was not the fact by his last word.         \"I was.      \"Oh, I felt a little a little the    \n",
      "Ep 6 (Step 000045): Train loss 3.600, Val loss 6.139\n",
      "Ep 6 (Step 000050): Train loss 2.383, Val loss 6.112\n",
      "Every effort moves you know; and my dear, and he was not the fact with a little of the house of the fact of the fact, and.                       \n",
      "Ep 7 (Step 000055): Train loss 2.336, Val loss 6.138\n",
      "Ep 7 (Step 000060): Train loss 2.696, Val loss 6.179\n",
      "Every effort moves you know,\" was one of the picture for nothing--I told Mrs.  \"I looked--as of the fact, and I felt him--his back his head to the donkey. \"Oh, and_--because he had always _\n",
      "Ep 8 (Step 000065): Train loss 1.596, Val loss 6.176\n",
      "Ep 8 (Step 000070): Train loss 1.346, Val loss 6.178\n",
      "Every effort moves you?\" \"I didn't bear the picture--I told me.  \"I looked up, and went on groping and Mrs. I was back the head to look up at the honour being _mine_--because he was when I\n",
      "Ep 9 (Step 000075): Train loss 1.100, Val loss 6.277\n",
      "Ep 9 (Step 000080): Train loss 0.672, Val loss 6.281\n",
      "Every effort moves you?\"  \"Yes--quite insensible to the irony. She wanted him vindicated--and by me!\"  He laughed again, and threw back his head to look up at the sketch of the donkey. \"There were days when I\n",
      "Ep 10 (Step 000085): Train loss 0.531, Val loss 6.325\n",
      "Every effort moves you?\"  \"Yes--quite insensible to the irony. She wanted him vindicated--and by me!\"  He laughed again, and threw back his head to the donkey again. I saw that, and down the room, when I\n"
     ]
    }
   ],
   "source": [
    "torch.manual_seed(123)  # 设置随机种子\n",
    "model = GPTModel(GPT_CONFIG_124M)  # 初始化模型\n",
    "model.to(device)  # 将模型移动到设备\n",
    "optimizer = torch.optim.AdamW(model.parameters(), lr=0.0004, weight_decay=0.1)  # 使用AdamW优化器\n",
    "num_epochs = 10  # 训练周期数\n",
    "train_losses, val_losses, tokens_seen = train_model_simple(  # 调用train_model_simple函数\n",
    "    model, train_loader, val_loader, optimizer, device,\n",
    "    num_epochs=num_epochs, eval_freq=5, eval_iter=1,\n",
    "    start_context=\"Every effort moves you\", tokenizer=tokenizer\n",
    ")"
   ]
  },
  {
   "cell_type": "markdown",
   "id": "d7a537c5-08e1-496f-b92e-f50ef70ff792",
   "metadata": {},
   "source": [
    "- 根据训练期间打印的结果，训练损失显著改善，从9.830开始收敛到0.531。模型的语言技能大大提高。\n",
    "- 起初，模型只能在起始上下文（“Every effort moves you”）后附加逗号或重复“and”这个词。在训练结束时，它可以生成语法正确的文本。\n",
    "- 与训练集损失相似，我们可以看到验证损失开始时很高（9.927），并在训练过程中逐渐减少。然而，它从未变得像训练集损失那样小，并在第10周期后保持在6.325。"
   ]
  },
  {
   "cell_type": "code",
   "execution_count": 64,
   "id": "a1af239f-12a6-4a8c-b3ba-4203be865f7f",
   "metadata": {},
   "outputs": [
    {
     "data": {
      "image/png": "[encoded data removed]",
      "text/plain": [
       "<Figure size 500x300 with 2 Axes>"
      ]
     },
     "metadata": {},
     "output_type": "display_data"
    }
   ],
   "source": [
    "import os\n",
    "os.environ['KMP_DUPLICATE_LIB_OK']='True'\n",
    "\n",
    "import matplotlib.pyplot as plt\n",
    "from matplotlib.ticker import MaxNLocator\n",
    "\n",
    "\n",
    "def plot_losses(epochs_seen, tokens_seen, train_losses, val_losses):\n",
    "    fig, ax1 = plt.subplots(figsize=(5, 3))\n",
    "\n",
    "    # Plot training and validation loss against epochs\n",
    "    ax1.plot(epochs_seen, train_losses, label=\"Training loss\")\n",
    "    ax1.plot(epochs_seen, val_losses, linestyle=\"-.\", label=\"Validation loss\")\n",
    "    ax1.set_xlabel(\"Epochs\")\n",
    "    ax1.set_ylabel(\"Loss\")\n",
    "    ax1.legend(loc=\"upper right\")\n",
    "    ax1.xaxis.set_major_locator(MaxNLocator(integer=True))  # only show integer labels on x-axis\n",
    "\n",
    "    # Create a second x-axis for tokens seen\n",
    "    ax2 = ax1.twiny()  # Create a second x-axis that shares the same y-axis\n",
    "    ax2.plot(tokens_seen, train_losses, alpha=0)  # Invisible plot for aligning ticks\n",
    "    ax2.set_xlabel(\"Tokens seen\")\n",
    "\n",
    "    fig.tight_layout()  # Adjust layout to make room\n",
    "    plt.savefig(\"loss-plot.pdf\")\n",
    "    plt.show()\n",
    "\n",
    "epochs_tensor = torch.linspace(0, num_epochs, len(train_losses))\n",
    "plot_losses(epochs_tensor, tokens_seen, train_losses, val_losses)\n"
   ]
  },
  {
   "cell_type": "markdown",
   "id": "425e217f-7854-4544-b224-27cb6611bf1c",
   "metadata": {},
   "source": [
    "- 从上面的结果可以看出，模型开始时生成的是一串无法理解的单词，而到了后期，它能够产生语法上或多或少正确的句子。\n",
    "- 然而，根据训练和验证集的损失，我们可以看到模型开始过拟合。\n",
    "- 如果我们检查它在训练结束时写的几段文字，我们会发现自己的写作完全照搬了训练集——它只是简单地记住了训练数据。\n",
    "- 稍后，我们将介绍可以一定程度上减轻这种记忆的解码策略。\n",
    "- 请注意，这里的过拟合发生是因为我们有一个非常非常小的训练集，并且我们多次迭代它。\n",
    "  - 这里的LLM训练主要是为了教育目的；我们主要想看到模型能够学会产生连贯的文本。\n",
    "  - 我们不是花几周或几个月的时间在大量昂贵的硬件上训练这个模型，而是稍后加载预训练的权重。"
   ]
  },
  {
   "cell_type": "markdown",
   "id": "dfcb2eb6-1701-41c2-b7ed-0897d86a94ec",
   "metadata": {},
   "source": [
    "<img src=\"https://sebastianraschka.com/images/LLMs-from-scratch-images/ch05_compressed/mental-model-2.webp\" width=350px>"
   ]
  },
  {
   "cell_type": "markdown",
   "id": "03086749-7d71-41af-8c98-1ebd53352580",
   "metadata": {},
   "source": [
    "## 5.3 Decoding strategies to control randomness"
   ]
  },
  {
   "cell_type": "markdown",
   "id": "71066005-af5e-4b84-9cb3-85935af9a712",
   "metadata": {},
   "source": [
    "- 先将模型从GPU传回CPU，因为相对较小的模型推理不需要GPU。\n",
    "- 使用我们在前一章中使用过的`generate_text_simple`函数（简单训练函数内部），我们可以一次生成一个单词（或标记）的新文本。\n",
    "- 如第5.1.2节所解释的，下一个生成的标记是词汇表中所有标记中概率分数最大的标记对应的标记。"
   ]
  },
  {
   "cell_type": "code",
   "execution_count": 66,
   "id": "b4828875-b906-483b-8d82-dcc20bb257e5",
   "metadata": {},
   "outputs": [
    {
     "name": "stdout",
     "output_type": "stream",
     "text": [
      "Output text:\n",
      " Every effort moves you?\"\n",
      "\n",
      "\"Yes--quite insensible to the irony. She wanted him vindicated--and by me!\"\n",
      "\n",
      "\n"
     ]
    }
   ],
   "source": [
    "model.to(\"cpu\")  # 将模型移至CPU\n",
    "model.eval()  # 设置模型为评估模式\n",
    "\n",
    "tokenizer = tiktoken.get_encoding(\"gpt2\")  # 获取词元编码器\n",
    "token_ids = generate_text_simple(  # 调用generate_text_simple函数生成词元\n",
    "    model=model,\n",
    "    idx=text_to_token_ids(\"Every effort moves you\", tokenizer),  # 将文本转换为词元ID\n",
    "    max_new_tokens=25,  # 最大生成词元数为25\n",
    "    context_size=GPT_CONFIG_124M[\"context_length\"]  # 上下文大小为GPT_CONFIG_124M的context_length\n",
    ")\n",
    "print(\"Output text:\\n\", token_ids_to_text(token_ids, tokenizer))  # 打印生成的文本\n"
   ]
  },
  {
   "cell_type": "markdown",
   "id": "596f0e27-3000-4018-9b22-319341cd39d0",
   "metadata": {},
   "source": [
    "- 即使我们多次执行上面的`generate_text_simple`函数，LLM也总是生成相同的输出。\n",
    "- 我们现在引入两个概念，即所谓的解码策略，来修改`generate_text_simple`：*温度缩放*和*top-k*采样。\n",
    "- 这些将允许模型控制生成文本的随机性和多样性。"
   ]
  },
  {
   "cell_type": "markdown",
   "id": "9add1f63-0ee8-4654-b4bd-321490b6c483",
   "metadata": {},
   "source": [
    "### 5.3.1 Temperature scaling"
   ]
  },
  {
   "cell_type": "markdown",
   "id": "8881fdbf-d70d-4b3e-be6c-c94b492613c7",
   "metadata": {},
   "source": [
    "- 之前，我们总是使用`torch.argmax`采样最高概率的标记作为下一个标记。\n",
    "- 为了增加多样性，我们可以使用`torch.multinomial(probs, num_samples=1)`从概率分布中采样下一个标记。\n",
    "- 在这里，每个索引被选中的机会对应于其在输入张量中的概率。"
   ]
  },
  {
   "cell_type": "markdown",
   "id": "0e6e5ca5-7789-4dd1-91cc-733b3089cb03",
   "metadata": {},
   "source": [
    "- 这是一个关于生成下一个标记的小回顾，假设一个非常小的词汇表用于说明目的："
   ]
  },
  {
   "cell_type": "code",
   "execution_count": 68,
   "id": "4c33d389-5ea0-4907-9d56-9cc08d4892bd",
   "metadata": {},
   "outputs": [
    {
     "name": "stdout",
     "output_type": "stream",
     "text": [
      "forward\n"
     ]
    }
   ],
   "source": [
    "vocab = {  # 定义词汇表\n",
    "    \"closer\": 0,\n",
    "    \"every\": 1,\n",
    "    \"effort\": 2,\n",
    "    \"forward\": 3,\n",
    "    \"inches\": 4,\n",
    "    \"moves\": 5,\n",
    "    \"pizza\": 6,\n",
    "    \"toward\": 7,\n",
    "    \"you\": 8,\n",
    "}\n",
    "inverse_vocab = {v: k for k, v in vocab.items()}  # 定义反向词汇表\n",
    "\n",
    "next_token_logits = torch.tensor(  # 定义下一个词元的logits\n",
    "    [4.51, 0.89, -1.90, 6.75, 1.63, -1.62, -1.89, 6.28, 1.79]\n",
    ")\n",
    "\n",
    "probas = torch.softmax(next_token_logits, dim=0)  # 将logits转换为概率\n",
    "next_token_id = torch.argmax(probas).item()  # 获取概率最大的词元ID\n",
    "print(inverse_vocab[next_token_id])  # 打印生成的词元\n"
   ]
  },
  {
   "cell_type": "code",
   "execution_count": 72,
   "id": "986cdb44-a4ba-4d14-90be-9743b45769ef",
   "metadata": {},
   "outputs": [
    {
     "name": "stdout",
     "output_type": "stream",
     "text": [
      "toward\n"
     ]
    }
   ],
   "source": [
    "torch.manual_seed(123)  # 设置随机种子\n",
    "next_token_id = torch.multinomial(probas, num_samples=1).item()  # 使用多项式分布采样\n",
    "print(inverse_vocab[next_token_id])  # 打印生成的词元"
   ]
  },
  {
   "cell_type": "markdown",
   "id": "9d3028be-cf07-4f43-ae7a-4a7af410f0f8",
   "metadata": {},
   "source": [
    "- 我们不是通过`torch.argmax`来确定最可能的标记，而是使用`torch.multinomial(probas, num_samples=1)`通过从softmax分布中采样来确定最可能的标记。\n",
    "- 为了说明目的，让我们看看当我们使用原始的softmax概率1,000次采样下一个标记时会发生什么："
   ]
  },
  {
   "cell_type": "code",
   "execution_count": 74,
   "id": "ff30f9b9-f5c0-443f-8762-509002e6c41e",
   "metadata": {},
   "outputs": [
    {
     "name": "stdout",
     "output_type": "stream",
     "text": [
      "71 x closer\n",
      "2 x every\n",
      "0 x effort\n",
      "544 x forward\n",
      "2 x inches\n",
      "1 x moves\n",
      "0 x pizza\n",
      "376 x toward\n",
      "4 x you\n"
     ]
    }
   ],
   "source": [
    "def print_sampled_tokens(probas): \n",
    "    torch.manual_seed(123)  # 设置随机种子\n",
    "    sample = [torch.multinomial(probas, num_samples=1).item() for i in range(1_000)]  # 进行1000次采样\n",
    "    sampled_ids = torch.bincount(torch.tensor(sample))  # 计算每个词元的出现频率\n",
    "    for i, freq in enumerate(sampled_ids):  # 遍历词元频率\n",
    "        print(f\"{freq} x {inverse_vocab[i]}\")  # 打印词元及其出现频率\n",
    "        \n",
    "print_sampled_tokens(probas)  # 调用print_sampled_tokens函数"
   ]
  },
  {
   "cell_type": "markdown",
   "id": "b20831bd-1b26-4a62-91b3-256bc24cc994",
   "metadata": {},
   "source": [
    "- 我们可以通过一个称为温度缩放的概念来控制分布和选择过程。\n",
    "- “温度缩放”只是一个花哨的词，意味着将logits除以一个大于0的数字。\n",
    "- 大于1的温度将在应用softmax后导致更均匀分布的标记概率。\n",
    "- 小于1的温度将在应用softmax后导致更尖锐或更高峰的分布。"
   ]
  },
  {
   "cell_type": "code",
   "execution_count": 76,
   "id": "c4c2771b-38db-47be-9f80-dfd4cc82be15",
   "metadata": {},
   "outputs": [
    {
     "data": {
      "image/png": "[encoded data removed]",
      "text/plain": [
       "<Figure size 500x300 with 1 Axes>"
      ]
     },
     "metadata": {},
     "output_type": "display_data"
    }
   ],
   "source": [
    "def softmax_with_temperature(logits, temperature):  # 定义带温度的softmax函数\n",
    "    scaled_logits = logits / temperature  # 对logits进行温度缩放\n",
    "    return torch.softmax(scaled_logits, dim=0)  # 返回softmax结果\n",
    "temperatures = [1, 0.1, 5]  #A 定义温度列表\n",
    "scaled_probas = [softmax_with_temperature(next_token_logits, T) for T in temperatures]  # 对每个温度计算缩放后的概率\n",
    "x = torch.arange(len(vocab))  # 定义x轴刻度\n",
    "bar_width = 0.15  # 定义柱宽\n",
    "fig, ax = plt.subplots(figsize=(5, 3))  # 创建图形和子图\n",
    "for i, T in enumerate(temperatures):  # 遍历温度列表\n",
    "    rects = ax.bar(x + i * bar_width, scaled_probas[i],  # 绘制柱状图\n",
    "                   bar_width, label=f'Temperature = {T}')\n",
    "ax.set_ylabel('Probability')  # 设置y轴标签为“Probability”\n",
    "ax.set_xticks(x)  # 设置x轴刻度\n",
    "ax.set_xticklabels(vocab.keys(), rotation=90)  # 设置x轴刻度标签\n",
    "ax.legend()  # 显示图例\n",
    "plt.tight_layout()  # 调整子图布局\n",
    "plt.show()  # 显示图形"
   ]
  },
  {
   "cell_type": "markdown",
   "id": "26d18b56-2e1c-4e77-a059-ea000c72eb9e",
   "metadata": {},
   "source": [
    "- 我们可以看到，通过温度0.1的重新缩放导致了一个更尖锐的分布，接近torch.argmax，以至于最可能的单词几乎总是被选中："
   ]
  },
  {
   "cell_type": "code",
   "execution_count": 78,
   "id": "e163fbfb-4785-4ec6-8ecc-1d04c0684b7d",
   "metadata": {},
   "outputs": [
    {
     "name": "stdout",
     "output_type": "stream",
     "text": [
      "0 x closer\n",
      "0 x every\n",
      "0 x effort\n",
      "992 x forward\n",
      "0 x inches\n",
      "0 x moves\n",
      "0 x pizza\n",
      "8 x toward\n"
     ]
    }
   ],
   "source": [
    "print_sampled_tokens(scaled_probas[1])"
   ]
  },
  {
   "cell_type": "markdown",
   "id": "71f77691-e271-4cec-a30d-334cd40d92ca",
   "metadata": {},
   "source": [
    "- 通过温度5重新缩放的概率分布更加均匀："
   ]
  },
  {
   "cell_type": "code",
   "execution_count": 80,
   "id": "8d8417ec-c0e7-44b1-bdd2-7c1359b33a93",
   "metadata": {},
   "outputs": [
    {
     "name": "stdout",
     "output_type": "stream",
     "text": [
      "153 x closer\n",
      "68 x every\n",
      "55 x effort\n",
      "223 x forward\n",
      "102 x inches\n",
      "50 x moves\n",
      "43 x pizza\n",
      "218 x toward\n",
      "88 x you\n"
     ]
    }
   ],
   "source": [
    "print_sampled_tokens(scaled_probas[2])"
   ]
  },
  {
   "cell_type": "markdown",
   "id": "89f69bd8-2a68-4bf8-9089-635b9ea7fc6a",
   "metadata": {},
   "source": [
    "- 假设LLM输入为“every effort moves you”，使用上述方法有时会产生无意义的文本，例如“every effort moves you pizza”，占4.3%（1000次中的43次）。"
   ]
  },
  {
   "cell_type": "markdown",
   "id": "8892cf8f-40d7-4322-ba0a-ca3c67d81461",
   "metadata": {},
   "source": [
    "### 5.3.2 Top-k sampling"
   ]
  },
  {
   "cell_type": "markdown",
   "id": "cc601a1f-246f-47c1-827f-433994c76541",
   "metadata": {},
   "source": [
    "- 为了能够使用更高的温度来增加输出多样性并减少无意义句子的概率，我们可以将采样的标记限制在最可能的top-k个标记中："
   ]
  },
  {
   "cell_type": "markdown",
   "id": "0c8d9556-2aca-46cc-9ac7-b191895efb41",
   "metadata": {},
   "source": [
    "<img src=\"https://sebastianraschka.com/images/LLMs-from-scratch-images/ch05_compressed/topk.webp\" width=500px>\n",
    "\n",
    "- (请注意，为了减少视觉混乱，图中的数字被截断为小数点后两位。Softmax行中的值应该加起来等于1.0。\n",
    ")"
   ]
  },
  {
   "cell_type": "markdown",
   "id": "89d8c944-eea5-4237-a3fc-d0df056b2ab7",
   "metadata": {},
   "source": [
    "- 在代码中，我们可以这样实现："
   ]
  },
  {
   "cell_type": "code",
   "execution_count": 82,
   "id": "51237358-f242-474c-af4f-ad086eaaa9a8",
   "metadata": {},
   "outputs": [
    {
     "name": "stdout",
     "output_type": "stream",
     "text": [
      "Top logits: tensor([6.7500, 6.2800, 4.5100])\n",
      "Top positions: tensor([3, 7, 0])\n"
     ]
    }
   ],
   "source": [
    "top_k = 3  # 设置top-k为3\n",
    "top_logits, top_pos = torch.topk(next_token_logits, top_k)  # 选择具有最大logit值的词元\n",
    "print(\"Top logits:\", top_logits)  # 打印最大logit值\n",
    "print(\"Top positions:\", top_pos)  # 打印最大logit值的位置"
   ]
  },
  {
   "cell_type": "code",
   "execution_count": 84,
   "id": "dbd59912-f263-487f-801e-b20a7f25fe59",
   "metadata": {},
   "outputs": [
    {
     "name": "stdout",
     "output_type": "stream",
     "text": [
      "tensor([4.5100,   -inf,   -inf, 6.7500,   -inf,   -inf,   -inf, 6.2800,   -inf])\n"
     ]
    }
   ],
   "source": [
    "new_logits = torch.where(  # 使用where函数更新logits\n",
    "    condition=next_token_logits < top_logits[-1],  #A 确定小于top 3最小值的logits\n",
    "    input=torch.tensor(float('-inf')),  #B 将这些较低的logits赋值为-inf\n",
    "    other=next_token_logits  #C 其他词元保留原始logits\n",
    ")\n",
    "print(new_logits)  # 打印更新后的logits"
   ]
  },
  {
   "cell_type": "code",
   "execution_count": 86,
   "id": "860f5dea-d925-49d1-947a-6ae2697c4a33",
   "metadata": {},
   "outputs": [
    {
     "name": "stdout",
     "output_type": "stream",
     "text": [
      "tensor([0.0615, 0.0000, 0.0000, 0.5775, 0.0000, 0.0000, 0.0000, 0.3610, 0.0000])\n"
     ]
    }
   ],
   "source": [
    "topk_probas = torch.softmax(new_logits, dim=0)  # 对更新后的logits应用softmax函数\n",
    "print(topk_probas)  # 打印top-k概率"
   ]
  },
  {
   "cell_type": "markdown",
   "id": "27b9828f-7f03-430b-aea0-81064da7c59e",
   "metadata": {},
   "source": [
    "### 5.3.3 Modifying the text generation function"
   ]
  },
  {
   "cell_type": "markdown",
   "id": "b443182f-d104-450e-81eb-ef86d46781aa",
   "metadata": {},
   "source": [
    "- 前两个小节介绍了温度采样和top-k采样。\n",
    "- 让我们使用这两个概念来修改我们之前用来通过LLM生成文本的`generate_simple`函数，创建一个新的`generate`函数："
   ]
  },
  {
   "cell_type": "code",
   "execution_count": 88,
   "id": "28caf417-3a26-4d21-9d0a-86c634862e79",
   "metadata": {},
   "outputs": [],
   "source": [
    "def generate(model, idx, max_new_tokens, context_size,  # 定义生成函数\n",
    "             temperature=1.0, top_k=None, eos_id=None):\n",
    "    for _ in range(max_new_tokens):  #A 遍历最大新词元数\n",
    "        idx_cond = idx[-context_size:]  # 获取上下文\n",
    "        with torch.no_grad():  # 禁用梯度计算\n",
    "            logits = model(idx_cond)  # 获取模型的logits\n",
    "            logits = logits[:, -1, :]  # 只关注最后一个时间步的logits\n",
    "        if top_k is not None:  #B 在新部分中，使用top-k采样\n",
    "            top_logits, _ = torch.topk(logits, top_k)\n",
    "            min_val = top_logits[:, -1]\n",
    "            logits = torch.where(\n",
    "                logits < min_val,  #A 确定小于top 3最小值的logits\n",
    "                torch.tensor(float('-inf')).to(logits.device),  #B 将这些较低的logits赋值为-inf\n",
    "                logits  #C 其他词元保留原始logits\n",
    "            )\n",
    "\n",
    "        if temperature > 0.0:  #C 这是我们应用温度缩放的新部分\n",
    "            logits = logits / temperature  # 对logits进行温度缩放\n",
    "            probs = torch.softmax(logits, dim=-1)  # 应用softmax函数\n",
    "            idx_next = torch.multinomial(probs, num_samples=1)  # 使用多项式函数进行采样\n",
    "        else:\n",
    "            idx_next = torch.argmax(logits, dim=-1, keepdim=True)  #D 在禁用温度缩放时执行贪婪选择\n",
    "        if idx_next == eos_id:  #E 如果遇到序列结束词元且指定了eos_id，则提前终止生成\n",
    "            break\n",
    "        idx = torch.cat((idx, idx_next), dim=1)  # 将新词元添加到索引序列中\n",
    "    return idx  # 返回索引序列"
   ]
  },
  {
   "cell_type": "code",
   "execution_count": 90,
   "id": "c184be35-ba52-403c-b86c-3aadf23d5b2c",
   "metadata": {},
   "outputs": [
    {
     "name": "stdout",
     "output_type": "stream",
     "text": [
      "Output text:\n",
      " Every effort moves you know began to my surprise, a little it was the\n",
      "\"Ah enough\n"
     ]
    }
   ],
   "source": [
    "torch.manual_seed(123)  # 设置随机种子\n",
    "token_ids = generate(\n",
    "    model=model,\n",
    "    idx=text_to_token_ids(\"Every effort moves you\", tokenizer).to(device),  # 将文本转换为词元ID并移动到设备\n",
    "    max_new_tokens=15,  # 最大新词元数为15\n",
    "    context_size=GPT_CONFIG_124M[\"context_length\"],  # 上下文大小\n",
    "    top_k=25,  # top-k值为25\n",
    "    temperature=1.4  # 温度值为1.4\n",
    ")\n",
    "print(\"Output text:\\n\", token_ids_to_text(token_ids, tokenizer))  # 打印生成的文本"
   ]
  },
  {
   "cell_type": "markdown",
   "id": "ebad051f-2807-41ac-8009-d4598d45e9db",
   "metadata": {},
   "source": [
    "## 5.4 Loading and saving model weights in PyTorch"
   ]
  },
  {
   "cell_type": "markdown",
   "id": "1ea9cee0-9fe0-4e6c-bdb1-6fec13708507",
   "metadata": {},
   "source": [
    "- 训练LLMs在计算上很昂贵，因此能够保存和加载LLM权重至关重要。\n",
    "\n",
    "<img src=\"https://sebastianraschka.com/images/LLMs-from-scratch-images/ch05_compressed/mental-model-3.webp\" width=400px>"
   ]
  },
  {
   "cell_type": "markdown",
   "id": "d639eafc-1ac6-4157-beeb-fbc2249bb3ac",
   "metadata": {},
   "source": [
    "- PyTorch中推荐的方式是保存模型权重，即所谓的`state_dict`，通过将`torch.save`函数应用于`.state_dict()`方法来实现："
   ]
  },
  {
   "cell_type": "code",
   "execution_count": 92,
   "id": "ac9dd442-8180-4612-a8c5-5e9a14479681",
   "metadata": {},
   "outputs": [],
   "source": [
    "torch.save(model.state_dict(), \"model.pth\")  # 保存模型权重到model.pth文件"
   ]
  },
  {
   "cell_type": "markdown",
   "id": "32f7bda0-867b-4e79-9878-abdc62ab7959",
   "metadata": {},
   "source": [
    "- 然后，我们可以将模型权重加载到一个新的`GPTModel`模型实例中，如下所示："
   ]
  },
  {
   "cell_type": "code",
   "execution_count": 94,
   "id": "14d000d9-a820-4c50-ada6-357e8afda155",
   "metadata": {
    "scrolled": true
   },
   "outputs": [
    {
     "name": "stderr",
     "output_type": "stream",
     "text": [
      "C:\\Users\\xin123456\\AppData\\Local\\Temp\\ipykernel_3036\\1053747252.py:2: FutureWarning: You are using `torch.load` with `weights_only=False` (the current default value), which uses the default pickle module implicitly. It is possible to construct malicious pickle data which will execute arbitrary code during unpickling (See https://github.com/pytorch/pytorch/blob/main/SECURITY.md#untrusted-models for more details). In a future release, the default value for `weights_only` will be flipped to `True`. This limits the functions that could be executed during unpickling. Arbitrary objects will no longer be allowed to be loaded via this mode unless they are explicitly allowlisted by the user via `torch.serialization.add_safe_globals`. We recommend you start setting `weights_only=True` for any use case where you don't have full control of the loaded file. Please open an issue on GitHub for any issues related to this experimental feature.\n",
      "  model.load_state_dict(torch.load(\"model.pth\"))  # 加载保存的模型权重\n"
     ]
    },
    {
     "data": {
      "text/plain": [
       "GPTModel(\n",
       "  (tok_emb): Embedding(50257, 768)\n",
       "  (pos_emb): Embedding(256, 768)\n",
       "  (drop_emb): Dropout(p=0.1, inplace=False)\n",
       "  (trf_blocks): Sequential(\n",
       "    (0): TransformerBlock(\n",
       "      (att): MultiHeadAttention(\n",
       "        (W_query): Linear(in_features=768, out_features=768, bias=False)\n",
       "        (W_key): Linear(in_features=768, out_features=768, bias=False)\n",
       "        (W_value): Linear(in_features=768, out_features=768, bias=False)\n",
       "        (out_proj): Linear(in_features=768, out_features=768, bias=True)\n",
       "        (dropout): Dropout(p=0.1, inplace=False)\n",
       "      )\n",
       "      (ff): FeedForward(\n",
       "        (layers): Sequential(\n",
       "          (0): Linear(in_features=768, out_features=3072, bias=True)\n",
       "          (1): GELU()\n",
       "          (2): Linear(in_features=3072, out_features=768, bias=True)\n",
       "        )\n",
       "      )\n",
       "      (norm1): LayerNorm()\n",
       "      (norm2): LayerNorm()\n",
       "      (drop_shortcut): Dropout(p=0.1, inplace=False)\n",
       "    )\n",
       "    (1): TransformerBlock(\n",
       "      (att): MultiHeadAttention(\n",
       "        (W_query): Linear(in_features=768, out_features=768, bias=False)\n",
       "        (W_key): Linear(in_features=768, out_features=768, bias=False)\n",
       "        (W_value): Linear(in_features=768, out_features=768, bias=False)\n",
       "        (out_proj): Linear(in_features=768, out_features=768, bias=True)\n",
       "        (dropout): Dropout(p=0.1, inplace=False)\n",
       "      )\n",
       "      (ff): FeedForward(\n",
       "        (layers): Sequential(\n",
       "          (0): Linear(in_features=768, out_features=3072, bias=True)\n",
       "          (1): GELU()\n",
       "          (2): Linear(in_features=3072, out_features=768, bias=True)\n",
       "        )\n",
       "      )\n",
       "      (norm1): LayerNorm()\n",
       "      (norm2): LayerNorm()\n",
       "      (drop_shortcut): Dropout(p=0.1, inplace=False)\n",
       "    )\n",
       "    (2): TransformerBlock(\n",
       "      (att): MultiHeadAttention(\n",
       "        (W_query): Linear(in_features=768, out_features=768, bias=False)\n",
       "        (W_key): Linear(in_features=768, out_features=768, bias=False)\n",
       "        (W_value): Linear(in_features=768, out_features=768, bias=False)\n",
       "        (out_proj): Linear(in_features=768, out_features=768, bias=True)\n",
       "        (dropout): Dropout(p=0.1, inplace=False)\n",
       "      )\n",
       "      (ff): FeedForward(\n",
       "        (layers): Sequential(\n",
       "          (0): Linear(in_features=768, out_features=3072, bias=True)\n",
       "          (1): GELU()\n",
       "          (2): Linear(in_features=3072, out_features=768, bias=True)\n",
       "        )\n",
       "      )\n",
       "      (norm1): LayerNorm()\n",
       "      (norm2): LayerNorm()\n",
       "      (drop_shortcut): Dropout(p=0.1, inplace=False)\n",
       "    )\n",
       "    (3): TransformerBlock(\n",
       "      (att): MultiHeadAttention(\n",
       "        (W_query): Linear(in_features=768, out_features=768, bias=False)\n",
       "        (W_key): Linear(in_features=768, out_features=768, bias=False)\n",
       "        (W_value): Linear(in_features=768, out_features=768, bias=False)\n",
       "        (out_proj): Linear(in_features=768, out_features=768, bias=True)\n",
       "        (dropout): Dropout(p=0.1, inplace=False)\n",
       "      )\n",
       "      (ff): FeedForward(\n",
       "        (layers): Sequential(\n",
       "          (0): Linear(in_features=768, out_features=3072, bias=True)\n",
       "          (1): GELU()\n",
       "          (2): Linear(in_features=3072, out_features=768, bias=True)\n",
       "        )\n",
       "      )\n",
       "      (norm1): LayerNorm()\n",
       "      (norm2): LayerNorm()\n",
       "      (drop_shortcut): Dropout(p=0.1, inplace=False)\n",
       "    )\n",
       "    (4): TransformerBlock(\n",
       "      (att): MultiHeadAttention(\n",
       "        (W_query): Linear(in_features=768, out_features=768, bias=False)\n",
       "        (W_key): Linear(in_features=768, out_features=768, bias=False)\n",
       "        (W_value): Linear(in_features=768, out_features=768, bias=False)\n",
       "        (out_proj): Linear(in_features=768, out_features=768, bias=True)\n",
       "        (dropout): Dropout(p=0.1, inplace=False)\n",
       "      )\n",
       "      (ff): FeedForward(\n",
       "        (layers): Sequential(\n",
       "          (0): Linear(in_features=768, out_features=3072, bias=True)\n",
       "          (1): GELU()\n",
       "          (2): Linear(in_features=3072, out_features=768, bias=True)\n",
       "        )\n",
       "      )\n",
       "      (norm1): LayerNorm()\n",
       "      (norm2): LayerNorm()\n",
       "      (drop_shortcut): Dropout(p=0.1, inplace=False)\n",
       "    )\n",
       "    (5): TransformerBlock(\n",
       "      (att): MultiHeadAttention(\n",
       "        (W_query): Linear(in_features=768, out_features=768, bias=False)\n",
       "        (W_key): Linear(in_features=768, out_features=768, bias=False)\n",
       "        (W_value): Linear(in_features=768, out_features=768, bias=False)\n",
       "        (out_proj): Linear(in_features=768, out_features=768, bias=True)\n",
       "        (dropout): Dropout(p=0.1, inplace=False)\n",
       "      )\n",
       "      (ff): FeedForward(\n",
       "        (layers): Sequential(\n",
       "          (0): Linear(in_features=768, out_features=3072, bias=True)\n",
       "          (1): GELU()\n",
       "          (2): Linear(in_features=3072, out_features=768, bias=True)\n",
       "        )\n",
       "      )\n",
       "      (norm1): LayerNorm()\n",
       "      (norm2): LayerNorm()\n",
       "      (drop_shortcut): Dropout(p=0.1, inplace=False)\n",
       "    )\n",
       "    (6): TransformerBlock(\n",
       "      (att): MultiHeadAttention(\n",
       "        (W_query): Linear(in_features=768, out_features=768, bias=False)\n",
       "        (W_key): Linear(in_features=768, out_features=768, bias=False)\n",
       "        (W_value): Linear(in_features=768, out_features=768, bias=False)\n",
       "        (out_proj): Linear(in_features=768, out_features=768, bias=True)\n",
       "        (dropout): Dropout(p=0.1, inplace=False)\n",
       "      )\n",
       "      (ff): FeedForward(\n",
       "        (layers): Sequential(\n",
       "          (0): Linear(in_features=768, out_features=3072, bias=True)\n",
       "          (1): GELU()\n",
       "          (2): Linear(in_features=3072, out_features=768, bias=True)\n",
       "        )\n",
       "      )\n",
       "      (norm1): LayerNorm()\n",
       "      (norm2): LayerNorm()\n",
       "      (drop_shortcut): Dropout(p=0.1, inplace=False)\n",
       "    )\n",
       "    (7): TransformerBlock(\n",
       "      (att): MultiHeadAttention(\n",
       "        (W_query): Linear(in_features=768, out_features=768, bias=False)\n",
       "        (W_key): Linear(in_features=768, out_features=768, bias=False)\n",
       "        (W_value): Linear(in_features=768, out_features=768, bias=False)\n",
       "        (out_proj): Linear(in_features=768, out_features=768, bias=True)\n",
       "        (dropout): Dropout(p=0.1, inplace=False)\n",
       "      )\n",
       "      (ff): FeedForward(\n",
       "        (layers): Sequential(\n",
       "          (0): Linear(in_features=768, out_features=3072, bias=True)\n",
       "          (1): GELU()\n",
       "          (2): Linear(in_features=3072, out_features=768, bias=True)\n",
       "        )\n",
       "      )\n",
       "      (norm1): LayerNorm()\n",
       "      (norm2): LayerNorm()\n",
       "      (drop_shortcut): Dropout(p=0.1, inplace=False)\n",
       "    )\n",
       "    (8): TransformerBlock(\n",
       "      (att): MultiHeadAttention(\n",
       "        (W_query): Linear(in_features=768, out_features=768, bias=False)\n",
       "        (W_key): Linear(in_features=768, out_features=768, bias=False)\n",
       "        (W_value): Linear(in_features=768, out_features=768, bias=False)\n",
       "        (out_proj): Linear(in_features=768, out_features=768, bias=True)\n",
       "        (dropout): Dropout(p=0.1, inplace=False)\n",
       "      )\n",
       "      (ff): FeedForward(\n",
       "        (layers): Sequential(\n",
       "          (0): Linear(in_features=768, out_features=3072, bias=True)\n",
       "          (1): GELU()\n",
       "          (2): Linear(in_features=3072, out_features=768, bias=True)\n",
       "        )\n",
       "      )\n",
       "      (norm1): LayerNorm()\n",
       "      (norm2): LayerNorm()\n",
       "      (drop_shortcut): Dropout(p=0.1, inplace=False)\n",
       "    )\n",
       "    (9): TransformerBlock(\n",
       "      (att): MultiHeadAttention(\n",
       "        (W_query): Linear(in_features=768, out_features=768, bias=False)\n",
       "        (W_key): Linear(in_features=768, out_features=768, bias=False)\n",
       "        (W_value): Linear(in_features=768, out_features=768, bias=False)\n",
       "        (out_proj): Linear(in_features=768, out_features=768, bias=True)\n",
       "        (dropout): Dropout(p=0.1, inplace=False)\n",
       "      )\n",
       "      (ff): FeedForward(\n",
       "        (layers): Sequential(\n",
       "          (0): Linear(in_features=768, out_features=3072, bias=True)\n",
       "          (1): GELU()\n",
       "          (2): Linear(in_features=3072, out_features=768, bias=True)\n",
       "        )\n",
       "      )\n",
       "      (norm1): LayerNorm()\n",
       "      (norm2): LayerNorm()\n",
       "      (drop_shortcut): Dropout(p=0.1, inplace=False)\n",
       "    )\n",
       "    (10): TransformerBlock(\n",
       "      (att): MultiHeadAttention(\n",
       "        (W_query): Linear(in_features=768, out_features=768, bias=False)\n",
       "        (W_key): Linear(in_features=768, out_features=768, bias=False)\n",
       "        (W_value): Linear(in_features=768, out_features=768, bias=False)\n",
       "        (out_proj): Linear(in_features=768, out_features=768, bias=True)\n",
       "        (dropout): Dropout(p=0.1, inplace=False)\n",
       "      )\n",
       "      (ff): FeedForward(\n",
       "        (layers): Sequential(\n",
       "          (0): Linear(in_features=768, out_features=3072, bias=True)\n",
       "          (1): GELU()\n",
       "          (2): Linear(in_features=3072, out_features=768, bias=True)\n",
       "        )\n",
       "      )\n",
       "      (norm1): LayerNorm()\n",
       "      (norm2): LayerNorm()\n",
       "      (drop_shortcut): Dropout(p=0.1, inplace=False)\n",
       "    )\n",
       "    (11): TransformerBlock(\n",
       "      (att): MultiHeadAttention(\n",
       "        (W_query): Linear(in_features=768, out_features=768, bias=False)\n",
       "        (W_key): Linear(in_features=768, out_features=768, bias=False)\n",
       "        (W_value): Linear(in_features=768, out_features=768, bias=False)\n",
       "        (out_proj): Linear(in_features=768, out_features=768, bias=True)\n",
       "        (dropout): Dropout(p=0.1, inplace=False)\n",
       "      )\n",
       "      (ff): FeedForward(\n",
       "        (layers): Sequential(\n",
       "          (0): Linear(in_features=768, out_features=3072, bias=True)\n",
       "          (1): GELU()\n",
       "          (2): Linear(in_features=3072, out_features=768, bias=True)\n",
       "        )\n",
       "      )\n",
       "      (norm1): LayerNorm()\n",
       "      (norm2): LayerNorm()\n",
       "      (drop_shortcut): Dropout(p=0.1, inplace=False)\n",
       "    )\n",
       "  )\n",
       "  (final_norm): LayerNorm()\n",
       "  (out_head): Linear(in_features=768, out_features=50257, bias=False)\n",
       ")"
      ]
     },
     "execution_count": 94,
     "metadata": {},
     "output_type": "execute_result"
    }
   ],
   "source": [
    "model = GPTModel(GPT_CONFIG_124M)  # 初始化新模型实例\n",
    "model.load_state_dict(torch.load(\"model.pth\"))  # 加载保存的模型权重\n",
    "model.eval()  # 设置模型为评估模式"
   ]
  },
  {
   "cell_type": "markdown",
   "id": "9f8016ab-5f3d-497f-bd25-705f9801cc69",
   "metadata": {},
   "source": [
    "- 使用像Adam或AdamW这样的自适应优化器而不是常规的SGD来训练LLMs是很常见的。\n",
    "- 这些自适应优化器为每个模型权重存储额外的参数，因此，如果我们计划稍后继续预训练，保存它们也是有意义的："
   ]
  },
  {
   "cell_type": "code",
   "execution_count": 96,
   "id": "2b9ebaf1-9597-48d3-93c9-7f3bccb52294",
   "metadata": {},
   "outputs": [],
   "source": [
    "torch.save({  # 保存模型和优化器的状态字典\n",
    "    \"model_state_dict\": model.state_dict(),  # 模型状态字典\n",
    "    \"optimizer_state_dict\": optimizer.state_dict(),  # 优化器状态字典\n",
    "}, \"model_and_optimizer.pth\")  # 保存到model_and_optimizer.pth文件"
   ]
  },
  {
   "cell_type": "code",
   "execution_count": 98,
   "id": "91ed8c5d-aa02-45a4-9581-8472b3a871ef",
   "metadata": {
    "scrolled": true
   },
   "outputs": [
    {
     "name": "stderr",
     "output_type": "stream",
     "text": [
      "C:\\Users\\xin123456\\AppData\\Local\\Temp\\ipykernel_3036\\3763583658.py:1: FutureWarning: You are using `torch.load` with `weights_only=False` (the current default value), which uses the default pickle module implicitly. It is possible to construct malicious pickle data which will execute arbitrary code during unpickling (See https://github.com/pytorch/pytorch/blob/main/SECURITY.md#untrusted-models for more details). In a future release, the default value for `weights_only` will be flipped to `True`. This limits the functions that could be executed during unpickling. Arbitrary objects will no longer be allowed to be loaded via this mode unless they are explicitly allowlisted by the user via `torch.serialization.add_safe_globals`. We recommend you start setting `weights_only=True` for any use case where you don't have full control of the loaded file. Please open an issue on GitHub for any issues related to this experimental feature.\n",
      "  checkpoint = torch.load(\"model_and_optimizer.pth\")  # 加载保存的检查点\n"
     ]
    },
    {
     "data": {
      "text/plain": [
       "GPTModel(\n",
       "  (tok_emb): Embedding(50257, 768)\n",
       "  (pos_emb): Embedding(256, 768)\n",
       "  (drop_emb): Dropout(p=0.1, inplace=False)\n",
       "  (trf_blocks): Sequential(\n",
       "    (0): TransformerBlock(\n",
       "      (att): MultiHeadAttention(\n",
       "        (W_query): Linear(in_features=768, out_features=768, bias=False)\n",
       "        (W_key): Linear(in_features=768, out_features=768, bias=False)\n",
       "        (W_value): Linear(in_features=768, out_features=768, bias=False)\n",
       "        (out_proj): Linear(in_features=768, out_features=768, bias=True)\n",
       "        (dropout): Dropout(p=0.1, inplace=False)\n",
       "      )\n",
       "      (ff): FeedForward(\n",
       "        (layers): Sequential(\n",
       "          (0): Linear(in_features=768, out_features=3072, bias=True)\n",
       "          (1): GELU()\n",
       "          (2): Linear(in_features=3072, out_features=768, bias=True)\n",
       "        )\n",
       "      )\n",
       "      (norm1): LayerNorm()\n",
       "      (norm2): LayerNorm()\n",
       "      (drop_shortcut): Dropout(p=0.1, inplace=False)\n",
       "    )\n",
       "    (1): TransformerBlock(\n",
       "      (att): MultiHeadAttention(\n",
       "        (W_query): Linear(in_features=768, out_features=768, bias=False)\n",
       "        (W_key): Linear(in_features=768, out_features=768, bias=False)\n",
       "        (W_value): Linear(in_features=768, out_features=768, bias=False)\n",
       "        (out_proj): Linear(in_features=768, out_features=768, bias=True)\n",
       "        (dropout): Dropout(p=0.1, inplace=False)\n",
       "      )\n",
       "      (ff): FeedForward(\n",
       "        (layers): Sequential(\n",
       "          (0): Linear(in_features=768, out_features=3072, bias=True)\n",
       "          (1): GELU()\n",
       "          (2): Linear(in_features=3072, out_features=768, bias=True)\n",
       "        )\n",
       "      )\n",
       "      (norm1): LayerNorm()\n",
       "      (norm2): LayerNorm()\n",
       "      (drop_shortcut): Dropout(p=0.1, inplace=False)\n",
       "    )\n",
       "    (2): TransformerBlock(\n",
       "      (att): MultiHeadAttention(\n",
       "        (W_query): Linear(in_features=768, out_features=768, bias=False)\n",
       "        (W_key): Linear(in_features=768, out_features=768, bias=False)\n",
       "        (W_value): Linear(in_features=768, out_features=768, bias=False)\n",
       "        (out_proj): Linear(in_features=768, out_features=768, bias=True)\n",
       "        (dropout): Dropout(p=0.1, inplace=False)\n",
       "      )\n",
       "      (ff): FeedForward(\n",
       "        (layers): Sequential(\n",
       "          (0): Linear(in_features=768, out_features=3072, bias=True)\n",
       "          (1): GELU()\n",
       "          (2): Linear(in_features=3072, out_features=768, bias=True)\n",
       "        )\n",
       "      )\n",
       "      (norm1): LayerNorm()\n",
       "      (norm2): LayerNorm()\n",
       "      (drop_shortcut): Dropout(p=0.1, inplace=False)\n",
       "    )\n",
       "    (3): TransformerBlock(\n",
       "      (att): MultiHeadAttention(\n",
       "        (W_query): Linear(in_features=768, out_features=768, bias=False)\n",
       "        (W_key): Linear(in_features=768, out_features=768, bias=False)\n",
       "        (W_value): Linear(in_features=768, out_features=768, bias=False)\n",
       "        (out_proj): Linear(in_features=768, out_features=768, bias=True)\n",
       "        (dropout): Dropout(p=0.1, inplace=False)\n",
       "      )\n",
       "      (ff): FeedForward(\n",
       "        (layers): Sequential(\n",
       "          (0): Linear(in_features=768, out_features=3072, bias=True)\n",
       "          (1): GELU()\n",
       "          (2): Linear(in_features=3072, out_features=768, bias=True)\n",
       "        )\n",
       "      )\n",
       "      (norm1): LayerNorm()\n",
       "      (norm2): LayerNorm()\n",
       "      (drop_shortcut): Dropout(p=0.1, inplace=False)\n",
       "    )\n",
       "    (4): TransformerBlock(\n",
       "      (att): MultiHeadAttention(\n",
       "        (W_query): Linear(in_features=768, out_features=768, bias=False)\n",
       "        (W_key): Linear(in_features=768, out_features=768, bias=False)\n",
       "        (W_value): Linear(in_features=768, out_features=768, bias=False)\n",
       "        (out_proj): Linear(in_features=768, out_features=768, bias=True)\n",
       "        (dropout): Dropout(p=0.1, inplace=False)\n",
       "      )\n",
       "      (ff): FeedForward(\n",
       "        (layers): Sequential(\n",
       "          (0): Linear(in_features=768, out_features=3072, bias=True)\n",
       "          (1): GELU()\n",
       "          (2): Linear(in_features=3072, out_features=768, bias=True)\n",
       "        )\n",
       "      )\n",
       "      (norm1): LayerNorm()\n",
       "      (norm2): LayerNorm()\n",
       "      (drop_shortcut): Dropout(p=0.1, inplace=False)\n",
       "    )\n",
       "    (5): TransformerBlock(\n",
       "      (att): MultiHeadAttention(\n",
       "        (W_query): Linear(in_features=768, out_features=768, bias=False)\n",
       "        (W_key): Linear(in_features=768, out_features=768, bias=False)\n",
       "        (W_value): Linear(in_features=768, out_features=768, bias=False)\n",
       "        (out_proj): Linear(in_features=768, out_features=768, bias=True)\n",
       "        (dropout): Dropout(p=0.1, inplace=False)\n",
       "      )\n",
       "      (ff): FeedForward(\n",
       "        (layers): Sequential(\n",
       "          (0): Linear(in_features=768, out_features=3072, bias=True)\n",
       "          (1): GELU()\n",
       "          (2): Linear(in_features=3072, out_features=768, bias=True)\n",
       "        )\n",
       "      )\n",
       "      (norm1): LayerNorm()\n",
       "      (norm2): LayerNorm()\n",
       "      (drop_shortcut): Dropout(p=0.1, inplace=False)\n",
       "    )\n",
       "    (6): TransformerBlock(\n",
       "      (att): MultiHeadAttention(\n",
       "        (W_query): Linear(in_features=768, out_features=768, bias=False)\n",
       "        (W_key): Linear(in_features=768, out_features=768, bias=False)\n",
       "        (W_value): Linear(in_features=768, out_features=768, bias=False)\n",
       "        (out_proj): Linear(in_features=768, out_features=768, bias=True)\n",
       "        (dropout): Dropout(p=0.1, inplace=False)\n",
       "      )\n",
       "      (ff): FeedForward(\n",
       "        (layers): Sequential(\n",
       "          (0): Linear(in_features=768, out_features=3072, bias=True)\n",
       "          (1): GELU()\n",
       "          (2): Linear(in_features=3072, out_features=768, bias=True)\n",
       "        )\n",
       "      )\n",
       "      (norm1): LayerNorm()\n",
       "      (norm2): LayerNorm()\n",
       "      (drop_shortcut): Dropout(p=0.1, inplace=False)\n",
       "    )\n",
       "    (7): TransformerBlock(\n",
       "      (att): MultiHeadAttention(\n",
       "        (W_query): Linear(in_features=768, out_features=768, bias=False)\n",
       "        (W_key): Linear(in_features=768, out_features=768, bias=False)\n",
       "        (W_value): Linear(in_features=768, out_features=768, bias=False)\n",
       "        (out_proj): Linear(in_features=768, out_features=768, bias=True)\n",
       "        (dropout): Dropout(p=0.1, inplace=False)\n",
       "      )\n",
       "      (ff): FeedForward(\n",
       "        (layers): Sequential(\n",
       "          (0): Linear(in_features=768, out_features=3072, bias=True)\n",
       "          (1): GELU()\n",
       "          (2): Linear(in_features=3072, out_features=768, bias=True)\n",
       "        )\n",
       "      )\n",
       "      (norm1): LayerNorm()\n",
       "      (norm2): LayerNorm()\n",
       "      (drop_shortcut): Dropout(p=0.1, inplace=False)\n",
       "    )\n",
       "    (8): TransformerBlock(\n",
       "      (att): MultiHeadAttention(\n",
       "        (W_query): Linear(in_features=768, out_features=768, bias=False)\n",
       "        (W_key): Linear(in_features=768, out_features=768, bias=False)\n",
       "        (W_value): Linear(in_features=768, out_features=768, bias=False)\n",
       "        (out_proj): Linear(in_features=768, out_features=768, bias=True)\n",
       "        (dropout): Dropout(p=0.1, inplace=False)\n",
       "      )\n",
       "      (ff): FeedForward(\n",
       "        (layers): Sequential(\n",
       "          (0): Linear(in_features=768, out_features=3072, bias=True)\n",
       "          (1): GELU()\n",
       "          (2): Linear(in_features=3072, out_features=768, bias=True)\n",
       "        )\n",
       "      )\n",
       "      (norm1): LayerNorm()\n",
       "      (norm2): LayerNorm()\n",
       "      (drop_shortcut): Dropout(p=0.1, inplace=False)\n",
       "    )\n",
       "    (9): TransformerBlock(\n",
       "      (att): MultiHeadAttention(\n",
       "        (W_query): Linear(in_features=768, out_features=768, bias=False)\n",
       "        (W_key): Linear(in_features=768, out_features=768, bias=False)\n",
       "        (W_value): Linear(in_features=768, out_features=768, bias=False)\n",
       "        (out_proj): Linear(in_features=768, out_features=768, bias=True)\n",
       "        (dropout): Dropout(p=0.1, inplace=False)\n",
       "      )\n",
       "      (ff): FeedForward(\n",
       "        (layers): Sequential(\n",
       "          (0): Linear(in_features=768, out_features=3072, bias=True)\n",
       "          (1): GELU()\n",
       "          (2): Linear(in_features=3072, out_features=768, bias=True)\n",
       "        )\n",
       "      )\n",
       "      (norm1): LayerNorm()\n",
       "      (norm2): LayerNorm()\n",
       "      (drop_shortcut): Dropout(p=0.1, inplace=False)\n",
       "    )\n",
       "    (10): TransformerBlock(\n",
       "      (att): MultiHeadAttention(\n",
       "        (W_query): Linear(in_features=768, out_features=768, bias=False)\n",
       "        (W_key): Linear(in_features=768, out_features=768, bias=False)\n",
       "        (W_value): Linear(in_features=768, out_features=768, bias=False)\n",
       "        (out_proj): Linear(in_features=768, out_features=768, bias=True)\n",
       "        (dropout): Dropout(p=0.1, inplace=False)\n",
       "      )\n",
       "      (ff): FeedForward(\n",
       "        (layers): Sequential(\n",
       "          (0): Linear(in_features=768, out_features=3072, bias=True)\n",
       "          (1): GELU()\n",
       "          (2): Linear(in_features=3072, out_features=768, bias=True)\n",
       "        )\n",
       "      )\n",
       "      (norm1): LayerNorm()\n",
       "      (norm2): LayerNorm()\n",
       "      (drop_shortcut): Dropout(p=0.1, inplace=False)\n",
       "    )\n",
       "    (11): TransformerBlock(\n",
       "      (att): MultiHeadAttention(\n",
       "        (W_query): Linear(in_features=768, out_features=768, bias=False)\n",
       "        (W_key): Linear(in_features=768, out_features=768, bias=False)\n",
       "        (W_value): Linear(in_features=768, out_features=768, bias=False)\n",
       "        (out_proj): Linear(in_features=768, out_features=768, bias=True)\n",
       "        (dropout): Dropout(p=0.1, inplace=False)\n",
       "      )\n",
       "      (ff): FeedForward(\n",
       "        (layers): Sequential(\n",
       "          (0): Linear(in_features=768, out_features=3072, bias=True)\n",
       "          (1): GELU()\n",
       "          (2): Linear(in_features=3072, out_features=768, bias=True)\n",
       "        )\n",
       "      )\n",
       "      (norm1): LayerNorm()\n",
       "      (norm2): LayerNorm()\n",
       "      (drop_shortcut): Dropout(p=0.1, inplace=False)\n",
       "    )\n",
       "  )\n",
       "  (final_norm): LayerNorm()\n",
       "  (out_head): Linear(in_features=768, out_features=50257, bias=False)\n",
       ")"
      ]
     },
     "execution_count": 98,
     "metadata": {},
     "output_type": "execute_result"
    }
   ],
   "source": [
    "checkpoint = torch.load(\"model_and_optimizer.pth\")  # 加载保存的检查点\n",
    "model = GPTModel(GPT_CONFIG_124M)  # 初始化新模型实例\n",
    "model.load_state_dict(checkpoint[\"model_state_dict\"])  # 加载模型状态字典\n",
    "optimizer = torch.optim.AdamW(model.parameters(), lr=5e-4, weight_decay=0.1)  # 初始化优化器\n",
    "optimizer.load_state_dict(checkpoint[\"optimizer_state_dict\"])  # 加载优化器状态字典\n",
    "model.train()  # 设置模型为训练模式"
   ]
  },
  {
   "cell_type": "markdown",
   "id": "e8ebdcfe-5977-468b-8452-1228cd538b14",
   "metadata": {},
   "source": [
    "## 5.5 Loading pretrained weights from OpenAI"
   ]
  },
  {
   "cell_type": "code",
   "execution_count": 100,
   "id": "3eb5a166-d6f8-48f4-b25b-1f85ca1bce6f",
   "metadata": {},
   "outputs": [
    {
     "name": "stdout",
     "output_type": "stream",
     "text": [
      "TensorFlow version: 2.18.0\n",
      "tqdm version: 4.66.4\n"
     ]
    }
   ],
   "source": [
    "print(\"TensorFlow version:\", version(\"tensorflow\"))\n",
    "print(\"tqdm version:\", version(\"tqdm\"))"
   ]
  },
  {
   "cell_type": "code",
   "execution_count": 102,
   "id": "4ff7b5a6-fe98-4ac2-9b9b-416f59bf8a8e",
   "metadata": {},
   "outputs": [],
   "source": [
    "from gpt_download import download_and_load_gpt2"
   ]
  },
  {
   "cell_type": "code",
   "execution_count": 104,
   "id": "90a81b77-b6b0-436f-82ae-dd7a88fa9347",
   "metadata": {},
   "outputs": [
    {
     "name": "stderr",
     "output_type": "stream",
     "text": [
      "checkpoint: 100%|██████████| 77.0/77.0 [00:00<00:00, 68.5kiB/s]\n",
      "encoder.json: 100%|██████████| 1.04M/1.04M [00:05<00:00, 176kiB/s] \n",
      "hparams.json: 100%|██████████| 90.0/90.0 [00:00<00:00, 63.8kiB/s]\n",
      "model.ckpt.data-00000-of-00001: 100%|██████████| 498M/498M [2:15:46<00:00, 61.1kiB/s]  \n",
      "model.ckpt.index: 100%|██████████| 5.21k/5.21k [00:00<00:00, 1.56MiB/s]\n",
      "model.ckpt.meta: 100%|██████████| 471k/471k [00:07<00:00, 63.0kiB/s] \n",
      "vocab.bpe: 100%|██████████| 456k/456k [00:01<00:00, 420kiB/s] \n"
     ]
    }
   ],
   "source": [
    "settings, params = download_and_load_gpt2(model_size=\"124M\", models_dir=\"gpt2\")"
   ]
  },
  {
   "cell_type": "code",
   "execution_count": 125,
   "id": "e67c0635-f937-4034-aea5-d7aa04c4677b",
   "metadata": {},
   "outputs": [
    {
     "name": "stdout",
     "output_type": "stream",
     "text": [
      "Settings: {'n_vocab': 50257, 'n_ctx': 1024, 'n_embd': 768, 'n_head': 12, 'n_layer': 12}\n",
      "Parameter dictionary keys: dict_keys(['blocks', 'b', 'g', 'wpe', 'wte'])\n"
     ]
    }
   ],
   "source": [
    "print(\"Settings:\", settings)  # 打印设置\n",
    "print(\"Parameter dictionary keys:\", params.keys())  # 打印参数字典键"
   ]
  },
  {
   "cell_type": "markdown",
   "id": "75723714-88c3-4111-9793-1e51f193df40",
   "metadata": {},
   "source": [
    "- settings和params都是Python字典:\n",
    "    - settings字典存储LLM架构设置，类似于我们手动定义的GPT_CONFIG_124M设置。\n",
    "    - params字典包含实际的权重张量。\n",
    "- 请注意，我们只打印了字典键，因为打印权重内容会占用太多屏幕空间，但我们可以通过print(params)打印整个字典或通过相应的字典键选择单个张量来检查这些权重张量，例如，嵌入层权重："
   ]
  },
  {
   "cell_type": "code",
   "execution_count": 127,
   "id": "90b3e530-7286-496e-b7ec-a2b1bb9e2e22",
   "metadata": {},
   "outputs": [
    {
     "name": "stdout",
     "output_type": "stream",
     "text": [
      "[[-0.11010301 -0.03926672  0.03310751 ... -0.1363697   0.01506208\n",
      "   0.04531523]\n",
      " [ 0.04034033 -0.04861503  0.04624869 ...  0.08605453  0.00253983\n",
      "   0.04318958]\n",
      " [-0.12746179  0.04793796  0.18410145 ...  0.08991534 -0.12972379\n",
      "  -0.08785918]\n",
      " ...\n",
      " [-0.04453601 -0.05483596  0.01225674 ...  0.10435229  0.09783269\n",
      "  -0.06952604]\n",
      " [ 0.1860082   0.01665728  0.04611587 ... -0.09625227  0.07847701\n",
      "  -0.02245961]\n",
      " [ 0.05135201 -0.02768905  0.0499369  ...  0.00704835  0.15519823\n",
      "   0.12067825]]\n",
      "Token embedding weight tensor dimensions: (50257, 768)\n"
     ]
    }
   ],
   "source": [
    "print(params[\"wte\"])  # 打印词元嵌入权重张量\n",
    "print(\"Token embedding weight tensor dimensions:\", params[\"wte\"].shape)  # 打印词元嵌入权重张量的维度"
   ]
  },
  {
   "cell_type": "markdown",
   "id": "6eef262c-487f-4519-a9f7-f87152e8b0d7",
   "metadata": {},
   "source": [
    "- 我们通过`download_and_load_gpt2(model_size=“124M”, …)`设置下载并加载了最小的GPT-2模型的权重。\n",
    "- 请注意，OpenAI还分享了更大模型的权重：“355M”、“774M”和“1558M”。这些不同大小的GPT模型的总体架构是相同的。"
   ]
  },
  {
   "cell_type": "markdown",
   "id": "af4376f1-04ab-41d5-ba0b-b08a0c796cd4",
   "metadata": {},
   "source": [
    "<img src=\"https://sebastianraschka.com/images/LLMs-from-scratch-images/ch05_compressed/gpt-sizes.webp?timestamp=123\" width=500px>"
   ]
  },
  {
   "cell_type": "markdown",
   "id": "6c168253-9a1e-4db7-8be6-2103e2d85cb1",
   "metadata": {},
   "source": [
    "- 上面，我们已经将1.24亿参数的GPT-2模型权重加载到了Python中，但是我们仍然需要将它们转移到我们的`GPTModel`实例中。\n",
    "- 首先，我们初始化一个新的 `GPTModel` 实例。\n",
    "- 请注意，原始的GPT模型在多头注意力模块中为查询（query）、键（key）和值（value）矩阵的线性层初始化了带有偏置向量的，这并不是必需的或推荐的；然而，为了能够正确加载权重，在我们的实现中，我们也必须通过将`qkv_bias`设置为`True`来启用这些偏置。\n",
    "- 我们也在使用原始GPT-2模型所采用的`1024`个token的上下文长度。"
   ]
  },
  {
   "cell_type": "code",
   "execution_count": 129,
   "id": "e8ca4f66-d4db-4dc3-9cc8-78b9212cb51b",
   "metadata": {
    "scrolled": true
   },
   "outputs": [
    {
     "data": {
      "text/plain": [
       "GPTModel(\n",
       "  (tok_emb): Embedding(50257, 768)\n",
       "  (pos_emb): Embedding(1024, 768)\n",
       "  (drop_emb): Dropout(p=0.1, inplace=False)\n",
       "  (trf_blocks): Sequential(\n",
       "    (0): TransformerBlock(\n",
       "      (att): MultiHeadAttention(\n",
       "        (W_query): Linear(in_features=768, out_features=768, bias=True)\n",
       "        (W_key): Linear(in_features=768, out_features=768, bias=True)\n",
       "        (W_value): Linear(in_features=768, out_features=768, bias=True)\n",
       "        (out_proj): Linear(in_features=768, out_features=768, bias=True)\n",
       "        (dropout): Dropout(p=0.1, inplace=False)\n",
       "      )\n",
       "      (ff): FeedForward(\n",
       "        (layers): Sequential(\n",
       "          (0): Linear(in_features=768, out_features=3072, bias=True)\n",
       "          (1): GELU()\n",
       "          (2): Linear(in_features=3072, out_features=768, bias=True)\n",
       "        )\n",
       "      )\n",
       "      (norm1): LayerNorm()\n",
       "      (norm2): LayerNorm()\n",
       "      (drop_shortcut): Dropout(p=0.1, inplace=False)\n",
       "    )\n",
       "    (1): TransformerBlock(\n",
       "      (att): MultiHeadAttention(\n",
       "        (W_query): Linear(in_features=768, out_features=768, bias=True)\n",
       "        (W_key): Linear(in_features=768, out_features=768, bias=True)\n",
       "        (W_value): Linear(in_features=768, out_features=768, bias=True)\n",
       "        (out_proj): Linear(in_features=768, out_features=768, bias=True)\n",
       "        (dropout): Dropout(p=0.1, inplace=False)\n",
       "      )\n",
       "      (ff): FeedForward(\n",
       "        (layers): Sequential(\n",
       "          (0): Linear(in_features=768, out_features=3072, bias=True)\n",
       "          (1): GELU()\n",
       "          (2): Linear(in_features=3072, out_features=768, bias=True)\n",
       "        )\n",
       "      )\n",
       "      (norm1): LayerNorm()\n",
       "      (norm2): LayerNorm()\n",
       "      (drop_shortcut): Dropout(p=0.1, inplace=False)\n",
       "    )\n",
       "    (2): TransformerBlock(\n",
       "      (att): MultiHeadAttention(\n",
       "        (W_query): Linear(in_features=768, out_features=768, bias=True)\n",
       "        (W_key): Linear(in_features=768, out_features=768, bias=True)\n",
       "        (W_value): Linear(in_features=768, out_features=768, bias=True)\n",
       "        (out_proj): Linear(in_features=768, out_features=768, bias=True)\n",
       "        (dropout): Dropout(p=0.1, inplace=False)\n",
       "      )\n",
       "      (ff): FeedForward(\n",
       "        (layers): Sequential(\n",
       "          (0): Linear(in_features=768, out_features=3072, bias=True)\n",
       "          (1): GELU()\n",
       "          (2): Linear(in_features=3072, out_features=768, bias=True)\n",
       "        )\n",
       "      )\n",
       "      (norm1): LayerNorm()\n",
       "      (norm2): LayerNorm()\n",
       "      (drop_shortcut): Dropout(p=0.1, inplace=False)\n",
       "    )\n",
       "    (3): TransformerBlock(\n",
       "      (att): MultiHeadAttention(\n",
       "        (W_query): Linear(in_features=768, out_features=768, bias=True)\n",
       "        (W_key): Linear(in_features=768, out_features=768, bias=True)\n",
       "        (W_value): Linear(in_features=768, out_features=768, bias=True)\n",
       "        (out_proj): Linear(in_features=768, out_features=768, bias=True)\n",
       "        (dropout): Dropout(p=0.1, inplace=False)\n",
       "      )\n",
       "      (ff): FeedForward(\n",
       "        (layers): Sequential(\n",
       "          (0): Linear(in_features=768, out_features=3072, bias=True)\n",
       "          (1): GELU()\n",
       "          (2): Linear(in_features=3072, out_features=768, bias=True)\n",
       "        )\n",
       "      )\n",
       "      (norm1): LayerNorm()\n",
       "      (norm2): LayerNorm()\n",
       "      (drop_shortcut): Dropout(p=0.1, inplace=False)\n",
       "    )\n",
       "    (4): TransformerBlock(\n",
       "      (att): MultiHeadAttention(\n",
       "        (W_query): Linear(in_features=768, out_features=768, bias=True)\n",
       "        (W_key): Linear(in_features=768, out_features=768, bias=True)\n",
       "        (W_value): Linear(in_features=768, out_features=768, bias=True)\n",
       "        (out_proj): Linear(in_features=768, out_features=768, bias=True)\n",
       "        (dropout): Dropout(p=0.1, inplace=False)\n",
       "      )\n",
       "      (ff): FeedForward(\n",
       "        (layers): Sequential(\n",
       "          (0): Linear(in_features=768, out_features=3072, bias=True)\n",
       "          (1): GELU()\n",
       "          (2): Linear(in_features=3072, out_features=768, bias=True)\n",
       "        )\n",
       "      )\n",
       "      (norm1): LayerNorm()\n",
       "      (norm2): LayerNorm()\n",
       "      (drop_shortcut): Dropout(p=0.1, inplace=False)\n",
       "    )\n",
       "    (5): TransformerBlock(\n",
       "      (att): MultiHeadAttention(\n",
       "        (W_query): Linear(in_features=768, out_features=768, bias=True)\n",
       "        (W_key): Linear(in_features=768, out_features=768, bias=True)\n",
       "        (W_value): Linear(in_features=768, out_features=768, bias=True)\n",
       "        (out_proj): Linear(in_features=768, out_features=768, bias=True)\n",
       "        (dropout): Dropout(p=0.1, inplace=False)\n",
       "      )\n",
       "      (ff): FeedForward(\n",
       "        (layers): Sequential(\n",
       "          (0): Linear(in_features=768, out_features=3072, bias=True)\n",
       "          (1): GELU()\n",
       "          (2): Linear(in_features=3072, out_features=768, bias=True)\n",
       "        )\n",
       "      )\n",
       "      (norm1): LayerNorm()\n",
       "      (norm2): LayerNorm()\n",
       "      (drop_shortcut): Dropout(p=0.1, inplace=False)\n",
       "    )\n",
       "    (6): TransformerBlock(\n",
       "      (att): MultiHeadAttention(\n",
       "        (W_query): Linear(in_features=768, out_features=768, bias=True)\n",
       "        (W_key): Linear(in_features=768, out_features=768, bias=True)\n",
       "        (W_value): Linear(in_features=768, out_features=768, bias=True)\n",
       "        (out_proj): Linear(in_features=768, out_features=768, bias=True)\n",
       "        (dropout): Dropout(p=0.1, inplace=False)\n",
       "      )\n",
       "      (ff): FeedForward(\n",
       "        (layers): Sequential(\n",
       "          (0): Linear(in_features=768, out_features=3072, bias=True)\n",
       "          (1): GELU()\n",
       "          (2): Linear(in_features=3072, out_features=768, bias=True)\n",
       "        )\n",
       "      )\n",
       "      (norm1): LayerNorm()\n",
       "      (norm2): LayerNorm()\n",
       "      (drop_shortcut): Dropout(p=0.1, inplace=False)\n",
       "    )\n",
       "    (7): TransformerBlock(\n",
       "      (att): MultiHeadAttention(\n",
       "        (W_query): Linear(in_features=768, out_features=768, bias=True)\n",
       "        (W_key): Linear(in_features=768, out_features=768, bias=True)\n",
       "        (W_value): Linear(in_features=768, out_features=768, bias=True)\n",
       "        (out_proj): Linear(in_features=768, out_features=768, bias=True)\n",
       "        (dropout): Dropout(p=0.1, inplace=False)\n",
       "      )\n",
       "      (ff): FeedForward(\n",
       "        (layers): Sequential(\n",
       "          (0): Linear(in_features=768, out_features=3072, bias=True)\n",
       "          (1): GELU()\n",
       "          (2): Linear(in_features=3072, out_features=768, bias=True)\n",
       "        )\n",
       "      )\n",
       "      (norm1): LayerNorm()\n",
       "      (norm2): LayerNorm()\n",
       "      (drop_shortcut): Dropout(p=0.1, inplace=False)\n",
       "    )\n",
       "    (8): TransformerBlock(\n",
       "      (att): MultiHeadAttention(\n",
       "        (W_query): Linear(in_features=768, out_features=768, bias=True)\n",
       "        (W_key): Linear(in_features=768, out_features=768, bias=True)\n",
       "        (W_value): Linear(in_features=768, out_features=768, bias=True)\n",
       "        (out_proj): Linear(in_features=768, out_features=768, bias=True)\n",
       "        (dropout): Dropout(p=0.1, inplace=False)\n",
       "      )\n",
       "      (ff): FeedForward(\n",
       "        (layers): Sequential(\n",
       "          (0): Linear(in_features=768, out_features=3072, bias=True)\n",
       "          (1): GELU()\n",
       "          (2): Linear(in_features=3072, out_features=768, bias=True)\n",
       "        )\n",
       "      )\n",
       "      (norm1): LayerNorm()\n",
       "      (norm2): LayerNorm()\n",
       "      (drop_shortcut): Dropout(p=0.1, inplace=False)\n",
       "    )\n",
       "    (9): TransformerBlock(\n",
       "      (att): MultiHeadAttention(\n",
       "        (W_query): Linear(in_features=768, out_features=768, bias=True)\n",
       "        (W_key): Linear(in_features=768, out_features=768, bias=True)\n",
       "        (W_value): Linear(in_features=768, out_features=768, bias=True)\n",
       "        (out_proj): Linear(in_features=768, out_features=768, bias=True)\n",
       "        (dropout): Dropout(p=0.1, inplace=False)\n",
       "      )\n",
       "      (ff): FeedForward(\n",
       "        (layers): Sequential(\n",
       "          (0): Linear(in_features=768, out_features=3072, bias=True)\n",
       "          (1): GELU()\n",
       "          (2): Linear(in_features=3072, out_features=768, bias=True)\n",
       "        )\n",
       "      )\n",
       "      (norm1): LayerNorm()\n",
       "      (norm2): LayerNorm()\n",
       "      (drop_shortcut): Dropout(p=0.1, inplace=False)\n",
       "    )\n",
       "    (10): TransformerBlock(\n",
       "      (att): MultiHeadAttention(\n",
       "        (W_query): Linear(in_features=768, out_features=768, bias=True)\n",
       "        (W_key): Linear(in_features=768, out_features=768, bias=True)\n",
       "        (W_value): Linear(in_features=768, out_features=768, bias=True)\n",
       "        (out_proj): Linear(in_features=768, out_features=768, bias=True)\n",
       "        (dropout): Dropout(p=0.1, inplace=False)\n",
       "      )\n",
       "      (ff): FeedForward(\n",
       "        (layers): Sequential(\n",
       "          (0): Linear(in_features=768, out_features=3072, bias=True)\n",
       "          (1): GELU()\n",
       "          (2): Linear(in_features=3072, out_features=768, bias=True)\n",
       "        )\n",
       "      )\n",
       "      (norm1): LayerNorm()\n",
       "      (norm2): LayerNorm()\n",
       "      (drop_shortcut): Dropout(p=0.1, inplace=False)\n",
       "    )\n",
       "    (11): TransformerBlock(\n",
       "      (att): MultiHeadAttention(\n",
       "        (W_query): Linear(in_features=768, out_features=768, bias=True)\n",
       "        (W_key): Linear(in_features=768, out_features=768, bias=True)\n",
       "        (W_value): Linear(in_features=768, out_features=768, bias=True)\n",
       "        (out_proj): Linear(in_features=768, out_features=768, bias=True)\n",
       "        (dropout): Dropout(p=0.1, inplace=False)\n",
       "      )\n",
       "      (ff): FeedForward(\n",
       "        (layers): Sequential(\n",
       "          (0): Linear(in_features=768, out_features=3072, bias=True)\n",
       "          (1): GELU()\n",
       "          (2): Linear(in_features=3072, out_features=768, bias=True)\n",
       "        )\n",
       "      )\n",
       "      (norm1): LayerNorm()\n",
       "      (norm2): LayerNorm()\n",
       "      (drop_shortcut): Dropout(p=0.1, inplace=False)\n",
       "    )\n",
       "  )\n",
       "  (final_norm): LayerNorm()\n",
       "  (out_head): Linear(in_features=768, out_features=50257, bias=False)\n",
       ")"
      ]
     },
     "execution_count": 129,
     "metadata": {},
     "output_type": "execute_result"
    }
   ],
   "source": [
    "model_configs = {  # 定义模型配置字典\n",
    "    \"gpt2-small (124M)\": {\"emb_dim\": 768, \"n_layers\": 12, \"n_heads\": 12},\n",
    "    \"gpt2-medium (355M)\": {\"emb_dim\": 1024, \"n_layers\": 24, \"n_heads\": 16},\n",
    "    \"gpt2-large (774M)\": {\"emb_dim\": 1280, \"n_layers\": 36, \"n_heads\": 20},\n",
    "    \"gpt2-xl (1558M)\": {\"emb_dim\": 1600, \"n_layers\": 48, \"n_heads\": 25},\n",
    "}\n",
    "\n",
    "model_name = \"gpt2-small (124M)\"  # 选择模型名称\n",
    "NEW_CONFIG = GPT_CONFIG_124M.copy()  # 复制原始配置\n",
    "NEW_CONFIG.update(model_configs[model_name])  # 更新配置为选定模型的配置\n",
    "NEW_CONFIG.update({\"context_length\": 1024})  # 更新上下文长度为1024\n",
    "NEW_CONFIG.update({\"qkv_bias\": True})  # 启用偏置向量\n",
    "gpt = GPTModel(NEW_CONFIG)  # 使用更新的配置初始化GPT模型\n",
    "gpt.eval()  # 设置模型为评估模式\n",
    "\n",
    "gpt = GPTModel(NEW_CONFIG)  # 使用更新的配置初始化GPT模型\n",
    "gpt.eval()  # 设置模型为评估模式"
   ]
  },
  {
   "cell_type": "markdown",
   "id": "9feb8bf4-ccbc-46c4-9f6a-0c5399ca0d66",
   "metadata": {},
   "source": [
    "- 接下来的任务是将OpenAI的权重分配到我们`GPTModel`实例中相应的权重张量。"
   ]
  },
  {
   "cell_type": "code",
   "execution_count": 131,
   "id": "7a67d864-7aa2-405a-ac31-a224b9789c92",
   "metadata": {},
   "outputs": [],
   "source": [
    "def assign(left, right):  # 定义assign函数\n",
    "    if left.shape != right.shape:  # 如果形状不匹配\n",
    "        raise ValueError(f\"Shape mismatch. Left: {left.shape}, Right: {right.shape}\")  # 抛出错误\n",
    "    return torch.nn.Parameter(torch.tensor(right))  # 返回右张量作为可训练参数"
   ]
  },
  {
   "cell_type": "code",
   "execution_count": 135,
   "id": "0512bbeb-b874-409b-8d7c-0ba534abaf24",
   "metadata": {},
   "outputs": [],
   "source": [
    "import numpy as np\n",
    "\n",
    "def load_weights_into_gpt(gpt, params):\n",
    "    gpt.pos_emb.weight = assign(gpt.pos_emb.weight, params['wpe'])\n",
    "    gpt.tok_emb.weight = assign(gpt.tok_emb.weight, params['wte'])\n",
    "    \n",
    "    for b in range(len(params[\"blocks\"])):\n",
    "        q_w, k_w, v_w = np.split(\n",
    "            (params[\"blocks\"][b][\"attn\"][\"c_attn\"])[\"w\"], 3, axis=-1)\n",
    "        gpt.trf_blocks[b].att.W_query.weight = assign(\n",
    "            gpt.trf_blocks[b].att.W_query.weight, q_w.T)\n",
    "        gpt.trf_blocks[b].att.W_key.weight = assign(\n",
    "            gpt.trf_blocks[b].att.W_key.weight, k_w.T)\n",
    "        gpt.trf_blocks[b].att.W_value.weight = assign(\n",
    "            gpt.trf_blocks[b].att.W_value.weight, v_w.T)\n",
    "\n",
    "        q_b, k_b, v_b = np.split(\n",
    "            (params[\"blocks\"][b][\"attn\"][\"c_attn\"])[\"b\"], 3, axis=-1)\n",
    "        gpt.trf_blocks[b].att.W_query.bias = assign(\n",
    "            gpt.trf_blocks[b].att.W_query.bias, q_b)\n",
    "        gpt.trf_blocks[b].att.W_key.bias = assign(\n",
    "            gpt.trf_blocks[b].att.W_key.bias, k_b)\n",
    "        gpt.trf_blocks[b].att.W_value.bias = assign(\n",
    "            gpt.trf_blocks[b].att.W_value.bias, v_b)\n",
    "\n",
    "        gpt.trf_blocks[b].att.out_proj.weight = assign(\n",
    "            gpt.trf_blocks[b].att.out_proj.weight, \n",
    "            params[\"blocks\"][b][\"attn\"][\"c_proj\"][\"w\"].T)\n",
    "        gpt.trf_blocks[b].att.out_proj.bias = assign(\n",
    "            gpt.trf_blocks[b].att.out_proj.bias, \n",
    "            params[\"blocks\"][b][\"attn\"][\"c_proj\"][\"b\"])\n",
    "\n",
    "        gpt.trf_blocks[b].ff.layers[0].weight = assign(\n",
    "            gpt.trf_blocks[b].ff.layers[0].weight, \n",
    "            params[\"blocks\"][b][\"mlp\"][\"c_fc\"][\"w\"].T)\n",
    "        gpt.trf_blocks[b].ff.layers[0].bias = assign(\n",
    "            gpt.trf_blocks[b].ff.layers[0].bias, \n",
    "            params[\"blocks\"][b][\"mlp\"][\"c_fc\"][\"b\"])\n",
    "        gpt.trf_blocks[b].ff.layers[2].weight = assign(\n",
    "            gpt.trf_blocks[b].ff.layers[2].weight, \n",
    "            params[\"blocks\"][b][\"mlp\"][\"c_proj\"][\"w\"].T)\n",
    "        gpt.trf_blocks[b].ff.layers[2].bias = assign(\n",
    "            gpt.trf_blocks[b].ff.layers[2].bias, \n",
    "            params[\"blocks\"][b][\"mlp\"][\"c_proj\"][\"b\"])\n",
    "\n",
    "        gpt.trf_blocks[b].norm1.scale = assign(\n",
    "            gpt.trf_blocks[b].norm1.scale, \n",
    "            params[\"blocks\"][b][\"ln_1\"][\"g\"])\n",
    "        gpt.trf_blocks[b].norm1.shift = assign(\n",
    "            gpt.trf_blocks[b].norm1.shift, \n",
    "            params[\"blocks\"][b][\"ln_1\"][\"b\"])\n",
    "        gpt.trf_blocks[b].norm2.scale = assign(\n",
    "            gpt.trf_blocks[b].norm2.scale, \n",
    "            params[\"blocks\"][b][\"ln_2\"][\"g\"])\n",
    "        gpt.trf_blocks[b].norm2.shift = assign(\n",
    "            gpt.trf_blocks[b].norm2.shift, \n",
    "            params[\"blocks\"][b][\"ln_2\"][\"b\"])\n",
    "\n",
    "    gpt.final_norm.scale = assign(gpt.final_norm.scale, params[\"g\"])\n",
    "    gpt.final_norm.shift = assign(gpt.final_norm.shift, params[\"b\"])\n",
    "    gpt.out_head.weight = assign(gpt.out_head.weight, params[\"wte\"])\n",
    "    \n",
    "    \n",
    "load_weights_into_gpt(gpt, params)\n",
    "gpt.to(device);"
   ]
  },
  {
   "cell_type": "markdown",
   "id": "dec394b1-b692-4f25-8f3c-a682d5cc8a14",
   "metadata": {},
   "source": [
    "- 如果模型加载正确，我们就可以使用先前的`generate`函数来生成新文本："
   ]
  },
  {
   "cell_type": "code",
   "execution_count": 137,
   "id": "4f0d23e8-e969-4a62-8027-4921f1ca1e91",
   "metadata": {},
   "outputs": [
    {
     "name": "stdout",
     "output_type": "stream",
     "text": [
      "Output text:\n",
      " Every effort moves you toward an equal share for each vote plus half. Inequality is often not an accurate representation of human worth; to know the\n"
     ]
    }
   ],
   "source": [
    "torch.manual_seed(123)  # 设置随机种子\n",
    "token_ids = generate(  # 生成新文本\n",
    "    model=gpt,\n",
    "    idx=text_to_token_ids(\"Every effort moves you\", tokenizer).to(device),\n",
    "    max_new_tokens=25,\n",
    "    context_size=NEW_CONFIG[\"context_length\"],\n",
    "    top_k=50,\n",
    "    temperature=1.5\n",
    ")\n",
    "print(\"Output text:\\n\", token_ids_to_text(token_ids, tokenizer))  # 打印输出文本"
   ]
  },
  {
   "cell_type": "markdown",
   "id": "9b4d71ed-482e-4854-ab67-d5fb3dac8c8e",
   "metadata": {},
   "source": [
    "## Summary"
   ]
  },
  {
   "cell_type": "markdown",
   "id": "ee3a9ca6-35e2-4741-8297-b2ae8f2a49e9",
   "metadata": {},
   "source": [
    "- 当LLM生成文本时，它们一次输出一个词元。\n",
    "- 默认情况下，下一个词元是通过将模型输出转换为概率分数并从词汇表中选择对应于最高概率分数的词元生成的，这被称为“贪婪解码”。\n",
    "- 使用概率采样和温度缩放，我们可以影响生成文本的多样性和连贯性。\n",
    "- 训练和验证集的损失可用于评估LLM在训练期间生成的文本质量。\n",
    "- 预训练LLM涉及更改其权重以最小化训练损失。\n",
    "- LLM的训练循环本身是深度学习中的标准程序，使用传统的交叉熵损失和AdamW优化器。\n",
    "- 在大型文本语料库上预训练LLM是耗时且资源密集的，因此我们可以加载OpenAI公开可用的权重，作为我们自己在大型数据集上预训练模型的替代方案。"
   ]
  }
 ],
 "metadata": {
  "kernelspec": {
   "display_name": "Python 3 (ipykernel)",
   "language": "python",
   "name": "python3"
  },
  "language_info": {
   "codemirror_mode": {
    "name": "ipython",
    "version": 3
   },
   "file_extension": ".py",
   "mimetype": "text/x-python",
   "name": "python",
   "nbconvert_exporter": "python",
   "pygments_lexer": "ipython3",
   "version": "3.12.4"
  }
 },
 "nbformat": 4,
 "nbformat_minor": 5
}
