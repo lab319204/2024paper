{
  "nbformat": 4,
  "nbformat_minor": 0,
  "metadata": {
    "colab": {
      "provenance": [],
      "authorship_tag": "ABX9TyMyo8nm3pTpaRj5rbbC0vI2",
      "include_colab_link": true
    },
    "kernelspec": {
      "name": "python3",
      "display_name": "Python 3"
    },
    "language_info": {
      "name": "python"
    }
  },
  "cells": [
    {
      "cell_type": "markdown",
      "metadata": {
        "id": "view-in-github",
        "colab_type": "text"
      },
      "source": [
        "<a href=\"https://colab.research.google.com/github/lab319204/2024paper/blob/main/shenjunyao/Hanlp%E5%AD%A6%E4%B9%A0%E5%8F%8A%E8%AE%BA%E6%96%87%E5%A4%8D%E5%88%BB.ipynb\" target=\"_parent\"><img src=\"https://colab.research.google.com/assets/colab-badge.svg\" alt=\"Open In Colab\"/></a>"
      ]
    },
    {
      "cell_type": "markdown",
      "source": [
        "HanLP 是一个由中国开发者何晗(hankcs)于 2014 年开发的自然语言处理库，自发布之后，HanLP 不断更新迭代，进行了许多新功能和性能的优化，Github 上 Star 数量已超过 3w，其在主流自然语言工具包中非常受欢迎。HanLP 具有丰富的功能，可以进行一系列文本分析任务，比如词法分析（分词、词性标注、命名实体识别）、句法分析、文本分类/聚类、信息抽取、语义分析等等。发展至今，HanLP 已经衍生出了 1.x和 2.x 两大版本，本文介绍的是主打追求经典、稳定、高效的 1.x 版本，并且 1.x 版本内部的算法经过了学术界、工业界的考验，已有出版的配套书籍《自然语言处理入门》（作者就是 HanLP 库的开发者），感兴趣的读者可以深入学习。\n",
        "\n",
        "由于这是第一篇介绍 HanLP 的文章，本文更加侧重以入门为主，主要介绍了在 Python 中安装并使用 HanLP1.x 的方法，以及如何获取 HanLP 的分词器进行分词，当然我们也会在后面的文章中介绍更多关于 HanLP 的功能。HanLP 开源地址：https://github.com/hankcs/HanLP"
      ],
      "metadata": {
        "id": "yZuf6sAA-jck"
      }
    },
    {
      "cell_type": "code",
      "execution_count": null,
      "metadata": {
        "colab": {
          "base_uri": "https://localhost:8080/"
        },
        "id": "ipsgYVgT7DTx",
        "outputId": "d82fd09e-3bab-484f-a588-aa9ecd8fba36"
      },
      "outputs": [
        {
          "output_type": "stream",
          "name": "stdout",
          "text": [
            "Collecting hanlp_restful\n",
            "  Downloading hanlp_restful-0.0.24.tar.gz (13 kB)\n",
            "  Preparing metadata (setup.py) ... \u001b[?25l\u001b[?25hdone\n",
            "Collecting hanlp_common (from hanlp_restful)\n",
            "  Downloading hanlp_common-0.0.23.tar.gz (28 kB)\n",
            "  Preparing metadata (setup.py) ... \u001b[?25l\u001b[?25hdone\n",
            "Collecting phrasetree>=0.0.9 (from hanlp_common->hanlp_restful)\n",
            "  Downloading phrasetree-0.0.9.tar.gz (42 kB)\n",
            "\u001b[2K     \u001b[90m━━━━━━━━━━━━━━━━━━━━━━━━━━━━━━━━━━━━━━━━\u001b[0m \u001b[32m42.2/42.2 kB\u001b[0m \u001b[31m3.4 MB/s\u001b[0m eta \u001b[36m0:00:00\u001b[0m\n",
            "\u001b[?25h  Preparing metadata (setup.py) ... \u001b[?25l\u001b[?25hdone\n",
            "Building wheels for collected packages: hanlp_restful, hanlp_common, phrasetree\n",
            "  Building wheel for hanlp_restful (setup.py) ... \u001b[?25l\u001b[?25hdone\n",
            "  Created wheel for hanlp_restful: filename=hanlp_restful-0.0.24-py3-none-any.whl size=10695 sha256=201fb0ce2a5fb3e8fae8eaadb377c8799fe1a1983decb535b1fa63565770b32f\n",
            "  Stored in directory: /root/.cache/pip/wheels/e9/07/32/dba830d4e574da952be5cfe1ddde228a36bce718d505b87342\n",
            "  Building wheel for hanlp_common (setup.py) ... \u001b[?25l\u001b[?25hdone\n",
            "  Created wheel for hanlp_common: filename=hanlp_common-0.0.23-py3-none-any.whl size=30821 sha256=62475d3f8de734f0f82b470d767ffe6fd7d75d577855e80dad4b7ccea74d0d24\n",
            "  Stored in directory: /root/.cache/pip/wheels/ef/47/32/3d848e78d5915f1b285bbb6926205ce96d188f2c262c75da70\n",
            "  Building wheel for phrasetree (setup.py) ... \u001b[?25l\u001b[?25hdone\n",
            "  Created wheel for phrasetree: filename=phrasetree-0.0.9-py3-none-any.whl size=44218 sha256=bcacb35b581c1c7ed0e1cd7fa3d47cfd73c53d3ca81d921b8c2c343b3c3d35ab\n",
            "  Stored in directory: /root/.cache/pip/wheels/b4/20/a9/c514d2f4680dfb82e858581c0a4348f8703565012b777863de\n",
            "Successfully built hanlp_restful hanlp_common phrasetree\n",
            "Installing collected packages: phrasetree, hanlp_common, hanlp_restful\n",
            "Successfully installed hanlp_common-0.0.23 hanlp_restful-0.0.24 phrasetree-0.0.9\n"
          ]
        }
      ],
      "source": [
        "!pip install hanlp_restful -U"
      ]
    },
    {
      "cell_type": "code",
      "source": [
        "from hanlp_restful import HanLPClient\n",
        "# 支持zh中文，en英语，ja日本语，mul多语种\n",
        "HanLP = HanLPClient('https://www.hanlp.com/api', auth='NzgxNkBiYnMuaGFubHAuY29tOnQ1QTl6YlJ5YlBiMEJoS2k=')  # auth需要申请"
      ],
      "metadata": {
        "id": "uvV1UcxP-wIX"
      },
      "execution_count": null,
      "outputs": []
    },
    {
      "cell_type": "markdown",
      "source": [
        "#代码演示\n",
        "\n",
        "\n"
      ],
      "metadata": {
        "id": "2uzaEZDgznus"
      }
    },
    {
      "cell_type": "code",
      "source": [
        "#实体识别\n",
        "text_try=\"贾雷德·戴蒙德的新书《崩溃》是对破坏环境后果的明确警告。\"\n",
        "HanLP.parse(text_try, tasks='ner/ontonotes').pretty_print()"
      ],
      "metadata": {
        "colab": {
          "base_uri": "https://localhost:8080/",
          "height": 356
        },
        "id": "Sh2ksQ4nxUVA",
        "outputId": "215bf9a5-7a83-4718-ece4-546b469af244"
      },
      "execution_count": null,
      "outputs": [
        {
          "output_type": "display_data",
          "data": {
            "text/plain": [
              "<IPython.core.display.HTML object>"
            ],
            "text/html": [
              "<div style=\"display: table; padding-bottom: 1rem;\"><pre style=\"display: table-cell; font-family: SFMono-Regular,Menlo,Monaco,Consolas,Liberation Mono,Courier New,monospace; white-space: nowrap; line-height: 128%; padding: 0;\">Token&nbsp;&nbsp;&nbsp;<br>───────&nbsp;<br>贾雷德·戴蒙德&nbsp;<br>的&nbsp;&nbsp;&nbsp;&nbsp;&nbsp;&nbsp;&nbsp;<br>新&nbsp;&nbsp;&nbsp;&nbsp;&nbsp;&nbsp;&nbsp;<br>书&nbsp;&nbsp;&nbsp;&nbsp;&nbsp;&nbsp;&nbsp;<br>《&nbsp;&nbsp;&nbsp;&nbsp;&nbsp;&nbsp;&nbsp;<br>崩溃&nbsp;&nbsp;&nbsp;&nbsp;&nbsp;&nbsp;<br>》&nbsp;&nbsp;&nbsp;&nbsp;&nbsp;&nbsp;&nbsp;<br>是&nbsp;&nbsp;&nbsp;&nbsp;&nbsp;&nbsp;&nbsp;<br>对&nbsp;&nbsp;&nbsp;&nbsp;&nbsp;&nbsp;&nbsp;<br>破坏&nbsp;&nbsp;&nbsp;&nbsp;&nbsp;&nbsp;<br>环境&nbsp;&nbsp;&nbsp;&nbsp;&nbsp;&nbsp;<br>后果&nbsp;&nbsp;&nbsp;&nbsp;&nbsp;&nbsp;<br>的&nbsp;&nbsp;&nbsp;&nbsp;&nbsp;&nbsp;&nbsp;<br>明确&nbsp;&nbsp;&nbsp;&nbsp;&nbsp;&nbsp;<br>警告&nbsp;&nbsp;&nbsp;&nbsp;&nbsp;&nbsp;<br>。&nbsp;&nbsp;&nbsp;&nbsp;&nbsp;&nbsp;&nbsp;</pre><pre style=\"display: table-cell; font-family: SFMono-Regular,Menlo,Monaco,Consolas,Liberation Mono,Courier New,monospace; white-space: nowrap; line-height: 128%; padding: 0;\">NER&nbsp;Type&nbsp;&nbsp;&nbsp;&nbsp;&nbsp;&nbsp;&nbsp;<br>───────────────<br>───►PERSON&nbsp;&nbsp;&nbsp;&nbsp;&nbsp;<br>&nbsp;&nbsp;&nbsp;&nbsp;&nbsp;&nbsp;&nbsp;&nbsp;&nbsp;&nbsp;&nbsp;&nbsp;&nbsp;&nbsp;&nbsp;<br>&nbsp;&nbsp;&nbsp;&nbsp;&nbsp;&nbsp;&nbsp;&nbsp;&nbsp;&nbsp;&nbsp;&nbsp;&nbsp;&nbsp;&nbsp;<br>&nbsp;&nbsp;&nbsp;&nbsp;&nbsp;&nbsp;&nbsp;&nbsp;&nbsp;&nbsp;&nbsp;&nbsp;&nbsp;&nbsp;&nbsp;<br>&nbsp;&nbsp;&nbsp;&nbsp;&nbsp;&nbsp;&nbsp;&nbsp;&nbsp;&nbsp;&nbsp;&nbsp;&nbsp;&nbsp;&nbsp;<br>───►WORK_OF_ART<br>&nbsp;&nbsp;&nbsp;&nbsp;&nbsp;&nbsp;&nbsp;&nbsp;&nbsp;&nbsp;&nbsp;&nbsp;&nbsp;&nbsp;&nbsp;<br>&nbsp;&nbsp;&nbsp;&nbsp;&nbsp;&nbsp;&nbsp;&nbsp;&nbsp;&nbsp;&nbsp;&nbsp;&nbsp;&nbsp;&nbsp;<br>&nbsp;&nbsp;&nbsp;&nbsp;&nbsp;&nbsp;&nbsp;&nbsp;&nbsp;&nbsp;&nbsp;&nbsp;&nbsp;&nbsp;&nbsp;<br>&nbsp;&nbsp;&nbsp;&nbsp;&nbsp;&nbsp;&nbsp;&nbsp;&nbsp;&nbsp;&nbsp;&nbsp;&nbsp;&nbsp;&nbsp;<br>&nbsp;&nbsp;&nbsp;&nbsp;&nbsp;&nbsp;&nbsp;&nbsp;&nbsp;&nbsp;&nbsp;&nbsp;&nbsp;&nbsp;&nbsp;<br>&nbsp;&nbsp;&nbsp;&nbsp;&nbsp;&nbsp;&nbsp;&nbsp;&nbsp;&nbsp;&nbsp;&nbsp;&nbsp;&nbsp;&nbsp;<br>&nbsp;&nbsp;&nbsp;&nbsp;&nbsp;&nbsp;&nbsp;&nbsp;&nbsp;&nbsp;&nbsp;&nbsp;&nbsp;&nbsp;&nbsp;<br>&nbsp;&nbsp;&nbsp;&nbsp;&nbsp;&nbsp;&nbsp;&nbsp;&nbsp;&nbsp;&nbsp;&nbsp;&nbsp;&nbsp;&nbsp;<br>&nbsp;&nbsp;&nbsp;&nbsp;&nbsp;&nbsp;&nbsp;&nbsp;&nbsp;&nbsp;&nbsp;&nbsp;&nbsp;&nbsp;&nbsp;<br>&nbsp;&nbsp;&nbsp;&nbsp;&nbsp;&nbsp;&nbsp;&nbsp;&nbsp;&nbsp;&nbsp;&nbsp;&nbsp;&nbsp;&nbsp;</pre></div>"
            ]
          },
          "metadata": {}
        }
      ]
    },
    {
      "cell_type": "code",
      "source": [
        "#依存语法识别\n",
        "doc = HanLP.parse(text_try, tasks='dep')\n",
        "print(doc)"
      ],
      "metadata": {
        "colab": {
          "base_uri": "https://localhost:8080/"
        },
        "id": "tjzZ9DVh0P0L",
        "outputId": "96560959-5d54-4b7b-b018-9c25a93185c6"
      },
      "execution_count": null,
      "outputs": [
        {
          "output_type": "stream",
          "name": "stdout",
          "text": [
            "{\n",
            "  \"tok/fine\": [\n",
            "    [\"贾雷德·戴蒙德\", \"的\", \"新\", \"书\", \"《\", \"崩溃\", \"》\", \"是\", \"对\", \"破坏\", \"环境\", \"后果\", \"的\", \"明确\", \"警告\", \"。\"]\n",
            "  ],\n",
            "  \"dep\": [\n",
            "    [[4, \"nmod:assmod\"], [1, \"case\"], [4, \"amod\"], [6, \"compound:nn\"], [6, \"punct\"], [15, \"nsubj\"], [6, \"punct\"], [15, \"cop\"], [12, \"case\"], [12, \"acl\"], [10, \"dobj\"], [15, \"nmod\"], [12, \"case\"], [15, \"amod\"], [0, \"root\"], [15, \"punct\"]]\n",
            "  ]\n",
            "}\n"
          ]
        }
      ]
    },
    {
      "cell_type": "code",
      "source": [
        "doc.pretty_print()"
      ],
      "metadata": {
        "colab": {
          "base_uri": "https://localhost:8080/",
          "height": 356
        },
        "id": "9YhPe5HF0dRP",
        "outputId": "68175b23-e491-44da-fb5d-9877bc6a0ab1"
      },
      "execution_count": null,
      "outputs": [
        {
          "output_type": "display_data",
          "data": {
            "text/plain": [
              "<IPython.core.display.HTML object>"
            ],
            "text/html": [
              "<div style=\"display: table; padding-bottom: 1rem;\"><pre style=\"display: table-cell; font-family: SFMono-Regular,Menlo,Monaco,Consolas,Liberation Mono,Courier New,monospace; white-space: nowrap; line-height: 128%; padding: 0;\">Dep&nbsp;Tree&nbsp;&nbsp;&nbsp;&nbsp;&nbsp;<br>────────────&nbsp;<br>&nbsp;&nbsp;&nbsp;&nbsp;&nbsp;&nbsp;┌─►┌──&nbsp;<br>&nbsp;&nbsp;&nbsp;&nbsp;&nbsp;&nbsp;│&nbsp;&nbsp;└─►&nbsp;<br>&nbsp;&nbsp;&nbsp;&nbsp;&nbsp;&nbsp;│&nbsp;&nbsp;┌─►&nbsp;<br>&nbsp;&nbsp;&nbsp;┌─►└──┴──&nbsp;<br>&nbsp;&nbsp;&nbsp;│&nbsp;&nbsp;&nbsp;&nbsp;&nbsp;┌─►&nbsp;<br>┌─►└─────┼──&nbsp;<br>│&nbsp;&nbsp;&nbsp;&nbsp;&nbsp;&nbsp;&nbsp;&nbsp;└─►&nbsp;<br>│┌─────────►&nbsp;<br>││&nbsp;&nbsp;&nbsp;┌─────►&nbsp;<br>││&nbsp;&nbsp;&nbsp;│┌─►┌──&nbsp;<br>││&nbsp;&nbsp;&nbsp;││&nbsp;&nbsp;└─►&nbsp;<br>││┌─►└┴──┬──&nbsp;<br>│││&nbsp;&nbsp;&nbsp;&nbsp;&nbsp;&nbsp;└─►&nbsp;<br>│││&nbsp;&nbsp;&nbsp;&nbsp;&nbsp;&nbsp;┌─►&nbsp;<br>└┴┴──────┼──&nbsp;<br>&nbsp;&nbsp;&nbsp;&nbsp;&nbsp;&nbsp;&nbsp;&nbsp;&nbsp;└─►&nbsp;</pre><pre style=\"display: table-cell; font-family: SFMono-Regular,Menlo,Monaco,Consolas,Liberation Mono,Courier New,monospace; white-space: nowrap; line-height: 128%; padding: 0;\">Token&nbsp;&nbsp;&nbsp;<br>───────&nbsp;<br>贾雷德·戴蒙德&nbsp;<br>的&nbsp;&nbsp;&nbsp;&nbsp;&nbsp;&nbsp;&nbsp;<br>新&nbsp;&nbsp;&nbsp;&nbsp;&nbsp;&nbsp;&nbsp;<br>书&nbsp;&nbsp;&nbsp;&nbsp;&nbsp;&nbsp;&nbsp;<br>《&nbsp;&nbsp;&nbsp;&nbsp;&nbsp;&nbsp;&nbsp;<br>崩溃&nbsp;&nbsp;&nbsp;&nbsp;&nbsp;&nbsp;<br>》&nbsp;&nbsp;&nbsp;&nbsp;&nbsp;&nbsp;&nbsp;<br>是&nbsp;&nbsp;&nbsp;&nbsp;&nbsp;&nbsp;&nbsp;<br>对&nbsp;&nbsp;&nbsp;&nbsp;&nbsp;&nbsp;&nbsp;<br>破坏&nbsp;&nbsp;&nbsp;&nbsp;&nbsp;&nbsp;<br>环境&nbsp;&nbsp;&nbsp;&nbsp;&nbsp;&nbsp;<br>后果&nbsp;&nbsp;&nbsp;&nbsp;&nbsp;&nbsp;<br>的&nbsp;&nbsp;&nbsp;&nbsp;&nbsp;&nbsp;&nbsp;<br>明确&nbsp;&nbsp;&nbsp;&nbsp;&nbsp;&nbsp;<br>警告&nbsp;&nbsp;&nbsp;&nbsp;&nbsp;&nbsp;<br>。&nbsp;&nbsp;&nbsp;&nbsp;&nbsp;&nbsp;&nbsp;</pre><pre style=\"display: table-cell; font-family: SFMono-Regular,Menlo,Monaco,Consolas,Liberation Mono,Courier New,monospace; white-space: nowrap; line-height: 128%; padding: 0;\">Relation&nbsp;&nbsp;&nbsp;<br>───────────<br>nmod:assmod<br>case&nbsp;&nbsp;&nbsp;&nbsp;&nbsp;&nbsp;&nbsp;<br>amod&nbsp;&nbsp;&nbsp;&nbsp;&nbsp;&nbsp;&nbsp;<br>compound:nn<br>punct&nbsp;&nbsp;&nbsp;&nbsp;&nbsp;&nbsp;<br>nsubj&nbsp;&nbsp;&nbsp;&nbsp;&nbsp;&nbsp;<br>punct&nbsp;&nbsp;&nbsp;&nbsp;&nbsp;&nbsp;<br>cop&nbsp;&nbsp;&nbsp;&nbsp;&nbsp;&nbsp;&nbsp;&nbsp;<br>case&nbsp;&nbsp;&nbsp;&nbsp;&nbsp;&nbsp;&nbsp;<br>acl&nbsp;&nbsp;&nbsp;&nbsp;&nbsp;&nbsp;&nbsp;&nbsp;<br>dobj&nbsp;&nbsp;&nbsp;&nbsp;&nbsp;&nbsp;&nbsp;<br>nmod&nbsp;&nbsp;&nbsp;&nbsp;&nbsp;&nbsp;&nbsp;<br>case&nbsp;&nbsp;&nbsp;&nbsp;&nbsp;&nbsp;&nbsp;<br>amod&nbsp;&nbsp;&nbsp;&nbsp;&nbsp;&nbsp;&nbsp;<br>root&nbsp;&nbsp;&nbsp;&nbsp;&nbsp;&nbsp;&nbsp;<br>punct&nbsp;&nbsp;&nbsp;&nbsp;&nbsp;&nbsp;</pre></div>"
            ]
          },
          "metadata": {}
        }
      ]
    },
    {
      "cell_type": "code",
      "source": [
        "HanLP.keyphrase_extraction(text)#关键词（短语）提取（Keyphrase Extraction）的目标是文本中最具有代表性的关键词以及短语。"
      ],
      "metadata": {
        "colab": {
          "base_uri": "https://localhost:8080/"
        },
        "id": "kjj69qYE0aQ4",
        "outputId": "d578f3ca-5520-4829-8925-41552401940e"
      },
      "execution_count": null,
      "outputs": [
        {
          "output_type": "execute_result",
          "data": {
            "text/plain": [
              "{'拉帕努伊': 0.9746366739273071,\n",
              " '贾雷德·戴蒙德的新书': 0.5544393658638,\n",
              " '摩艾雕像': 0.5513750314712524,\n",
              " '拉帕努伊社会的崩溃': 0.5053567290306091,\n",
              " '著名的摩艾雕像': 0.4849400520324707,\n",
              " '岛上的不同地点': 0.44859373569488525,\n",
              " '摩艾': 0.3831756114959717,\n",
              " '崩溃': 0.3810558617115021,\n",
              " '作者的说法': 0.3765204846858978,\n",
              " '任何关心环境的人': 0.3719581663608551}"
            ]
          },
          "metadata": {},
          "execution_count": 44
        }
      ]
    },
    {
      "cell_type": "code",
      "source": [
        "#情感分析\n",
        "HanLP.sentiment_analysis(text)"
      ],
      "metadata": {
        "colab": {
          "base_uri": "https://localhost:8080/"
        },
        "id": "3fWwif2d2rs6",
        "outputId": "93040394-fdda-4237-8f6c-11cd39ddc892"
      },
      "execution_count": null,
      "outputs": [
        {
          "output_type": "execute_result",
          "data": {
            "text/plain": [
              "0.8642482161521912"
            ]
          },
          "metadata": {},
          "execution_count": 45
        }
      ]
    },
    {
      "cell_type": "markdown",
      "source": [
        "# 论文复刻"
      ],
      "metadata": {
        "id": "218zYW7F4LUo"
      }
    },
    {
      "cell_type": "markdown",
      "source": [
        "1. 计算输入文本中每个句子的关键性，并根据关键性对句子进行排名，从最高开始。\n",
        "2. 根据段落长度为每个段落分配考点配额。\n",
        "3. 沿着关键性列表选择考点，同时遵守配额限制，如果候选句子所属的段落已经满足其配额，则拒绝该候选句子；如果检测到候选句子与已选考点句子具有相似意义，则拒绝该候选句子。如果在选择过程中没有可用的候选句子，则调整阈值。"
      ],
      "metadata": {
        "id": "p2IJb_DIBoyu"
      }
    },
    {
      "cell_type": "markdown",
      "source": [
        "贾雷德·戴蒙德的新书《崩溃》是对破坏环境后果的明确警告。在书中，作者描述了几个因自身选择及其对环境的影响而崩溃的文明。书中最令人不安的例子之一就是拉帕努伊。\n",
        "\n",
        "根据作者的说法，拉帕努伊在公元700年之后的某个时候由波利尼西亚人定居。他们发展出了一个繁荣的社会，人口或许达到了1.5万人。他们雕刻了著名的摩艾雕像，并利用可用的自然资源将这些巨大的雕像运到岛上的不同地点。当第一批欧洲人在1722年登上拉帕努伊岛时，摩艾雕像仍然存在，但树木已经消失。人口减少到了几千人，他们正努力维持生存。戴蒙德先生写道，拉帕努伊人为了农业和其他目的清理了土地，并且过度捕猎了岛上曾经繁盛的众多海鸟和陆鸟物种。他推测，自然资源的枯竭导致了内战以及拉帕努伊社会的崩溃。\n",
        "\n",
        "这本书虽然精彩，但也令人警醒，它告诉我们，在过去，人类选择通过砍伐所有树木和将动物物种猎杀至灭绝来破坏环境。乐观的是，作者指出，我们可以选择不在今天犯同样的错误。这本书写得很好，值得任何关心环境的人阅读。"
      ],
      "metadata": {
        "id": "72I6BLGBCJmJ"
      }
    },
    {
      "cell_type": "code",
      "source": [
        "text=\"\"\"贾雷德·戴蒙德的新书《崩溃》是对破坏环境后果的明确警告。在书中，作者描述了几个因自身选择及其对环境的影响而崩溃的文明。书中最令人不安的例子之一就是拉帕努伊。\n",
        "根据作者的说法，拉帕努伊在公元700年之后的某个时候由波利尼西亚人定居。他们发展出了一个繁荣的社会，人口或许达到了1.5万人。他们雕刻了著名的摩艾雕像，并利用可用的自然资源将这些巨大的雕像运到岛上的不同地点。当第一批欧洲人在1722年登上拉帕努伊岛时，摩艾雕像仍然存在，但树木已经消失。人口减少到了几千人，他们正努力维持生存。戴蒙德先生写道，拉帕努伊人为了农业和其他目的清理了土地，并且过度捕猎了岛上曾经繁盛的众多海鸟和陆鸟物种。他推测，自然资源的枯竭导致了内战以及拉帕努伊社会的崩溃。\n",
        "这本书虽然精彩，但也令人警醒，它告诉我们，在过去，人类选择通过砍伐所有树木和将动物物种猎杀至灭绝来破坏环境。乐观的是，作者指出，我们可以选择不在今天犯同样的错误。这本书写得很好，值得任何关心环境的人阅读。\"\"\""
      ],
      "metadata": {
        "id": "zxbQ9ELAD7nl"
      },
      "execution_count": null,
      "outputs": []
    },
    {
      "cell_type": "code",
      "source": [
        "#创建两个列表保存句子和段落信息\n",
        "import re\n",
        "\n",
        "def split_sentences(text):#保留句子信息和句子对应的段落信息\n",
        "    # 定义中文句子的结束符号\n",
        "    sentence_endings = r'[。！？]'#对应hanlp中的分句逻辑\n",
        "    # 使用换行符分割段落\n",
        "    paragraphs = text.split('\\n')\n",
        "    # 去掉空字符串\n",
        "    paragraphs = [paragraph.strip() for paragraph in paragraphs if paragraph.strip()]\n",
        "\n",
        "    sentences = []  # 存储所有句子\n",
        "    paragraph_indices = []  # 存储每个句子所属的段落编号\n",
        "\n",
        "    for paragraph_index, paragraph in enumerate(paragraphs):\n",
        "        # 对每个段落进行句子分割\n",
        "        paragraph_sentences = re.split(sentence_endings, paragraph)\n",
        "        # 去掉空字符串\n",
        "        paragraph_sentences = [sentence.strip() for sentence in paragraph_sentences if sentence.strip()]\n",
        "        # 将句子和段落编号添加到列表中\n",
        "        sentences.extend(paragraph_sentences)\n",
        "        paragraph_indices.extend([paragraph_index + 1] * len(paragraph_sentences))\n",
        "\n",
        "    return sentences, paragraph_indices\n",
        "def split_paragraphs(text):#保留段路信息\n",
        "    # 使用反斜杠分割段落\n",
        "    paragraphs = text.split('\\n')  # 修改为反斜杠分割\n",
        "    # 去掉空字符串\n",
        "    paragraphs = [paragraph.strip() for paragraph in paragraphs if paragraph.strip()]\n",
        "    return paragraphs\n"
      ],
      "metadata": {
        "id": "nKt8TsYbqO-y"
      },
      "execution_count": null,
      "outputs": []
    },
    {
      "cell_type": "code",
      "source": [
        "sentence_infor,paragraph_index=split_sentences(text)\n",
        "sentence_infor,paragraph_index"
      ],
      "metadata": {
        "colab": {
          "base_uri": "https://localhost:8080/"
        },
        "id": "cJzVGb1Htrgt",
        "outputId": "42bb9782-b7ad-436a-f51a-e8192298539f"
      },
      "execution_count": null,
      "outputs": [
        {
          "output_type": "execute_result",
          "data": {
            "text/plain": [
              "(['贾雷德·戴蒙德的新书《崩溃》是对破坏环境后果的明确警告',\n",
              "  '在书中，作者描述了几个因自身选择及其对环境的影响而崩溃的文明',\n",
              "  '书中最令人不安的例子之一就是拉帕努伊',\n",
              "  '根据作者的说法，拉帕努伊在公元700年之后的某个时候由波利尼西亚人定居',\n",
              "  '他们发展出了一个繁荣的社会，人口或许达到了1.5万人',\n",
              "  '他们雕刻了著名的摩艾雕像，并利用可用的自然资源将这些巨大的雕像运到岛上的不同地点',\n",
              "  '当第一批欧洲人在1722年登上拉帕努伊岛时，摩艾雕像仍然存在，但树木已经消失',\n",
              "  '人口减少到了几千人，他们正努力维持生存',\n",
              "  '戴蒙德先生写道，拉帕努伊人为了农业和其他目的清理了土地，并且过度捕猎了岛上曾经繁盛的众多海鸟和陆鸟物种',\n",
              "  '他推测，自然资源的枯竭导致了内战以及拉帕努伊社会的崩溃',\n",
              "  '这本书虽然精彩，但也令人警醒，它告诉我们，在过去，人类选择通过砍伐所有树木和将动物物种猎杀至灭绝来破坏环境',\n",
              "  '乐观的是，作者指出，我们可以选择不在今天犯同样的错误',\n",
              "  '这本书写得很好，值得任何关心环境的人阅读'],\n",
              " [1, 1, 1, 2, 2, 2, 2, 2, 2, 2, 3, 3, 3])"
            ]
          },
          "metadata": {},
          "execution_count": 7
        }
      ]
    },
    {
      "cell_type": "code",
      "source": [
        "paragraphs_infor=split_paragraphs(text)"
      ],
      "metadata": {
        "id": "-Z7v0irL4LAx"
      },
      "execution_count": null,
      "outputs": []
    },
    {
      "cell_type": "code",
      "source": [
        "#使用细分\n",
        "words=HanLP.tokenize(text)\n",
        "words"
      ],
      "metadata": {
        "colab": {
          "base_uri": "https://localhost:8080/"
        },
        "id": "Hwp4tNCQyQ3C",
        "outputId": "b219d09e-6394-4226-c50b-ad285d2b7ce8"
      },
      "execution_count": null,
      "outputs": [
        {
          "output_type": "execute_result",
          "data": {
            "text/plain": [
              "[['贾雷德·戴蒙德',\n",
              "  '的',\n",
              "  '新',\n",
              "  '书',\n",
              "  '《',\n",
              "  '崩溃',\n",
              "  '》',\n",
              "  '是',\n",
              "  '对',\n",
              "  '破坏',\n",
              "  '环境',\n",
              "  '后果',\n",
              "  '的',\n",
              "  '明确',\n",
              "  '警告',\n",
              "  '。'],\n",
              " ['在',\n",
              "  '书中',\n",
              "  '，',\n",
              "  '作者',\n",
              "  '描述',\n",
              "  '了',\n",
              "  '几',\n",
              "  '个',\n",
              "  '因',\n",
              "  '自身',\n",
              "  '选择',\n",
              "  '及其',\n",
              "  '对',\n",
              "  '环境',\n",
              "  '的',\n",
              "  '影响',\n",
              "  '而',\n",
              "  '崩溃',\n",
              "  '的',\n",
              "  '文明',\n",
              "  '。'],\n",
              " ['书中', '最', '令', '人', '不安', '的', '例子', '之一', '就是', '拉帕努伊', '。'],\n",
              " ['根据',\n",
              "  '作者',\n",
              "  '的',\n",
              "  '说法',\n",
              "  '，',\n",
              "  '拉帕努伊',\n",
              "  '在',\n",
              "  '公元',\n",
              "  '700',\n",
              "  '年',\n",
              "  '之后',\n",
              "  '的',\n",
              "  '某个',\n",
              "  '时候',\n",
              "  '由',\n",
              "  '波利尼西亚',\n",
              "  '人',\n",
              "  '定居',\n",
              "  '。'],\n",
              " ['他们',\n",
              "  '发展',\n",
              "  '出了',\n",
              "  '一',\n",
              "  '个',\n",
              "  '繁荣',\n",
              "  '的',\n",
              "  '社会',\n",
              "  '，',\n",
              "  '人口',\n",
              "  '或许',\n",
              "  '达到',\n",
              "  '了',\n",
              "  '1.5万',\n",
              "  '人',\n",
              "  '。'],\n",
              " ['他们',\n",
              "  '雕刻',\n",
              "  '了',\n",
              "  '著名',\n",
              "  '的',\n",
              "  '摩艾',\n",
              "  '雕像',\n",
              "  '，',\n",
              "  '并',\n",
              "  '利用',\n",
              "  '可用',\n",
              "  '的',\n",
              "  '自然',\n",
              "  '资源',\n",
              "  '将',\n",
              "  '这些',\n",
              "  '巨大',\n",
              "  '的',\n",
              "  '雕像',\n",
              "  '运到',\n",
              "  '岛',\n",
              "  '上',\n",
              "  '的',\n",
              "  '不同',\n",
              "  '地点',\n",
              "  '。'],\n",
              " ['当',\n",
              "  '第一',\n",
              "  '批',\n",
              "  '欧洲人',\n",
              "  '在',\n",
              "  '1722',\n",
              "  '年',\n",
              "  '登上',\n",
              "  '拉帕努伊岛',\n",
              "  '时',\n",
              "  '，',\n",
              "  '摩艾',\n",
              "  '雕像',\n",
              "  '仍然',\n",
              "  '存在',\n",
              "  '，',\n",
              "  '但',\n",
              "  '树木',\n",
              "  '已经',\n",
              "  '消失',\n",
              "  '。'],\n",
              " ['人口', '减少', '到了', '几千', '人', '，', '他们', '正', '努力', '维持', '生存', '。'],\n",
              " ['戴蒙德',\n",
              "  '先生',\n",
              "  '写道',\n",
              "  '，',\n",
              "  '拉帕努伊',\n",
              "  '人',\n",
              "  '为了',\n",
              "  '农业',\n",
              "  '和',\n",
              "  '其他',\n",
              "  '目的',\n",
              "  '清理',\n",
              "  '了',\n",
              "  '土地',\n",
              "  '，',\n",
              "  '并且',\n",
              "  '过度',\n",
              "  '捕猎',\n",
              "  '了',\n",
              "  '岛',\n",
              "  '上',\n",
              "  '曾经',\n",
              "  '繁盛',\n",
              "  '的',\n",
              "  '众多',\n",
              "  '海鸟',\n",
              "  '和',\n",
              "  '陆鸟',\n",
              "  '物种',\n",
              "  '。'],\n",
              " ['他',\n",
              "  '推测',\n",
              "  '，',\n",
              "  '自然',\n",
              "  '资源',\n",
              "  '的',\n",
              "  '枯竭',\n",
              "  '导致',\n",
              "  '了',\n",
              "  '内战',\n",
              "  '以及',\n",
              "  '拉帕努伊',\n",
              "  '社会',\n",
              "  '的',\n",
              "  '崩溃',\n",
              "  '。'],\n",
              " ['这',\n",
              "  '本',\n",
              "  '书',\n",
              "  '虽然',\n",
              "  '精彩',\n",
              "  '，',\n",
              "  '但',\n",
              "  '也',\n",
              "  '令',\n",
              "  '人',\n",
              "  '警醒',\n",
              "  '，',\n",
              "  '它',\n",
              "  '告诉',\n",
              "  '我们',\n",
              "  '，',\n",
              "  '在',\n",
              "  '过去',\n",
              "  '，',\n",
              "  '人类',\n",
              "  '选择',\n",
              "  '通过',\n",
              "  '砍伐',\n",
              "  '所有',\n",
              "  '树木',\n",
              "  '和',\n",
              "  '将',\n",
              "  '动物',\n",
              "  '物种',\n",
              "  '猎杀',\n",
              "  '至',\n",
              "  '灭绝',\n",
              "  '来',\n",
              "  '破坏',\n",
              "  '环境',\n",
              "  '。'],\n",
              " ['乐观',\n",
              "  '的',\n",
              "  '是',\n",
              "  '，',\n",
              "  '作者',\n",
              "  '指出',\n",
              "  '，',\n",
              "  '我们',\n",
              "  '可以',\n",
              "  '选择',\n",
              "  '不在',\n",
              "  '今天',\n",
              "  '犯',\n",
              "  '同样',\n",
              "  '的',\n",
              "  '错误',\n",
              "  '。'],\n",
              " ['这', '本', '书写', '得很', '好', '，', '值得', '任何', '关心', '环境', '的', '人', '阅读', '。']]"
            ]
          },
          "metadata": {},
          "execution_count": 30
        }
      ]
    },
    {
      "cell_type": "code",
      "source": [
        "#使用粗分\n",
        "words=HanLP.tokenize(text, coarse=True)\n",
        "words"
      ],
      "metadata": {
        "colab": {
          "base_uri": "https://localhost:8080/"
        },
        "id": "iBFJbfbMEhoH",
        "outputId": "1a705905-cb6b-43c7-b9ba-a1585ba39fb2"
      },
      "execution_count": null,
      "outputs": [
        {
          "output_type": "execute_result",
          "data": {
            "text/plain": [
              "[['贾雷德·戴蒙德',\n",
              "  '的',\n",
              "  '新书',\n",
              "  '《崩溃》',\n",
              "  '是',\n",
              "  '对',\n",
              "  '破坏',\n",
              "  '环境',\n",
              "  '后果',\n",
              "  '的',\n",
              "  '明确',\n",
              "  '警告',\n",
              "  '。'],\n",
              " ['在',\n",
              "  '书中',\n",
              "  '，',\n",
              "  '作者',\n",
              "  '描述',\n",
              "  '了',\n",
              "  '几个',\n",
              "  '因',\n",
              "  '自身',\n",
              "  '选择',\n",
              "  '及其',\n",
              "  '对',\n",
              "  '环境',\n",
              "  '的',\n",
              "  '影响',\n",
              "  '而',\n",
              "  '崩溃',\n",
              "  '的',\n",
              "  '文明',\n",
              "  '。'],\n",
              " ['书中', '最', '令人', '不安', '的', '例子', '之一', '就是', '拉帕努伊', '。'],\n",
              " ['根据',\n",
              "  '作者',\n",
              "  '的',\n",
              "  '说法',\n",
              "  '，',\n",
              "  '拉帕努伊',\n",
              "  '在',\n",
              "  '公元700年',\n",
              "  '之后',\n",
              "  '的',\n",
              "  '某个',\n",
              "  '时候',\n",
              "  '由',\n",
              "  '波利尼西亚人',\n",
              "  '定居',\n",
              "  '。'],\n",
              " ['他们',\n",
              "  '发展',\n",
              "  '出了',\n",
              "  '一个',\n",
              "  '繁荣的',\n",
              "  '社会',\n",
              "  '，',\n",
              "  '人口',\n",
              "  '或许',\n",
              "  '达到',\n",
              "  '了',\n",
              "  '1.5万',\n",
              "  '人',\n",
              "  '。'],\n",
              " ['他们',\n",
              "  '雕刻',\n",
              "  '了',\n",
              "  '著名',\n",
              "  '的',\n",
              "  '摩艾',\n",
              "  '雕像',\n",
              "  '，',\n",
              "  '并',\n",
              "  '利用',\n",
              "  '可用',\n",
              "  '的',\n",
              "  '自然资源',\n",
              "  '将',\n",
              "  '这些',\n",
              "  '巨大',\n",
              "  '的',\n",
              "  '雕像',\n",
              "  '运到',\n",
              "  '岛',\n",
              "  '上',\n",
              "  '的',\n",
              "  '不同',\n",
              "  '地点',\n",
              "  '。'],\n",
              " ['当',\n",
              "  '第一批',\n",
              "  '欧洲人',\n",
              "  '在',\n",
              "  '1722年',\n",
              "  '登上',\n",
              "  '拉帕努伊岛',\n",
              "  '时',\n",
              "  '，',\n",
              "  '摩艾',\n",
              "  '雕像',\n",
              "  '仍然',\n",
              "  '存在',\n",
              "  '，',\n",
              "  '但',\n",
              "  '树木',\n",
              "  '已经',\n",
              "  '消失',\n",
              "  '。'],\n",
              " ['人口减少', '到了', '几千', '人', '，', '他们', '正', '努力', '维持', '生存', '。'],\n",
              " ['戴蒙德',\n",
              "  '先生',\n",
              "  '写道',\n",
              "  '，',\n",
              "  '拉帕努伊',\n",
              "  '人',\n",
              "  '为了',\n",
              "  '农业',\n",
              "  '和',\n",
              "  '其他',\n",
              "  '目的',\n",
              "  '清理',\n",
              "  '了',\n",
              "  '土地',\n",
              "  '，',\n",
              "  '并且',\n",
              "  '过度',\n",
              "  '捕猎',\n",
              "  '了',\n",
              "  '岛',\n",
              "  '上',\n",
              "  '曾经',\n",
              "  '繁盛',\n",
              "  '的',\n",
              "  '众多',\n",
              "  '海鸟',\n",
              "  '和',\n",
              "  '陆鸟',\n",
              "  '物种',\n",
              "  '。'],\n",
              " ['他',\n",
              "  '推测',\n",
              "  '，',\n",
              "  '自然资源',\n",
              "  '的',\n",
              "  '枯竭',\n",
              "  '导致',\n",
              "  '了',\n",
              "  '内战',\n",
              "  '以及',\n",
              "  '拉帕努伊',\n",
              "  '社会',\n",
              "  '的',\n",
              "  '崩溃',\n",
              "  '。'],\n",
              " ['这本书',\n",
              "  '虽然',\n",
              "  '精彩',\n",
              "  '，',\n",
              "  '但',\n",
              "  '也',\n",
              "  '令人',\n",
              "  '警醒',\n",
              "  '，',\n",
              "  '它',\n",
              "  '告诉',\n",
              "  '我们',\n",
              "  '，',\n",
              "  '在',\n",
              "  '过去',\n",
              "  '，',\n",
              "  '人类',\n",
              "  '选择',\n",
              "  '通过',\n",
              "  '砍伐',\n",
              "  '所有',\n",
              "  '树木',\n",
              "  '和',\n",
              "  '将',\n",
              "  '动物',\n",
              "  '物种',\n",
              "  '猎杀',\n",
              "  '至',\n",
              "  '灭绝',\n",
              "  '来',\n",
              "  '破坏',\n",
              "  '环境',\n",
              "  '。'],\n",
              " ['乐观',\n",
              "  '的',\n",
              "  '是',\n",
              "  '，',\n",
              "  '作者',\n",
              "  '指出',\n",
              "  '，',\n",
              "  '我们',\n",
              "  '可以',\n",
              "  '选择',\n",
              "  '不在',\n",
              "  '今天',\n",
              "  '犯',\n",
              "  '同样',\n",
              "  '的',\n",
              "  '错误',\n",
              "  '。'],\n",
              " ['这本书', '写', '得很', '好', '，', '值得', '任何', '关心', '环境', '的', '人', '阅读', '。']]"
            ]
          },
          "metadata": {},
          "execution_count": 10
        }
      ]
    },
    {
      "cell_type": "code",
      "source": [
        "text=\"贾雷德·戴蒙德的新书《崩溃》是对破坏环境后果的明确警告。在书中，作者描述了几个因自身选择及其对环境的影响而崩溃的文明。书中最令人不安的例子之一就是拉帕努伊。\\\n",
        "根据作者的说法，拉帕努伊在公元700年之后的某个时候由波利尼西亚人定居。他们发展出了一个繁荣的社会，人口或许达到了1.5万人。他们雕刻了著名的摩艾雕像，并利用可用的自然资源将这些巨大的雕像运到岛上的不同地点。当第一批欧洲人在1722年登上拉帕努伊岛时，摩艾雕像仍然存在，但树木已经消失。人口减少到了几千人，他们正努力维持生存。戴蒙德先生写道，拉帕努伊人为了农业和其他目的清理了土地，并且过度捕猎了岛上曾经繁盛的众多海鸟和陆鸟物种。他推测，自然资源的枯竭导致了内战以及拉帕努伊社会的崩溃。\\\n",
        "这本书虽然精彩，但也令人警醒，它告诉我们，在过去，人类选择通过砍伐所有树木和将动物物种猎杀至灭绝来破坏环境。乐观的是，作者指出，我们可以选择不在今天犯同样的错误。这本书写得很好，值得任何关心环境的人阅读。\""
      ],
      "metadata": {
        "id": "DIqMVvB1KF7E"
      },
      "execution_count": null,
      "outputs": []
    },
    {
      "cell_type": "code",
      "source": [
        "segmented_words=HanLP.parse(text, tasks='pos/pku')"
      ],
      "metadata": {
        "id": "-c9BDB_-qrkK"
      },
      "execution_count": null,
      "outputs": []
    },
    {
      "cell_type": "code",
      "source": [
        "area=[\"n\",\"v\",\"a\",\"d\"]#确定实词范围，名词、动词、形容词、副词"
      ],
      "metadata": {
        "id": "EZ4pM9qSrQ4m"
      },
      "execution_count": null,
      "outputs": []
    },
    {
      "cell_type": "code",
      "source": [
        "after= [[] for _ in range(len(segmented_words['pos/pku']))]"
      ],
      "metadata": {
        "id": "I9neKyxDsuBv"
      },
      "execution_count": null,
      "outputs": []
    },
    {
      "cell_type": "code",
      "source": [
        "for i in range(len(segmented_words['pos/pku'])):\n",
        "  for j in range(len(segmented_words['pos/pku'][i])):\n",
        "    if segmented_words['pos/pku'][i][j] in area:\n",
        "      after[i].append(segmented_words['tok/fine'][i][j])\n",
        "after"
      ],
      "metadata": {
        "colab": {
          "base_uri": "https://localhost:8080/"
        },
        "id": "t770v4NxraVG",
        "outputId": "c352ae85-479c-4aab-e874-de93d475e0da"
      },
      "execution_count": null,
      "outputs": [
        {
          "output_type": "execute_result",
          "data": {
            "text/plain": [
              "[['新', '书', '崩溃', '是', '破坏', '环境', '后果', '明确'],\n",
              " ['作者', '描述', '环境', '崩溃', '文明'],\n",
              " ['最', '令', '人', '不安', '例子', '就是'],\n",
              " ['作者', '说法', '公元', '时候', '人', '定居'],\n",
              " ['发展', '出了', '繁荣', '社会', '人口', '或许', '达到', '人'],\n",
              " ['雕刻', '著名', '雕像', '利用', '可用', '巨大', '雕像', '运到', '岛', '不同', '地点'],\n",
              " ['欧洲人', '登上', '雕像', '仍然', '存在', '树木', '已经', '消失'],\n",
              " ['人口', '减少', '到了', '人', '正', '维持'],\n",
              " ['先生',\n",
              "  '写道',\n",
              "  '人',\n",
              "  '农业',\n",
              "  '目的',\n",
              "  '清理',\n",
              "  '土地',\n",
              "  '过度',\n",
              "  '捕猎',\n",
              "  '岛',\n",
              "  '曾经',\n",
              "  '繁盛',\n",
              "  '海鸟',\n",
              "  '陆鸟',\n",
              "  '物种'],\n",
              " ['推测', '导致', '内战', '社会'],\n",
              " ['书',\n",
              "  '精彩',\n",
              "  '也',\n",
              "  '令',\n",
              "  '人',\n",
              "  '警醒',\n",
              "  '告诉',\n",
              "  '人类',\n",
              "  '选择',\n",
              "  '砍伐',\n",
              "  '树木',\n",
              "  '动物',\n",
              "  '物种',\n",
              "  '猎杀',\n",
              "  '至',\n",
              "  '灭绝',\n",
              "  '来',\n",
              "  '破坏',\n",
              "  '环境'],\n",
              " ['乐观', '是', '作者', '指出', '可以', '选择', '不在', '犯', '错误'],\n",
              " ['书写', '好', '值得', '关心', '环境', '人', '阅读']]"
            ]
          },
          "metadata": {},
          "execution_count": 16
        }
      ]
    },
    {
      "cell_type": "code",
      "source": [
        "from collections import Counter\n",
        "#计算词频，也许可以生成一个字典\n",
        "flat_words = [word for sublist in after for word in sublist]\n",
        "word_counts = Counter(flat_words)\n",
        "word_counts"
      ],
      "metadata": {
        "colab": {
          "base_uri": "https://localhost:8080/"
        },
        "id": "rr26yGxbwKiD",
        "outputId": "58663a22-9cf4-487f-c39b-e24a0f429568"
      },
      "execution_count": null,
      "outputs": [
        {
          "output_type": "execute_result",
          "data": {
            "text/plain": [
              "Counter({'新': 1,\n",
              "         '书': 2,\n",
              "         '崩溃': 2,\n",
              "         '是': 2,\n",
              "         '破坏': 2,\n",
              "         '环境': 4,\n",
              "         '后果': 1,\n",
              "         '明确': 1,\n",
              "         '作者': 3,\n",
              "         '描述': 1,\n",
              "         '文明': 1,\n",
              "         '最': 1,\n",
              "         '令': 2,\n",
              "         '人': 7,\n",
              "         '不安': 1,\n",
              "         '例子': 1,\n",
              "         '就是': 1,\n",
              "         '说法': 1,\n",
              "         '公元': 1,\n",
              "         '时候': 1,\n",
              "         '定居': 1,\n",
              "         '发展': 1,\n",
              "         '出了': 1,\n",
              "         '繁荣': 1,\n",
              "         '社会': 2,\n",
              "         '人口': 2,\n",
              "         '或许': 1,\n",
              "         '达到': 1,\n",
              "         '雕刻': 1,\n",
              "         '著名': 1,\n",
              "         '雕像': 3,\n",
              "         '利用': 1,\n",
              "         '可用': 1,\n",
              "         '巨大': 1,\n",
              "         '运到': 1,\n",
              "         '岛': 2,\n",
              "         '不同': 1,\n",
              "         '地点': 1,\n",
              "         '欧洲人': 1,\n",
              "         '登上': 1,\n",
              "         '仍然': 1,\n",
              "         '存在': 1,\n",
              "         '树木': 2,\n",
              "         '已经': 1,\n",
              "         '消失': 1,\n",
              "         '减少': 1,\n",
              "         '到了': 1,\n",
              "         '正': 1,\n",
              "         '维持': 1,\n",
              "         '先生': 1,\n",
              "         '写道': 1,\n",
              "         '农业': 1,\n",
              "         '目的': 1,\n",
              "         '清理': 1,\n",
              "         '土地': 1,\n",
              "         '过度': 1,\n",
              "         '捕猎': 1,\n",
              "         '曾经': 1,\n",
              "         '繁盛': 1,\n",
              "         '海鸟': 1,\n",
              "         '陆鸟': 1,\n",
              "         '物种': 2,\n",
              "         '推测': 1,\n",
              "         '导致': 1,\n",
              "         '内战': 1,\n",
              "         '精彩': 1,\n",
              "         '也': 1,\n",
              "         '警醒': 1,\n",
              "         '告诉': 1,\n",
              "         '人类': 1,\n",
              "         '选择': 2,\n",
              "         '砍伐': 1,\n",
              "         '动物': 1,\n",
              "         '猎杀': 1,\n",
              "         '至': 1,\n",
              "         '灭绝': 1,\n",
              "         '来': 1,\n",
              "         '乐观': 1,\n",
              "         '指出': 1,\n",
              "         '可以': 1,\n",
              "         '不在': 1,\n",
              "         '犯': 1,\n",
              "         '错误': 1,\n",
              "         '书写': 1,\n",
              "         '好': 1,\n",
              "         '值得': 1,\n",
              "         '关心': 1,\n",
              "         '阅读': 1})"
            ]
          },
          "metadata": {},
          "execution_count": 17
        }
      ]
    },
    {
      "cell_type": "code",
      "source": [
        "#计算每句话的词频，并储存到一个词频的list中\n",
        "sentence_count=[]\n",
        "for i in range(len(after)):\n",
        "  count=0\n",
        "  for j in after[i]:\n",
        "    count+=word_counts[j]\n",
        "  sentence_count.append(count/len(after[i]))\n",
        "sentence_count"
      ],
      "metadata": {
        "colab": {
          "base_uri": "https://localhost:8080/"
        },
        "id": "cnxWvbkwxoax",
        "outputId": "1c311caf-6948-4ba9-c194-78d8abf99674"
      },
      "execution_count": null,
      "outputs": [
        {
          "output_type": "execute_result",
          "data": {
            "text/plain": [
              "[1.875,\n",
              " 2.2,\n",
              " 2.1666666666666665,\n",
              " 2.3333333333333335,\n",
              " 2.0,\n",
              " 1.4545454545454546,\n",
              " 1.375,\n",
              " 2.1666666666666665,\n",
              " 1.5333333333333334,\n",
              " 1.25,\n",
              " 1.7894736842105263,\n",
              " 1.4444444444444444,\n",
              " 2.2857142857142856]"
            ]
          },
          "metadata": {},
          "execution_count": 18
        }
      ]
    },
    {
      "cell_type": "code",
      "source": [
        "#从大到小排序\n",
        "key_index=[]\n",
        "so=sorted(sentence_count,reverse=True)\n",
        "for i in range(len(sentence_count)):\n",
        "  j=so.index(sentence_count[i])\n",
        "  key_index.append(j)\n",
        "key_index\n"
      ],
      "metadata": {
        "colab": {
          "base_uri": "https://localhost:8080/"
        },
        "id": "eEDbyVzJLPKZ",
        "outputId": "38cf2dc3-92f3-49cc-9e21-5938822dca05"
      },
      "execution_count": null,
      "outputs": [
        {
          "output_type": "execute_result",
          "data": {
            "text/plain": [
              "[6, 2, 3, 0, 5, 9, 11, 3, 8, 12, 7, 10, 1]"
            ]
          },
          "metadata": {},
          "execution_count": 62
        }
      ]
    },
    {
      "cell_type": "code",
      "source": [
        "#考虑索引中会出现重复的情况\n",
        "standard=list(range(len(sentence_count)))\n",
        "for i in range(len(sentence_count)):\n",
        "  while standard[i] not in key_index:\n",
        "    key_index[key_index.index(3)]+=1\n",
        "key_index"
      ],
      "metadata": {
        "colab": {
          "base_uri": "https://localhost:8080/"
        },
        "id": "c2F7yj3WzsEp",
        "outputId": "3366a52d-6add-4344-b893-478a95a6390d"
      },
      "execution_count": null,
      "outputs": [
        {
          "output_type": "execute_result",
          "data": {
            "text/plain": [
              "[6, 2, 4, 0, 5, 9, 11, 3, 8, 12, 7, 10, 1]"
            ]
          },
          "metadata": {},
          "execution_count": 64
        }
      ]
    },
    {
      "cell_type": "code",
      "source": [
        "#实现计算每个段的试题数量\n",
        "def allocate(n,paragraph_infor):\n",
        "  allocation=[]\n",
        "  All=0\n",
        "  for i in range(len(paragraph_infor)):\n",
        "    All+=len(paragraph_infor[i])\n",
        "  for i in range(len(paragraph_infor)):\n",
        "    allocation.append(round((len(paragraph_infor[i])/All)*n))\n",
        "  return allocation\n",
        "allocation=allocate(5,paragraphs_infor)#第一个参数是试题总数量,返回每段的试题数量\n",
        "allocation"
      ],
      "metadata": {
        "colab": {
          "base_uri": "https://localhost:8080/"
        },
        "id": "ByZumDllydvK",
        "outputId": "d0923d80-47bb-477c-85e2-c8caea646a44"
      },
      "execution_count": null,
      "outputs": [
        {
          "output_type": "execute_result",
          "data": {
            "text/plain": [
              "[1, 3, 1]"
            ]
          },
          "metadata": {},
          "execution_count": 25
        }
      ]
    },
    {
      "cell_type": "markdown",
      "source": [
        "1. 计算输入文本中每个句子的关键性，并根据关键性对句子进行排名，从最高开始。\n",
        "2. 根据段落长度为每个段落分配考点配额。\n",
        "3. 沿着关键性列表选择考点，同时遵守配额限制，如果候选句子所属的段落已经满足其配额，则拒绝该候选句子；如果检测到候选句子与已选考点句子具有相似意义，则拒绝该候选句子。如果在选择过程中没有可用的候选句子，则调整阈值。"
      ],
      "metadata": {
        "id": "qQAfqyuYySpJ"
      }
    },
    {
      "cell_type": "code",
      "source": [
        "#实现两句话直接的相似性对比——》完成相似度的比较--函数HanLP.semantic_textual_similarity()\n",
        "threshold=0.8#设置阈值"
      ],
      "metadata": {
        "id": "aWwFrNrUpPg8"
      },
      "execution_count": null,
      "outputs": []
    },
    {
      "cell_type": "code",
      "source": [
        "#检验相似度函数\n",
        "def similar(sentence,list,threshold):\n",
        "  for i in range(len(list)):\n",
        "    if HanLP.semantic_textual_similarity((sentence,list[i]))>threshold:\n",
        "      return False\n",
        "  return True"
      ],
      "metadata": {
        "id": "WWI8B9pUS4nj"
      },
      "execution_count": null,
      "outputs": []
    },
    {
      "cell_type": "code",
      "source": [
        "#设置题目数量\n",
        "q_number=5\n",
        "question=[]\n",
        "i=0\n",
        "paragraph_target=[0,0,0]\n",
        "while i<q_number:\n",
        "  target=key_index.index(i)\n",
        "  target_k=paragraph_index[target]\n",
        "  if paragraph_target[target_k-1]>allocation[target_k-1]:\n",
        "    print(\"配额已满\")\n",
        "  if similar(sentence_infor[target],question,threshold) is False:\n",
        "    print(\"相似度过高\")\n",
        "  if paragraph_target[target_k-1]<=allocation[target_k-1] and similar(sentence_infor[target],question,threshold):#根据配额分配\n",
        "    question.append(sentence_infor[target])\n",
        "    paragraph_target[target_k-1]+=1\n",
        "  i+=1\n",
        "  #检验相似度\n",
        "question"
      ],
      "metadata": {
        "id": "JH4_lTa9GW1s",
        "colab": {
          "base_uri": "https://localhost:8080/"
        },
        "outputId": "344b256d-8c8d-4bb0-f592-c5b9c89e772a"
      },
      "execution_count": null,
      "outputs": [
        {
          "output_type": "execute_result",
          "data": {
            "text/plain": [
              "['根据作者的说法，拉帕努伊在公元700年之后的某个时候由波利尼西亚人定居',\n",
              " '这本书写得很好，值得任何关心环境的人阅读',\n",
              " '在书中，作者描述了几个因自身选择及其对环境的影响而崩溃的文明',\n",
              " '人口减少到了几千人，他们正努力维持生存',\n",
              " '书中最令人不安的例子之一就是拉帕努伊']"
            ]
          },
          "metadata": {},
          "execution_count": 67
        }
      ]
    },
    {
      "cell_type": "code",
      "source": [
        "key_index"
      ],
      "metadata": {
        "colab": {
          "base_uri": "https://localhost:8080/"
        },
        "id": "re3P18RL3Xfa",
        "outputId": "67928ad2-3066-4803-aa51-100aa99e6357"
      },
      "execution_count": null,
      "outputs": [
        {
          "output_type": "execute_result",
          "data": {
            "text/plain": [
              "[5, 2, 3, 0, 4, 8, 10, 3, 7, 11, 6, 9, 1]"
            ]
          },
          "metadata": {},
          "execution_count": 50
        }
      ]
    },
    {
      "cell_type": "code",
      "source": [
        "sentence_infor"
      ],
      "metadata": {
        "colab": {
          "base_uri": "https://localhost:8080/"
        },
        "id": "7Y8U_Lxw3L0e",
        "outputId": "3bdef188-76c7-40ab-a271-e2246a81328f"
      },
      "execution_count": null,
      "outputs": [
        {
          "output_type": "execute_result",
          "data": {
            "text/plain": [
              "['贾雷德·戴蒙德的新书《崩溃》是对破坏环境后果的明确警告',\n",
              " '在书中，作者描述了几个因自身选择及其对环境的影响而崩溃的文明',\n",
              " '书中最令人不安的例子之一就是拉帕努伊',\n",
              " '根据作者的说法，拉帕努伊在公元700年之后的某个时候由波利尼西亚人定居',\n",
              " '他们发展出了一个繁荣的社会，人口或许达到了1.5万人',\n",
              " '他们雕刻了著名的摩艾雕像，并利用可用的自然资源将这些巨大的雕像运到岛上的不同地点',\n",
              " '当第一批欧洲人在1722年登上拉帕努伊岛时，摩艾雕像仍然存在，但树木已经消失',\n",
              " '人口减少到了几千人，他们正努力维持生存',\n",
              " '戴蒙德先生写道，拉帕努伊人为了农业和其他目的清理了土地，并且过度捕猎了岛上曾经繁盛的众多海鸟和陆鸟物种',\n",
              " '他推测，自然资源的枯竭导致了内战以及拉帕努伊社会的崩溃',\n",
              " '这本书虽然精彩，但也令人警醒，它告诉我们，在过去，人类选择通过砍伐所有树木和将动物物种猎杀至灭绝来破坏环境',\n",
              " '乐观的是，作者指出，我们可以选择不在今天犯同样的错误',\n",
              " '这本书写得很好，值得任何关心环境的人阅读']"
            ]
          },
          "metadata": {},
          "execution_count": 49
        }
      ]
    },
    {
      "cell_type": "code",
      "source": [
        "len(key_index)"
      ],
      "metadata": {
        "colab": {
          "base_uri": "https://localhost:8080/"
        },
        "id": "S1GBq90R6EGG",
        "outputId": "0d9e8abe-af1a-4786-cc16-c9426eec9fd3"
      },
      "execution_count": null,
      "outputs": [
        {
          "output_type": "execute_result",
          "data": {
            "text/plain": [
              "13"
            ]
          },
          "metadata": {},
          "execution_count": 60
        }
      ]
    },
    {
      "cell_type": "code",
      "source": [
        "sorted_list = [sentence_infor[key_index.index(i)] for i in range(len(key_index))]\n",
        "sorted_list"
      ],
      "metadata": {
        "colab": {
          "base_uri": "https://localhost:8080/"
        },
        "id": "LdNWv6xj3cYh",
        "outputId": "18a7c980-78fc-46f3-a825-174c63e3c2b3"
      },
      "execution_count": null,
      "outputs": [
        {
          "output_type": "execute_result",
          "data": {
            "text/plain": [
              "['根据作者的说法，拉帕努伊在公元700年之后的某个时候由波利尼西亚人定居',\n",
              " '这本书写得很好，值得任何关心环境的人阅读',\n",
              " '在书中，作者描述了几个因自身选择及其对环境的影响而崩溃的文明',\n",
              " '人口减少到了几千人，他们正努力维持生存',\n",
              " '书中最令人不安的例子之一就是拉帕努伊',\n",
              " '他们发展出了一个繁荣的社会，人口或许达到了1.5万人',\n",
              " '贾雷德·戴蒙德的新书《崩溃》是对破坏环境后果的明确警告',\n",
              " '这本书虽然精彩，但也令人警醒，它告诉我们，在过去，人类选择通过砍伐所有树木和将动物物种猎杀至灭绝来破坏环境',\n",
              " '戴蒙德先生写道，拉帕努伊人为了农业和其他目的清理了土地，并且过度捕猎了岛上曾经繁盛的众多海鸟和陆鸟物种',\n",
              " '他们雕刻了著名的摩艾雕像，并利用可用的自然资源将这些巨大的雕像运到岛上的不同地点',\n",
              " '乐观的是，作者指出，我们可以选择不在今天犯同样的错误',\n",
              " '当第一批欧洲人在1722年登上拉帕努伊岛时，摩艾雕像仍然存在，但树木已经消失',\n",
              " '他推测，自然资源的枯竭导致了内战以及拉帕努伊社会的崩溃']"
            ]
          },
          "metadata": {},
          "execution_count": 65
        }
      ]
    }
  ]
}