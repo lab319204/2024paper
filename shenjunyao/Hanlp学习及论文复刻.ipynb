{
  "nbformat": 4,
  "nbformat_minor": 0,
  "metadata": {
    "colab": {
      "provenance": [],
      "authorship_tag": "ABX9TyPrKsyvYbz09YQBWoVrn0vf",
      "include_colab_link": true
    },
    "kernelspec": {
      "name": "python3",
      "display_name": "Python 3"
    },
    "language_info": {
      "name": "python"
    }
  },
  "cells": [
    {
      "cell_type": "markdown",
      "metadata": {
        "id": "view-in-github",
        "colab_type": "text"
      },
      "source": [
        "<a href=\"https://colab.research.google.com/github/lab319204/2024paper/blob/main/shenjunyao/Hanlp%E5%AD%A6%E4%B9%A0%E5%8F%8A%E8%AE%BA%E6%96%87%E5%A4%8D%E5%88%BB.ipynb\" target=\"_parent\"><img src=\"https://colab.research.google.com/assets/colab-badge.svg\" alt=\"Open In Colab\"/></a>"
      ]
    },
    {
      "cell_type": "markdown",
      "source": [
        "HanLP 是一个由中国开发者何晗(hankcs)于 2014 年开发的自然语言处理库，自发布之后，HanLP 不断更新迭代，进行了许多新功能和性能的优化，Github 上 Star 数量已超过 3w，其在主流自然语言工具包中非常受欢迎。HanLP 具有丰富的功能，可以进行一系列文本分析任务，比如词法分析（分词、词性标注、命名实体识别）、句法分析、文本分类/聚类、信息抽取、语义分析等等。发展至今，HanLP 已经衍生出了 1.x和 2.x 两大版本，本文介绍的是主打追求经典、稳定、高效的 1.x 版本，并且 1.x 版本内部的算法经过了学术界、工业界的考验，已有出版的配套书籍《自然语言处理入门》（作者就是 HanLP 库的开发者），感兴趣的读者可以深入学习。\n",
        "\n",
        "由于这是第一篇介绍 HanLP 的文章，本文更加侧重以入门为主，主要介绍了在 Python 中安装并使用 HanLP1.x 的方法，以及如何获取 HanLP 的分词器进行分词，当然我们也会在后面的文章中介绍更多关于 HanLP 的功能。HanLP 开源地址：https://github.com/hankcs/HanLP"
      ],
      "metadata": {
        "id": "yZuf6sAA-jck"
      }
    },
    {
      "cell_type": "code",
      "execution_count": 7,
      "metadata": {
        "colab": {
          "base_uri": "https://localhost:8080/"
        },
        "id": "ipsgYVgT7DTx",
        "outputId": "1b980653-8c7d-4141-c5d1-c1cdd463452c"
      },
      "outputs": [
        {
          "output_type": "stream",
          "name": "stdout",
          "text": [
            "Requirement already satisfied: hanlp_restful in /usr/local/lib/python3.11/dist-packages (0.0.24)\n",
            "Requirement already satisfied: hanlp-common in /usr/local/lib/python3.11/dist-packages (from hanlp_restful) (0.0.23)\n",
            "Requirement already satisfied: phrasetree>=0.0.9 in /usr/local/lib/python3.11/dist-packages (from hanlp-common->hanlp_restful) (0.0.9)\n"
          ]
        }
      ],
      "source": [
        "!pip install hanlp_restful -U"
      ]
    },
    {
      "cell_type": "code",
      "source": [
        "from hanlp_restful import HanLPClient\n",
        "# 支持zh中文，en英语，ja日本语，mul多语种\n",
        "HanLP = HanLPClient('https://www.hanlp.com/api', auth='NzgxNkBiYnMuaGFubHAuY29tOnQ1QTl6YlJ5YlBiMEJoS2k=')  # auth需要申请"
      ],
      "metadata": {
        "id": "uvV1UcxP-wIX"
      },
      "execution_count": 8,
      "outputs": []
    },
    {
      "cell_type": "markdown",
      "source": [
        "#代码演示\n",
        "\n",
        "\n"
      ],
      "metadata": {
        "id": "2uzaEZDgznus"
      }
    },
    {
      "cell_type": "code",
      "source": [
        "text=\"贾雷德·戴蒙德的新书《崩溃》是对破坏环境后果的明确警告。在书中，作者描述了几个因自身选择及其对环境的影响而崩溃的文明。书中最令人不安的例子之一就是拉帕努伊。\\\n",
        "根据作者的说法，拉帕努伊在公元700年之后的某个时候由波利尼西亚人定居。他们发展出了一个繁荣的社会，人口或许达到了1.5万人。他们雕刻了著名的摩艾雕像，并利用可用的自然资源将这些巨大的雕像运到岛上的不同地点。当第一批欧洲人在1722年登上拉帕努伊岛时，摩艾雕像仍然存在，但树木已经消失。人口减少到了几千人，他们正努力维持生存。戴蒙德先生写道，拉帕努伊人为了农业和其他目的清理了土地，并且过度捕猎了岛上曾经繁盛的众多海鸟和陆鸟物种。他推测，自然资源的枯竭导致了内战以及拉帕努伊社会的崩溃。\\\n",
        "这本书虽然精彩，但也令人警醒，它告诉我们，在过去，人类选择通过砍伐所有树木和将动物物种猎杀至灭绝来破坏环境。乐观的是，作者指出，我们可以选择不在今天犯同样的错误。这本书写得很好，值得任何关心环境的人阅读。\""
      ],
      "metadata": {
        "id": "T3Djp0XHGQpM"
      },
      "execution_count": 9,
      "outputs": []
    },
    {
      "cell_type": "code",
      "source": [
        "#实体识别\n",
        "text_try=\"贾雷德·戴蒙德的新书《崩溃》是对破坏环境后果的明确警告。\"\n",
        "HanLP.parse(text_try, tasks='ner/ontonotes').pretty_print()"
      ],
      "metadata": {
        "colab": {
          "base_uri": "https://localhost:8080/",
          "height": 356
        },
        "id": "Sh2ksQ4nxUVA",
        "outputId": "f099d370-1ccc-4cf6-e54a-f3b177e26abb"
      },
      "execution_count": 10,
      "outputs": [
        {
          "output_type": "display_data",
          "data": {
            "text/plain": [
              "<IPython.core.display.HTML object>"
            ],
            "text/html": [
              "<div style=\"display: table; padding-bottom: 1rem;\"><pre style=\"display: table-cell; font-family: SFMono-Regular,Menlo,Monaco,Consolas,Liberation Mono,Courier New,monospace; white-space: nowrap; line-height: 128%; padding: 0;\">Token&nbsp;&nbsp;&nbsp;<br>───────&nbsp;<br>贾雷德·戴蒙德&nbsp;<br>的&nbsp;&nbsp;&nbsp;&nbsp;&nbsp;&nbsp;&nbsp;<br>新&nbsp;&nbsp;&nbsp;&nbsp;&nbsp;&nbsp;&nbsp;<br>书&nbsp;&nbsp;&nbsp;&nbsp;&nbsp;&nbsp;&nbsp;<br>《&nbsp;&nbsp;&nbsp;&nbsp;&nbsp;&nbsp;&nbsp;<br>崩溃&nbsp;&nbsp;&nbsp;&nbsp;&nbsp;&nbsp;<br>》&nbsp;&nbsp;&nbsp;&nbsp;&nbsp;&nbsp;&nbsp;<br>是&nbsp;&nbsp;&nbsp;&nbsp;&nbsp;&nbsp;&nbsp;<br>对&nbsp;&nbsp;&nbsp;&nbsp;&nbsp;&nbsp;&nbsp;<br>破坏&nbsp;&nbsp;&nbsp;&nbsp;&nbsp;&nbsp;<br>环境&nbsp;&nbsp;&nbsp;&nbsp;&nbsp;&nbsp;<br>后果&nbsp;&nbsp;&nbsp;&nbsp;&nbsp;&nbsp;<br>的&nbsp;&nbsp;&nbsp;&nbsp;&nbsp;&nbsp;&nbsp;<br>明确&nbsp;&nbsp;&nbsp;&nbsp;&nbsp;&nbsp;<br>警告&nbsp;&nbsp;&nbsp;&nbsp;&nbsp;&nbsp;<br>。&nbsp;&nbsp;&nbsp;&nbsp;&nbsp;&nbsp;&nbsp;</pre><pre style=\"display: table-cell; font-family: SFMono-Regular,Menlo,Monaco,Consolas,Liberation Mono,Courier New,monospace; white-space: nowrap; line-height: 128%; padding: 0;\">NER&nbsp;Type&nbsp;&nbsp;&nbsp;&nbsp;&nbsp;&nbsp;&nbsp;<br>───────────────<br>───►PERSON&nbsp;&nbsp;&nbsp;&nbsp;&nbsp;<br>&nbsp;&nbsp;&nbsp;&nbsp;&nbsp;&nbsp;&nbsp;&nbsp;&nbsp;&nbsp;&nbsp;&nbsp;&nbsp;&nbsp;&nbsp;<br>&nbsp;&nbsp;&nbsp;&nbsp;&nbsp;&nbsp;&nbsp;&nbsp;&nbsp;&nbsp;&nbsp;&nbsp;&nbsp;&nbsp;&nbsp;<br>&nbsp;&nbsp;&nbsp;&nbsp;&nbsp;&nbsp;&nbsp;&nbsp;&nbsp;&nbsp;&nbsp;&nbsp;&nbsp;&nbsp;&nbsp;<br>&nbsp;&nbsp;&nbsp;&nbsp;&nbsp;&nbsp;&nbsp;&nbsp;&nbsp;&nbsp;&nbsp;&nbsp;&nbsp;&nbsp;&nbsp;<br>───►WORK_OF_ART<br>&nbsp;&nbsp;&nbsp;&nbsp;&nbsp;&nbsp;&nbsp;&nbsp;&nbsp;&nbsp;&nbsp;&nbsp;&nbsp;&nbsp;&nbsp;<br>&nbsp;&nbsp;&nbsp;&nbsp;&nbsp;&nbsp;&nbsp;&nbsp;&nbsp;&nbsp;&nbsp;&nbsp;&nbsp;&nbsp;&nbsp;<br>&nbsp;&nbsp;&nbsp;&nbsp;&nbsp;&nbsp;&nbsp;&nbsp;&nbsp;&nbsp;&nbsp;&nbsp;&nbsp;&nbsp;&nbsp;<br>&nbsp;&nbsp;&nbsp;&nbsp;&nbsp;&nbsp;&nbsp;&nbsp;&nbsp;&nbsp;&nbsp;&nbsp;&nbsp;&nbsp;&nbsp;<br>&nbsp;&nbsp;&nbsp;&nbsp;&nbsp;&nbsp;&nbsp;&nbsp;&nbsp;&nbsp;&nbsp;&nbsp;&nbsp;&nbsp;&nbsp;<br>&nbsp;&nbsp;&nbsp;&nbsp;&nbsp;&nbsp;&nbsp;&nbsp;&nbsp;&nbsp;&nbsp;&nbsp;&nbsp;&nbsp;&nbsp;<br>&nbsp;&nbsp;&nbsp;&nbsp;&nbsp;&nbsp;&nbsp;&nbsp;&nbsp;&nbsp;&nbsp;&nbsp;&nbsp;&nbsp;&nbsp;<br>&nbsp;&nbsp;&nbsp;&nbsp;&nbsp;&nbsp;&nbsp;&nbsp;&nbsp;&nbsp;&nbsp;&nbsp;&nbsp;&nbsp;&nbsp;<br>&nbsp;&nbsp;&nbsp;&nbsp;&nbsp;&nbsp;&nbsp;&nbsp;&nbsp;&nbsp;&nbsp;&nbsp;&nbsp;&nbsp;&nbsp;<br>&nbsp;&nbsp;&nbsp;&nbsp;&nbsp;&nbsp;&nbsp;&nbsp;&nbsp;&nbsp;&nbsp;&nbsp;&nbsp;&nbsp;&nbsp;</pre></div>"
            ]
          },
          "metadata": {}
        }
      ]
    },
    {
      "cell_type": "code",
      "source": [
        "#依存语法识别\n",
        "doc = HanLP.parse(text_try, tasks='dep')\n",
        "print(doc)"
      ],
      "metadata": {
        "colab": {
          "base_uri": "https://localhost:8080/"
        },
        "id": "tjzZ9DVh0P0L",
        "outputId": "3a62f8c7-1cac-46cc-f6a6-f8f34a99fbdd"
      },
      "execution_count": 11,
      "outputs": [
        {
          "output_type": "stream",
          "name": "stdout",
          "text": [
            "{\n",
            "  \"tok/fine\": [\n",
            "    [\"贾雷德·戴蒙德\", \"的\", \"新\", \"书\", \"《\", \"崩溃\", \"》\", \"是\", \"对\", \"破坏\", \"环境\", \"后果\", \"的\", \"明确\", \"警告\", \"。\"]\n",
            "  ],\n",
            "  \"dep\": [\n",
            "    [[4, \"nmod:assmod\"], [1, \"case\"], [4, \"amod\"], [6, \"compound:nn\"], [6, \"punct\"], [15, \"nsubj\"], [6, \"punct\"], [15, \"cop\"], [12, \"case\"], [12, \"acl\"], [10, \"dobj\"], [15, \"nmod\"], [12, \"case\"], [15, \"amod\"], [0, \"root\"], [15, \"punct\"]]\n",
            "  ]\n",
            "}\n"
          ]
        }
      ]
    },
    {
      "cell_type": "code",
      "source": [
        "doc.pretty_print()"
      ],
      "metadata": {
        "colab": {
          "base_uri": "https://localhost:8080/",
          "height": 356
        },
        "id": "9YhPe5HF0dRP",
        "outputId": "efa0204b-15b3-44cc-cd0c-5f7876f259ee"
      },
      "execution_count": 12,
      "outputs": [
        {
          "output_type": "display_data",
          "data": {
            "text/plain": [
              "<IPython.core.display.HTML object>"
            ],
            "text/html": [
              "<div style=\"display: table; padding-bottom: 1rem;\"><pre style=\"display: table-cell; font-family: SFMono-Regular,Menlo,Monaco,Consolas,Liberation Mono,Courier New,monospace; white-space: nowrap; line-height: 128%; padding: 0;\">Dep&nbsp;Tree&nbsp;&nbsp;&nbsp;&nbsp;&nbsp;<br>────────────&nbsp;<br>&nbsp;&nbsp;&nbsp;&nbsp;&nbsp;&nbsp;┌─►┌──&nbsp;<br>&nbsp;&nbsp;&nbsp;&nbsp;&nbsp;&nbsp;│&nbsp;&nbsp;└─►&nbsp;<br>&nbsp;&nbsp;&nbsp;&nbsp;&nbsp;&nbsp;│&nbsp;&nbsp;┌─►&nbsp;<br>&nbsp;&nbsp;&nbsp;┌─►└──┴──&nbsp;<br>&nbsp;&nbsp;&nbsp;│&nbsp;&nbsp;&nbsp;&nbsp;&nbsp;┌─►&nbsp;<br>┌─►└─────┼──&nbsp;<br>│&nbsp;&nbsp;&nbsp;&nbsp;&nbsp;&nbsp;&nbsp;&nbsp;└─►&nbsp;<br>│┌─────────►&nbsp;<br>││&nbsp;&nbsp;&nbsp;┌─────►&nbsp;<br>││&nbsp;&nbsp;&nbsp;│┌─►┌──&nbsp;<br>││&nbsp;&nbsp;&nbsp;││&nbsp;&nbsp;└─►&nbsp;<br>││┌─►└┴──┬──&nbsp;<br>│││&nbsp;&nbsp;&nbsp;&nbsp;&nbsp;&nbsp;└─►&nbsp;<br>│││&nbsp;&nbsp;&nbsp;&nbsp;&nbsp;&nbsp;┌─►&nbsp;<br>└┴┴──────┼──&nbsp;<br>&nbsp;&nbsp;&nbsp;&nbsp;&nbsp;&nbsp;&nbsp;&nbsp;&nbsp;└─►&nbsp;</pre><pre style=\"display: table-cell; font-family: SFMono-Regular,Menlo,Monaco,Consolas,Liberation Mono,Courier New,monospace; white-space: nowrap; line-height: 128%; padding: 0;\">Token&nbsp;&nbsp;&nbsp;<br>───────&nbsp;<br>贾雷德·戴蒙德&nbsp;<br>的&nbsp;&nbsp;&nbsp;&nbsp;&nbsp;&nbsp;&nbsp;<br>新&nbsp;&nbsp;&nbsp;&nbsp;&nbsp;&nbsp;&nbsp;<br>书&nbsp;&nbsp;&nbsp;&nbsp;&nbsp;&nbsp;&nbsp;<br>《&nbsp;&nbsp;&nbsp;&nbsp;&nbsp;&nbsp;&nbsp;<br>崩溃&nbsp;&nbsp;&nbsp;&nbsp;&nbsp;&nbsp;<br>》&nbsp;&nbsp;&nbsp;&nbsp;&nbsp;&nbsp;&nbsp;<br>是&nbsp;&nbsp;&nbsp;&nbsp;&nbsp;&nbsp;&nbsp;<br>对&nbsp;&nbsp;&nbsp;&nbsp;&nbsp;&nbsp;&nbsp;<br>破坏&nbsp;&nbsp;&nbsp;&nbsp;&nbsp;&nbsp;<br>环境&nbsp;&nbsp;&nbsp;&nbsp;&nbsp;&nbsp;<br>后果&nbsp;&nbsp;&nbsp;&nbsp;&nbsp;&nbsp;<br>的&nbsp;&nbsp;&nbsp;&nbsp;&nbsp;&nbsp;&nbsp;<br>明确&nbsp;&nbsp;&nbsp;&nbsp;&nbsp;&nbsp;<br>警告&nbsp;&nbsp;&nbsp;&nbsp;&nbsp;&nbsp;<br>。&nbsp;&nbsp;&nbsp;&nbsp;&nbsp;&nbsp;&nbsp;</pre><pre style=\"display: table-cell; font-family: SFMono-Regular,Menlo,Monaco,Consolas,Liberation Mono,Courier New,monospace; white-space: nowrap; line-height: 128%; padding: 0;\">Relation&nbsp;&nbsp;&nbsp;<br>───────────<br>nmod:assmod<br>case&nbsp;&nbsp;&nbsp;&nbsp;&nbsp;&nbsp;&nbsp;<br>amod&nbsp;&nbsp;&nbsp;&nbsp;&nbsp;&nbsp;&nbsp;<br>compound:nn<br>punct&nbsp;&nbsp;&nbsp;&nbsp;&nbsp;&nbsp;<br>nsubj&nbsp;&nbsp;&nbsp;&nbsp;&nbsp;&nbsp;<br>punct&nbsp;&nbsp;&nbsp;&nbsp;&nbsp;&nbsp;<br>cop&nbsp;&nbsp;&nbsp;&nbsp;&nbsp;&nbsp;&nbsp;&nbsp;<br>case&nbsp;&nbsp;&nbsp;&nbsp;&nbsp;&nbsp;&nbsp;<br>acl&nbsp;&nbsp;&nbsp;&nbsp;&nbsp;&nbsp;&nbsp;&nbsp;<br>dobj&nbsp;&nbsp;&nbsp;&nbsp;&nbsp;&nbsp;&nbsp;<br>nmod&nbsp;&nbsp;&nbsp;&nbsp;&nbsp;&nbsp;&nbsp;<br>case&nbsp;&nbsp;&nbsp;&nbsp;&nbsp;&nbsp;&nbsp;<br>amod&nbsp;&nbsp;&nbsp;&nbsp;&nbsp;&nbsp;&nbsp;<br>root&nbsp;&nbsp;&nbsp;&nbsp;&nbsp;&nbsp;&nbsp;<br>punct&nbsp;&nbsp;&nbsp;&nbsp;&nbsp;&nbsp;</pre></div>"
            ]
          },
          "metadata": {}
        }
      ]
    },
    {
      "cell_type": "code",
      "source": [
        "HanLP.keyphrase_extraction(text)#关键词（短语）提取（Keyphrase Extraction）的目标是文本中最具有代表性的关键词以及短语。"
      ],
      "metadata": {
        "colab": {
          "base_uri": "https://localhost:8080/"
        },
        "id": "kjj69qYE0aQ4",
        "outputId": "2b1be040-ac9f-4857-9878-2c12f63a9421"
      },
      "execution_count": 13,
      "outputs": [
        {
          "output_type": "execute_result",
          "data": {
            "text/plain": [
              "{'拉帕努伊': 0.9746366739273071,\n",
              " '贾雷德·戴蒙德的新书': 0.5544393658638,\n",
              " '摩艾雕像': 0.5513750314712524,\n",
              " '拉帕努伊社会的崩溃': 0.5053567290306091,\n",
              " '著名的摩艾雕像': 0.4849400520324707,\n",
              " '岛上的不同地点': 0.44859373569488525,\n",
              " '摩艾': 0.3831756114959717,\n",
              " '崩溃': 0.3810558617115021,\n",
              " '作者的说法': 0.3765204846858978,\n",
              " '任何关心环境的人': 0.3719581663608551}"
            ]
          },
          "metadata": {},
          "execution_count": 13
        }
      ]
    },
    {
      "cell_type": "code",
      "source": [
        "#情感分析\n",
        "HanLP.sentiment_analysis(text)"
      ],
      "metadata": {
        "colab": {
          "base_uri": "https://localhost:8080/"
        },
        "id": "3fWwif2d2rs6",
        "outputId": "6c37e938-4803-45ff-f8c4-b21a31855d2c"
      },
      "execution_count": 14,
      "outputs": [
        {
          "output_type": "execute_result",
          "data": {
            "text/plain": [
              "0.8642482161521912"
            ]
          },
          "metadata": {},
          "execution_count": 14
        }
      ]
    },
    {
      "cell_type": "markdown",
      "source": [
        "# 论文复刻"
      ],
      "metadata": {
        "id": "218zYW7F4LUo"
      }
    },
    {
      "cell_type": "markdown",
      "source": [
        "关键性、完整性、独立性\n",
        "1. 计算输入文本中每个句子的关键性，并根据关键性对句子进行排名，从最高开始。\n",
        "2. 根据段落长度为每个段落分配考点配额。\n",
        "3. 沿着关键性列表选择考点，同时遵守配额限制，如果候选句子所属的段落已经满足其配额，则拒绝该候选句子；如果检测到候选句子与已选考点句子具有相似意义，则拒绝该候选句子。如果在选择过程中没有可用的候选句子，则调整阈值。"
      ],
      "metadata": {
        "id": "p2IJb_DIBoyu"
      }
    },
    {
      "cell_type": "markdown",
      "source": [
        "贾雷德·戴蒙德的新书《崩溃》是对破坏环境后果的明确警告。在书中，作者描述了几个因自身选择及其对环境的影响而崩溃的文明。书中最令人不安的例子之一就是拉帕努伊。\n",
        "\n",
        "根据作者的说法，拉帕努伊在公元700年之后的某个时候由波利尼西亚人定居。他们发展出了一个繁荣的社会，人口或许达到了1.5万人。他们雕刻了著名的摩艾雕像，并利用可用的自然资源将这些巨大的雕像运到岛上的不同地点。当第一批欧洲人在1722年登上拉帕努伊岛时，摩艾雕像仍然存在，但树木已经消失。人口减少到了几千人，他们正努力维持生存。戴蒙德先生写道，拉帕努伊人为了农业和其他目的清理了土地，并且过度捕猎了岛上曾经繁盛的众多海鸟和陆鸟物种。他推测，自然资源的枯竭导致了内战以及拉帕努伊社会的崩溃。\n",
        "\n",
        "这本书虽然精彩，但也令人警醒，它告诉我们，在过去，人类选择通过砍伐所有树木和将动物物种猎杀至灭绝来破坏环境。乐观的是，作者指出，我们可以选择不在今天犯同样的错误。这本书写得很好，值得任何关心环境的人阅读。"
      ],
      "metadata": {
        "id": "72I6BLGBCJmJ"
      }
    },
    {
      "cell_type": "code",
      "source": [
        "text=\"\"\"贾雷德·戴蒙德的新书《崩溃》是对破坏环境后果的明确警告。在书中，作者描述了几个因自身选择及其对环境的影响而崩溃的文明。书中最令人不安的例子之一就是拉帕努伊。\n",
        "根据作者的说法，拉帕努伊在公元700年之后的某个时候由波利尼西亚人定居。他们发展出了一个繁荣的社会，人口或许达到了1.5万人。他们雕刻了著名的摩艾雕像，并利用可用的自然资源将这些巨大的雕像运到岛上的不同地点。当第一批欧洲人在1722年登上拉帕努伊岛时，摩艾雕像仍然存在，但树木已经消失。人口减少到了几千人，他们正努力维持生存。戴蒙德先生写道，拉帕努伊人为了农业和其他目的清理了土地，并且过度捕猎了岛上曾经繁盛的众多海鸟和陆鸟物种。他推测，自然资源的枯竭导致了内战以及拉帕努伊社会的崩溃。\n",
        "这本书虽然精彩，但也令人警醒，它告诉我们，在过去，人类选择通过砍伐所有树木和将动物物种猎杀至灭绝来破坏环境。乐观的是，作者指出，我们可以选择不在今天犯同样的错误。这本书写得很好，值得任何关心环境的人阅读。\"\"\""
      ],
      "metadata": {
        "id": "zxbQ9ELAD7nl"
      },
      "execution_count": 15,
      "outputs": []
    },
    {
      "cell_type": "code",
      "source": [
        "#创建两个列表保存句子和段落信息\n",
        "import re\n",
        "\n",
        "def split_sentences(text):#保留句子信息和句子对应的段落信息\n",
        "    # 定义中文句子的结束符号\n",
        "    sentence_endings = r'[。！？]'#对应hanlp中的分句逻辑\n",
        "    # 使用换行符分割段落\n",
        "    paragraphs = text.split('\\n')\n",
        "    # 去掉空字符串\n",
        "    paragraphs = [paragraph.strip() for paragraph in paragraphs if paragraph.strip()]\n",
        "\n",
        "    sentences = []  # 存储所有句子\n",
        "    paragraph_indices = []  # 存储每个句子所属的段落编号\n",
        "\n",
        "    for paragraph_index, paragraph in enumerate(paragraphs):\n",
        "        # 对每个段落进行句子分割\n",
        "        paragraph_sentences = re.split(sentence_endings, paragraph)\n",
        "        # 去掉空字符串\n",
        "        paragraph_sentences = [sentence.strip() for sentence in paragraph_sentences if sentence.strip()]\n",
        "        # 将句子和段落编号添加到列表中\n",
        "        sentences.extend(paragraph_sentences)\n",
        "        paragraph_indices.extend([paragraph_index + 1] * len(paragraph_sentences))\n",
        "\n",
        "    return sentences, paragraph_indices\n",
        "def split_paragraphs(text):#保留段路信息\n",
        "    # 使用反斜杠分割段落\n",
        "    paragraphs = text.split('\\n')  # 修改为反斜杠分割\n",
        "    # 去掉空字符串\n",
        "    paragraphs = [paragraph.strip() for paragraph in paragraphs if paragraph.strip()]\n",
        "    return paragraphs\n"
      ],
      "metadata": {
        "id": "nKt8TsYbqO-y"
      },
      "execution_count": 16,
      "outputs": []
    },
    {
      "cell_type": "code",
      "source": [
        "sentence_infor,paragraph_index=split_sentences(text)\n",
        "sentence_infor,paragraph_index"
      ],
      "metadata": {
        "colab": {
          "base_uri": "https://localhost:8080/"
        },
        "id": "cJzVGb1Htrgt",
        "outputId": "fe60149e-85da-49bb-a307-f747c6534bc3"
      },
      "execution_count": 17,
      "outputs": [
        {
          "output_type": "execute_result",
          "data": {
            "text/plain": [
              "(['贾雷德·戴蒙德的新书《崩溃》是对破坏环境后果的明确警告',\n",
              "  '在书中，作者描述了几个因自身选择及其对环境的影响而崩溃的文明',\n",
              "  '书中最令人不安的例子之一就是拉帕努伊',\n",
              "  '根据作者的说法，拉帕努伊在公元700年之后的某个时候由波利尼西亚人定居',\n",
              "  '他们发展出了一个繁荣的社会，人口或许达到了1.5万人',\n",
              "  '他们雕刻了著名的摩艾雕像，并利用可用的自然资源将这些巨大的雕像运到岛上的不同地点',\n",
              "  '当第一批欧洲人在1722年登上拉帕努伊岛时，摩艾雕像仍然存在，但树木已经消失',\n",
              "  '人口减少到了几千人，他们正努力维持生存',\n",
              "  '戴蒙德先生写道，拉帕努伊人为了农业和其他目的清理了土地，并且过度捕猎了岛上曾经繁盛的众多海鸟和陆鸟物种',\n",
              "  '他推测，自然资源的枯竭导致了内战以及拉帕努伊社会的崩溃',\n",
              "  '这本书虽然精彩，但也令人警醒，它告诉我们，在过去，人类选择通过砍伐所有树木和将动物物种猎杀至灭绝来破坏环境',\n",
              "  '乐观的是，作者指出，我们可以选择不在今天犯同样的错误',\n",
              "  '这本书写得很好，值得任何关心环境的人阅读'],\n",
              " [1, 1, 1, 2, 2, 2, 2, 2, 2, 2, 3, 3, 3])"
            ]
          },
          "metadata": {},
          "execution_count": 17
        }
      ]
    },
    {
      "cell_type": "code",
      "source": [
        "paragraphs_infor=split_paragraphs(text)"
      ],
      "metadata": {
        "id": "-Z7v0irL4LAx"
      },
      "execution_count": 18,
      "outputs": []
    },
    {
      "cell_type": "code",
      "source": [
        "#使用细分\n",
        "words=HanLP.tokenize(text)\n",
        "words"
      ],
      "metadata": {
        "colab": {
          "base_uri": "https://localhost:8080/"
        },
        "id": "Hwp4tNCQyQ3C",
        "outputId": "cc49c3fa-23b4-4cca-e159-6bb0c26a171d"
      },
      "execution_count": 19,
      "outputs": [
        {
          "output_type": "execute_result",
          "data": {
            "text/plain": [
              "[['贾雷德·戴蒙德',\n",
              "  '的',\n",
              "  '新',\n",
              "  '书',\n",
              "  '《',\n",
              "  '崩溃',\n",
              "  '》',\n",
              "  '是',\n",
              "  '对',\n",
              "  '破坏',\n",
              "  '环境',\n",
              "  '后果',\n",
              "  '的',\n",
              "  '明确',\n",
              "  '警告',\n",
              "  '。'],\n",
              " ['在',\n",
              "  '书中',\n",
              "  '，',\n",
              "  '作者',\n",
              "  '描述',\n",
              "  '了',\n",
              "  '几',\n",
              "  '个',\n",
              "  '因',\n",
              "  '自身',\n",
              "  '选择',\n",
              "  '及其',\n",
              "  '对',\n",
              "  '环境',\n",
              "  '的',\n",
              "  '影响',\n",
              "  '而',\n",
              "  '崩溃',\n",
              "  '的',\n",
              "  '文明',\n",
              "  '。'],\n",
              " ['书中', '最', '令', '人', '不安', '的', '例子', '之一', '就是', '拉帕努伊', '。'],\n",
              " ['根据',\n",
              "  '作者',\n",
              "  '的',\n",
              "  '说法',\n",
              "  '，',\n",
              "  '拉帕努伊',\n",
              "  '在',\n",
              "  '公元',\n",
              "  '700',\n",
              "  '年',\n",
              "  '之后',\n",
              "  '的',\n",
              "  '某个',\n",
              "  '时候',\n",
              "  '由',\n",
              "  '波利尼西亚',\n",
              "  '人',\n",
              "  '定居',\n",
              "  '。'],\n",
              " ['他们',\n",
              "  '发展',\n",
              "  '出了',\n",
              "  '一',\n",
              "  '个',\n",
              "  '繁荣',\n",
              "  '的',\n",
              "  '社会',\n",
              "  '，',\n",
              "  '人口',\n",
              "  '或许',\n",
              "  '达到',\n",
              "  '了',\n",
              "  '1.5万',\n",
              "  '人',\n",
              "  '。'],\n",
              " ['他们',\n",
              "  '雕刻',\n",
              "  '了',\n",
              "  '著名',\n",
              "  '的',\n",
              "  '摩艾',\n",
              "  '雕像',\n",
              "  '，',\n",
              "  '并',\n",
              "  '利用',\n",
              "  '可用',\n",
              "  '的',\n",
              "  '自然',\n",
              "  '资源',\n",
              "  '将',\n",
              "  '这些',\n",
              "  '巨大',\n",
              "  '的',\n",
              "  '雕像',\n",
              "  '运到',\n",
              "  '岛',\n",
              "  '上',\n",
              "  '的',\n",
              "  '不同',\n",
              "  '地点',\n",
              "  '。'],\n",
              " ['当',\n",
              "  '第一',\n",
              "  '批',\n",
              "  '欧洲人',\n",
              "  '在',\n",
              "  '1722',\n",
              "  '年',\n",
              "  '登上',\n",
              "  '拉帕努伊岛',\n",
              "  '时',\n",
              "  '，',\n",
              "  '摩艾',\n",
              "  '雕像',\n",
              "  '仍然',\n",
              "  '存在',\n",
              "  '，',\n",
              "  '但',\n",
              "  '树木',\n",
              "  '已经',\n",
              "  '消失',\n",
              "  '。'],\n",
              " ['人口', '减少', '到了', '几千', '人', '，', '他们', '正', '努力', '维持', '生存', '。'],\n",
              " ['戴蒙德',\n",
              "  '先生',\n",
              "  '写道',\n",
              "  '，',\n",
              "  '拉帕努伊',\n",
              "  '人',\n",
              "  '为了',\n",
              "  '农业',\n",
              "  '和',\n",
              "  '其他',\n",
              "  '目的',\n",
              "  '清理',\n",
              "  '了',\n",
              "  '土地',\n",
              "  '，',\n",
              "  '并且',\n",
              "  '过度',\n",
              "  '捕猎',\n",
              "  '了',\n",
              "  '岛',\n",
              "  '上',\n",
              "  '曾经',\n",
              "  '繁盛',\n",
              "  '的',\n",
              "  '众多',\n",
              "  '海鸟',\n",
              "  '和',\n",
              "  '陆鸟',\n",
              "  '物种',\n",
              "  '。'],\n",
              " ['他',\n",
              "  '推测',\n",
              "  '，',\n",
              "  '自然',\n",
              "  '资源',\n",
              "  '的',\n",
              "  '枯竭',\n",
              "  '导致',\n",
              "  '了',\n",
              "  '内战',\n",
              "  '以及',\n",
              "  '拉帕努伊',\n",
              "  '社会',\n",
              "  '的',\n",
              "  '崩溃',\n",
              "  '。'],\n",
              " ['这',\n",
              "  '本',\n",
              "  '书',\n",
              "  '虽然',\n",
              "  '精彩',\n",
              "  '，',\n",
              "  '但',\n",
              "  '也',\n",
              "  '令',\n",
              "  '人',\n",
              "  '警醒',\n",
              "  '，',\n",
              "  '它',\n",
              "  '告诉',\n",
              "  '我们',\n",
              "  '，',\n",
              "  '在',\n",
              "  '过去',\n",
              "  '，',\n",
              "  '人类',\n",
              "  '选择',\n",
              "  '通过',\n",
              "  '砍伐',\n",
              "  '所有',\n",
              "  '树木',\n",
              "  '和',\n",
              "  '将',\n",
              "  '动物',\n",
              "  '物种',\n",
              "  '猎杀',\n",
              "  '至',\n",
              "  '灭绝',\n",
              "  '来',\n",
              "  '破坏',\n",
              "  '环境',\n",
              "  '。'],\n",
              " ['乐观',\n",
              "  '的',\n",
              "  '是',\n",
              "  '，',\n",
              "  '作者',\n",
              "  '指出',\n",
              "  '，',\n",
              "  '我们',\n",
              "  '可以',\n",
              "  '选择',\n",
              "  '不在',\n",
              "  '今天',\n",
              "  '犯',\n",
              "  '同样',\n",
              "  '的',\n",
              "  '错误',\n",
              "  '。'],\n",
              " ['这', '本', '书写', '得很', '好', '，', '值得', '任何', '关心', '环境', '的', '人', '阅读', '。']]"
            ]
          },
          "metadata": {},
          "execution_count": 19
        }
      ]
    },
    {
      "cell_type": "code",
      "source": [
        "#使用粗分\n",
        "words=HanLP.tokenize(text, coarse=True)\n",
        "words"
      ],
      "metadata": {
        "colab": {
          "base_uri": "https://localhost:8080/"
        },
        "id": "iBFJbfbMEhoH",
        "outputId": "8866a3f6-a49d-435e-9cd1-e547f7ad2b41"
      },
      "execution_count": 20,
      "outputs": [
        {
          "output_type": "execute_result",
          "data": {
            "text/plain": [
              "[['贾雷德·戴蒙德',\n",
              "  '的',\n",
              "  '新书',\n",
              "  '《崩溃》',\n",
              "  '是',\n",
              "  '对',\n",
              "  '破坏',\n",
              "  '环境',\n",
              "  '后果',\n",
              "  '的',\n",
              "  '明确',\n",
              "  '警告',\n",
              "  '。'],\n",
              " ['在',\n",
              "  '书中',\n",
              "  '，',\n",
              "  '作者',\n",
              "  '描述',\n",
              "  '了',\n",
              "  '几个',\n",
              "  '因',\n",
              "  '自身',\n",
              "  '选择',\n",
              "  '及其',\n",
              "  '对',\n",
              "  '环境',\n",
              "  '的',\n",
              "  '影响',\n",
              "  '而',\n",
              "  '崩溃',\n",
              "  '的',\n",
              "  '文明',\n",
              "  '。'],\n",
              " ['书中', '最', '令人', '不安', '的', '例子', '之一', '就是', '拉帕努伊', '。'],\n",
              " ['根据',\n",
              "  '作者',\n",
              "  '的',\n",
              "  '说法',\n",
              "  '，',\n",
              "  '拉帕努伊',\n",
              "  '在',\n",
              "  '公元700年',\n",
              "  '之后',\n",
              "  '的',\n",
              "  '某个',\n",
              "  '时候',\n",
              "  '由',\n",
              "  '波利尼西亚人',\n",
              "  '定居',\n",
              "  '。'],\n",
              " ['他们',\n",
              "  '发展',\n",
              "  '出了',\n",
              "  '一个',\n",
              "  '繁荣的',\n",
              "  '社会',\n",
              "  '，',\n",
              "  '人口',\n",
              "  '或许',\n",
              "  '达到',\n",
              "  '了',\n",
              "  '1.5万',\n",
              "  '人',\n",
              "  '。'],\n",
              " ['他们',\n",
              "  '雕刻',\n",
              "  '了',\n",
              "  '著名',\n",
              "  '的',\n",
              "  '摩艾',\n",
              "  '雕像',\n",
              "  '，',\n",
              "  '并',\n",
              "  '利用',\n",
              "  '可用',\n",
              "  '的',\n",
              "  '自然资源',\n",
              "  '将',\n",
              "  '这些',\n",
              "  '巨大',\n",
              "  '的',\n",
              "  '雕像',\n",
              "  '运到',\n",
              "  '岛',\n",
              "  '上',\n",
              "  '的',\n",
              "  '不同',\n",
              "  '地点',\n",
              "  '。'],\n",
              " ['当',\n",
              "  '第一批',\n",
              "  '欧洲人',\n",
              "  '在',\n",
              "  '1722年',\n",
              "  '登上',\n",
              "  '拉帕努伊岛',\n",
              "  '时',\n",
              "  '，',\n",
              "  '摩艾',\n",
              "  '雕像',\n",
              "  '仍然',\n",
              "  '存在',\n",
              "  '，',\n",
              "  '但',\n",
              "  '树木',\n",
              "  '已经',\n",
              "  '消失',\n",
              "  '。'],\n",
              " ['人口减少', '到了', '几千', '人', '，', '他们', '正', '努力', '维持', '生存', '。'],\n",
              " ['戴蒙德',\n",
              "  '先生',\n",
              "  '写道',\n",
              "  '，',\n",
              "  '拉帕努伊',\n",
              "  '人',\n",
              "  '为了',\n",
              "  '农业',\n",
              "  '和',\n",
              "  '其他',\n",
              "  '目的',\n",
              "  '清理',\n",
              "  '了',\n",
              "  '土地',\n",
              "  '，',\n",
              "  '并且',\n",
              "  '过度',\n",
              "  '捕猎',\n",
              "  '了',\n",
              "  '岛',\n",
              "  '上',\n",
              "  '曾经',\n",
              "  '繁盛',\n",
              "  '的',\n",
              "  '众多',\n",
              "  '海鸟',\n",
              "  '和',\n",
              "  '陆鸟',\n",
              "  '物种',\n",
              "  '。'],\n",
              " ['他',\n",
              "  '推测',\n",
              "  '，',\n",
              "  '自然资源',\n",
              "  '的',\n",
              "  '枯竭',\n",
              "  '导致',\n",
              "  '了',\n",
              "  '内战',\n",
              "  '以及',\n",
              "  '拉帕努伊',\n",
              "  '社会',\n",
              "  '的',\n",
              "  '崩溃',\n",
              "  '。'],\n",
              " ['这本书',\n",
              "  '虽然',\n",
              "  '精彩',\n",
              "  '，',\n",
              "  '但',\n",
              "  '也',\n",
              "  '令人',\n",
              "  '警醒',\n",
              "  '，',\n",
              "  '它',\n",
              "  '告诉',\n",
              "  '我们',\n",
              "  '，',\n",
              "  '在',\n",
              "  '过去',\n",
              "  '，',\n",
              "  '人类',\n",
              "  '选择',\n",
              "  '通过',\n",
              "  '砍伐',\n",
              "  '所有',\n",
              "  '树木',\n",
              "  '和',\n",
              "  '将',\n",
              "  '动物',\n",
              "  '物种',\n",
              "  '猎杀',\n",
              "  '至',\n",
              "  '灭绝',\n",
              "  '来',\n",
              "  '破坏',\n",
              "  '环境',\n",
              "  '。'],\n",
              " ['乐观',\n",
              "  '的',\n",
              "  '是',\n",
              "  '，',\n",
              "  '作者',\n",
              "  '指出',\n",
              "  '，',\n",
              "  '我们',\n",
              "  '可以',\n",
              "  '选择',\n",
              "  '不在',\n",
              "  '今天',\n",
              "  '犯',\n",
              "  '同样',\n",
              "  '的',\n",
              "  '错误',\n",
              "  '。'],\n",
              " ['这本书', '写', '得很', '好', '，', '值得', '任何', '关心', '环境', '的', '人', '阅读', '。']]"
            ]
          },
          "metadata": {},
          "execution_count": 20
        }
      ]
    },
    {
      "cell_type": "code",
      "source": [
        "text=\"贾雷德·戴蒙德的新书《崩溃》是对破坏环境后果的明确警告。在书中，作者描述了几个因自身选择及其对环境的影响而崩溃的文明。书中最令人不安的例子之一就是拉帕努伊。\\\n",
        "根据作者的说法，拉帕努伊在公元700年之后的某个时候由波利尼西亚人定居。他们发展出了一个繁荣的社会，人口或许达到了1.5万人。他们雕刻了著名的摩艾雕像，并利用可用的自然资源将这些巨大的雕像运到岛上的不同地点。当第一批欧洲人在1722年登上拉帕努伊岛时，摩艾雕像仍然存在，但树木已经消失。人口减少到了几千人，他们正努力维持生存。戴蒙德先生写道，拉帕努伊人为了农业和其他目的清理了土地，并且过度捕猎了岛上曾经繁盛的众多海鸟和陆鸟物种。他推测，自然资源的枯竭导致了内战以及拉帕努伊社会的崩溃。\\\n",
        "这本书虽然精彩，但也令人警醒，它告诉我们，在过去，人类选择通过砍伐所有树木和将动物物种猎杀至灭绝来破坏环境。乐观的是，作者指出，我们可以选择不在今天犯同样的错误。这本书写得很好，值得任何关心环境的人阅读。\""
      ],
      "metadata": {
        "id": "DIqMVvB1KF7E"
      },
      "execution_count": 21,
      "outputs": []
    },
    {
      "cell_type": "code",
      "source": [
        "segmented_words=HanLP.parse(text, tasks='pos/pku')"
      ],
      "metadata": {
        "id": "-c9BDB_-qrkK"
      },
      "execution_count": 22,
      "outputs": []
    },
    {
      "cell_type": "code",
      "source": [
        "area=[\"n\",\"v\",\"a\",\"d\"]#确定实词范围，名词、动词、形容词、副词"
      ],
      "metadata": {
        "id": "EZ4pM9qSrQ4m"
      },
      "execution_count": 23,
      "outputs": []
    },
    {
      "cell_type": "code",
      "source": [
        "after= [[] for _ in range(len(segmented_words['pos/pku']))]"
      ],
      "metadata": {
        "id": "I9neKyxDsuBv"
      },
      "execution_count": 24,
      "outputs": []
    },
    {
      "cell_type": "code",
      "source": [
        "for i in range(len(segmented_words['pos/pku'])):\n",
        "  for j in range(len(segmented_words['pos/pku'][i])):\n",
        "    if segmented_words['pos/pku'][i][j] in area:\n",
        "      after[i].append(segmented_words['tok/fine'][i][j])\n",
        "after"
      ],
      "metadata": {
        "colab": {
          "base_uri": "https://localhost:8080/"
        },
        "id": "t770v4NxraVG",
        "outputId": "ec1f9d77-1272-4d16-ec43-b0f3f7cb1c57"
      },
      "execution_count": 25,
      "outputs": [
        {
          "output_type": "execute_result",
          "data": {
            "text/plain": [
              "[['新', '书', '崩溃', '是', '破坏', '环境', '后果', '明确'],\n",
              " ['作者', '描述', '环境', '崩溃', '文明'],\n",
              " ['最', '令', '人', '不安', '例子', '就是'],\n",
              " ['作者', '说法', '公元', '时候', '人', '定居'],\n",
              " ['发展', '出了', '繁荣', '社会', '人口', '或许', '达到', '人'],\n",
              " ['雕刻', '著名', '雕像', '利用', '可用', '巨大', '雕像', '运到', '岛', '不同', '地点'],\n",
              " ['欧洲人', '登上', '雕像', '仍然', '存在', '树木', '已经', '消失'],\n",
              " ['人口', '减少', '到了', '人', '正', '维持'],\n",
              " ['先生',\n",
              "  '写道',\n",
              "  '人',\n",
              "  '农业',\n",
              "  '目的',\n",
              "  '清理',\n",
              "  '土地',\n",
              "  '过度',\n",
              "  '捕猎',\n",
              "  '岛',\n",
              "  '曾经',\n",
              "  '繁盛',\n",
              "  '海鸟',\n",
              "  '陆鸟',\n",
              "  '物种'],\n",
              " ['推测', '导致', '内战', '社会'],\n",
              " ['书',\n",
              "  '精彩',\n",
              "  '也',\n",
              "  '令',\n",
              "  '人',\n",
              "  '警醒',\n",
              "  '告诉',\n",
              "  '人类',\n",
              "  '选择',\n",
              "  '砍伐',\n",
              "  '树木',\n",
              "  '动物',\n",
              "  '物种',\n",
              "  '猎杀',\n",
              "  '至',\n",
              "  '灭绝',\n",
              "  '来',\n",
              "  '破坏',\n",
              "  '环境'],\n",
              " ['乐观', '是', '作者', '指出', '可以', '选择', '不在', '犯', '错误'],\n",
              " ['书写', '好', '值得', '关心', '环境', '人', '阅读']]"
            ]
          },
          "metadata": {},
          "execution_count": 25
        }
      ]
    },
    {
      "cell_type": "code",
      "source": [
        "from collections import Counter\n",
        "#计算词频，也许可以生成一个字典\n",
        "flat_words = [word for sublist in after for word in sublist]\n",
        "word_counts = Counter(flat_words)\n",
        "word_counts"
      ],
      "metadata": {
        "colab": {
          "base_uri": "https://localhost:8080/"
        },
        "id": "rr26yGxbwKiD",
        "outputId": "ab6ed69a-677a-478e-f300-dc748b227b76"
      },
      "execution_count": 26,
      "outputs": [
        {
          "output_type": "execute_result",
          "data": {
            "text/plain": [
              "Counter({'新': 1,\n",
              "         '书': 2,\n",
              "         '崩溃': 2,\n",
              "         '是': 2,\n",
              "         '破坏': 2,\n",
              "         '环境': 4,\n",
              "         '后果': 1,\n",
              "         '明确': 1,\n",
              "         '作者': 3,\n",
              "         '描述': 1,\n",
              "         '文明': 1,\n",
              "         '最': 1,\n",
              "         '令': 2,\n",
              "         '人': 7,\n",
              "         '不安': 1,\n",
              "         '例子': 1,\n",
              "         '就是': 1,\n",
              "         '说法': 1,\n",
              "         '公元': 1,\n",
              "         '时候': 1,\n",
              "         '定居': 1,\n",
              "         '发展': 1,\n",
              "         '出了': 1,\n",
              "         '繁荣': 1,\n",
              "         '社会': 2,\n",
              "         '人口': 2,\n",
              "         '或许': 1,\n",
              "         '达到': 1,\n",
              "         '雕刻': 1,\n",
              "         '著名': 1,\n",
              "         '雕像': 3,\n",
              "         '利用': 1,\n",
              "         '可用': 1,\n",
              "         '巨大': 1,\n",
              "         '运到': 1,\n",
              "         '岛': 2,\n",
              "         '不同': 1,\n",
              "         '地点': 1,\n",
              "         '欧洲人': 1,\n",
              "         '登上': 1,\n",
              "         '仍然': 1,\n",
              "         '存在': 1,\n",
              "         '树木': 2,\n",
              "         '已经': 1,\n",
              "         '消失': 1,\n",
              "         '减少': 1,\n",
              "         '到了': 1,\n",
              "         '正': 1,\n",
              "         '维持': 1,\n",
              "         '先生': 1,\n",
              "         '写道': 1,\n",
              "         '农业': 1,\n",
              "         '目的': 1,\n",
              "         '清理': 1,\n",
              "         '土地': 1,\n",
              "         '过度': 1,\n",
              "         '捕猎': 1,\n",
              "         '曾经': 1,\n",
              "         '繁盛': 1,\n",
              "         '海鸟': 1,\n",
              "         '陆鸟': 1,\n",
              "         '物种': 2,\n",
              "         '推测': 1,\n",
              "         '导致': 1,\n",
              "         '内战': 1,\n",
              "         '精彩': 1,\n",
              "         '也': 1,\n",
              "         '警醒': 1,\n",
              "         '告诉': 1,\n",
              "         '人类': 1,\n",
              "         '选择': 2,\n",
              "         '砍伐': 1,\n",
              "         '动物': 1,\n",
              "         '猎杀': 1,\n",
              "         '至': 1,\n",
              "         '灭绝': 1,\n",
              "         '来': 1,\n",
              "         '乐观': 1,\n",
              "         '指出': 1,\n",
              "         '可以': 1,\n",
              "         '不在': 1,\n",
              "         '犯': 1,\n",
              "         '错误': 1,\n",
              "         '书写': 1,\n",
              "         '好': 1,\n",
              "         '值得': 1,\n",
              "         '关心': 1,\n",
              "         '阅读': 1})"
            ]
          },
          "metadata": {},
          "execution_count": 26
        }
      ]
    },
    {
      "cell_type": "code",
      "source": [
        "#计算每句话的词频，并储存到一个词频的list中\n",
        "sentence_count=[]\n",
        "for i in range(len(after)):\n",
        "  count=0\n",
        "  for j in after[i]:\n",
        "    count+=word_counts[j]\n",
        "  sentence_count.append(count/len(after[i]))\n",
        "sentence_count"
      ],
      "metadata": {
        "colab": {
          "base_uri": "https://localhost:8080/"
        },
        "id": "cnxWvbkwxoax",
        "outputId": "8e91360e-43f3-4742-edbe-5e50ab1ac78c"
      },
      "execution_count": 27,
      "outputs": [
        {
          "output_type": "execute_result",
          "data": {
            "text/plain": [
              "[1.875,\n",
              " 2.2,\n",
              " 2.1666666666666665,\n",
              " 2.3333333333333335,\n",
              " 2.0,\n",
              " 1.4545454545454546,\n",
              " 1.375,\n",
              " 2.1666666666666665,\n",
              " 1.5333333333333334,\n",
              " 1.25,\n",
              " 1.7894736842105263,\n",
              " 1.4444444444444444,\n",
              " 2.2857142857142856]"
            ]
          },
          "metadata": {},
          "execution_count": 27
        }
      ]
    },
    {
      "cell_type": "code",
      "source": [
        "#从大到小排序\n",
        "key_index=[]\n",
        "so=sorted(sentence_count,reverse=True)\n",
        "for i in range(len(sentence_count)):\n",
        "  j=so.index(sentence_count[i])\n",
        "  key_index.append(j)\n",
        "key_index\n"
      ],
      "metadata": {
        "colab": {
          "base_uri": "https://localhost:8080/"
        },
        "id": "eEDbyVzJLPKZ",
        "outputId": "0dc2215c-3b94-4904-cfa9-b91b30256100"
      },
      "execution_count": 28,
      "outputs": [
        {
          "output_type": "execute_result",
          "data": {
            "text/plain": [
              "[6, 2, 3, 0, 5, 9, 11, 3, 8, 12, 7, 10, 1]"
            ]
          },
          "metadata": {},
          "execution_count": 28
        }
      ]
    },
    {
      "cell_type": "code",
      "source": [
        "#考虑索引中会出现重复的情况\n",
        "standard=list(range(len(sentence_count)))\n",
        "for i in range(len(sentence_count)):\n",
        "  while standard[i] not in key_index:\n",
        "    key_index[key_index.index(3)]+=1\n",
        "key_index"
      ],
      "metadata": {
        "colab": {
          "base_uri": "https://localhost:8080/"
        },
        "id": "c2F7yj3WzsEp",
        "outputId": "74fc57a5-0240-4c47-a43d-90f8231628d0"
      },
      "execution_count": 29,
      "outputs": [
        {
          "output_type": "execute_result",
          "data": {
            "text/plain": [
              "[6, 2, 4, 0, 5, 9, 11, 3, 8, 12, 7, 10, 1]"
            ]
          },
          "metadata": {},
          "execution_count": 29
        }
      ]
    },
    {
      "cell_type": "code",
      "source": [
        "#实现计算每个段的试题数量\n",
        "def allocate(n,paragraph_infor):\n",
        "  allocation=[]\n",
        "  All=0\n",
        "  for i in range(len(paragraph_infor)):\n",
        "    All+=len(paragraph_infor[i])\n",
        "  for i in range(len(paragraph_infor)):\n",
        "    allocation.append(round((len(paragraph_infor[i])/All)*n))\n",
        "  return allocation\n",
        "allocation=allocate(5,paragraphs_infor)#第一个参数是试题总数量,返回每段的试题数量\n",
        "allocation"
      ],
      "metadata": {
        "colab": {
          "base_uri": "https://localhost:8080/"
        },
        "id": "ByZumDllydvK",
        "outputId": "7dcac96c-212c-4ca8-b046-ecbae4ec2e6d"
      },
      "execution_count": 30,
      "outputs": [
        {
          "output_type": "execute_result",
          "data": {
            "text/plain": [
              "[1, 3, 1]"
            ]
          },
          "metadata": {},
          "execution_count": 30
        }
      ]
    },
    {
      "cell_type": "markdown",
      "source": [
        "1. 计算输入文本中每个句子的关键性，并根据关键性对句子进行排名，从最高开始。\n",
        "2. 根据段落长度为每个段落分配考点配额。\n",
        "3. 沿着关键性列表选择考点，同时遵守配额限制，如果候选句子所属的段落已经满足其配额，则拒绝该候选句子；如果检测到候选句子与已选考点句子具有相似意义，则拒绝该候选句子。如果在选择过程中没有可用的候选句子，则调整阈值。"
      ],
      "metadata": {
        "id": "qQAfqyuYySpJ"
      }
    },
    {
      "cell_type": "code",
      "source": [
        "#实现两句话直接的相似性对比——》完成相似度的比较--函数HanLP.semantic_textual_similarity()\n",
        "threshold=0.8#设置阈值"
      ],
      "metadata": {
        "id": "aWwFrNrUpPg8"
      },
      "execution_count": 31,
      "outputs": []
    },
    {
      "cell_type": "code",
      "source": [
        "#检验相似度函数\n",
        "def similar(sentence,list,threshold):\n",
        "  for i in range(len(list)):\n",
        "    if HanLP.semantic_textual_similarity((sentence,list[i]))>threshold:\n",
        "      return False\n",
        "  return True"
      ],
      "metadata": {
        "id": "WWI8B9pUS4nj"
      },
      "execution_count": 32,
      "outputs": []
    },
    {
      "cell_type": "code",
      "source": [
        "#设置题目数量\n",
        "q_number=5\n",
        "question=[]\n",
        "i=0\n",
        "paragraph_target=[0,0,0]\n",
        "while i<q_number:\n",
        "  target=key_index.index(i)\n",
        "  target_k=paragraph_index[target]\n",
        "  if paragraph_target[target_k-1]>allocation[target_k-1]:\n",
        "    print(\"配额已满\")\n",
        "  if similar(sentence_infor[target],question,threshold) is False:\n",
        "    print(\"相似度过高\")\n",
        "  if paragraph_target[target_k-1]<=allocation[target_k-1] and similar(sentence_infor[target],question,threshold):#根据配额分配\n",
        "    question.append(sentence_infor[target])\n",
        "    paragraph_target[target_k-1]+=1\n",
        "  i+=1\n",
        "  #检验相似度\n",
        "question"
      ],
      "metadata": {
        "id": "JH4_lTa9GW1s",
        "colab": {
          "base_uri": "https://localhost:8080/"
        },
        "outputId": "34198a6b-34ec-4ddf-b765-edeb7be6e849"
      },
      "execution_count": 33,
      "outputs": [
        {
          "output_type": "execute_result",
          "data": {
            "text/plain": [
              "['根据作者的说法，拉帕努伊在公元700年之后的某个时候由波利尼西亚人定居',\n",
              " '这本书写得很好，值得任何关心环境的人阅读',\n",
              " '在书中，作者描述了几个因自身选择及其对环境的影响而崩溃的文明',\n",
              " '人口减少到了几千人，他们正努力维持生存',\n",
              " '书中最令人不安的例子之一就是拉帕努伊']"
            ]
          },
          "metadata": {},
          "execution_count": 33
        }
      ]
    },
    {
      "cell_type": "code",
      "source": [
        "key_index"
      ],
      "metadata": {
        "colab": {
          "base_uri": "https://localhost:8080/"
        },
        "id": "re3P18RL3Xfa",
        "outputId": "daf5e6d2-6b66-456b-ae7a-afbe09f72994"
      },
      "execution_count": 34,
      "outputs": [
        {
          "output_type": "execute_result",
          "data": {
            "text/plain": [
              "[6, 2, 4, 0, 5, 9, 11, 3, 8, 12, 7, 10, 1]"
            ]
          },
          "metadata": {},
          "execution_count": 34
        }
      ]
    },
    {
      "cell_type": "code",
      "source": [
        "sentence_infor"
      ],
      "metadata": {
        "colab": {
          "base_uri": "https://localhost:8080/"
        },
        "id": "7Y8U_Lxw3L0e",
        "outputId": "87afef56-023d-4ddb-b130-f60303c70a64"
      },
      "execution_count": 35,
      "outputs": [
        {
          "output_type": "execute_result",
          "data": {
            "text/plain": [
              "['贾雷德·戴蒙德的新书《崩溃》是对破坏环境后果的明确警告',\n",
              " '在书中，作者描述了几个因自身选择及其对环境的影响而崩溃的文明',\n",
              " '书中最令人不安的例子之一就是拉帕努伊',\n",
              " '根据作者的说法，拉帕努伊在公元700年之后的某个时候由波利尼西亚人定居',\n",
              " '他们发展出了一个繁荣的社会，人口或许达到了1.5万人',\n",
              " '他们雕刻了著名的摩艾雕像，并利用可用的自然资源将这些巨大的雕像运到岛上的不同地点',\n",
              " '当第一批欧洲人在1722年登上拉帕努伊岛时，摩艾雕像仍然存在，但树木已经消失',\n",
              " '人口减少到了几千人，他们正努力维持生存',\n",
              " '戴蒙德先生写道，拉帕努伊人为了农业和其他目的清理了土地，并且过度捕猎了岛上曾经繁盛的众多海鸟和陆鸟物种',\n",
              " '他推测，自然资源的枯竭导致了内战以及拉帕努伊社会的崩溃',\n",
              " '这本书虽然精彩，但也令人警醒，它告诉我们，在过去，人类选择通过砍伐所有树木和将动物物种猎杀至灭绝来破坏环境',\n",
              " '乐观的是，作者指出，我们可以选择不在今天犯同样的错误',\n",
              " '这本书写得很好，值得任何关心环境的人阅读']"
            ]
          },
          "metadata": {},
          "execution_count": 35
        }
      ]
    },
    {
      "cell_type": "code",
      "source": [
        "len(key_index)"
      ],
      "metadata": {
        "colab": {
          "base_uri": "https://localhost:8080/"
        },
        "id": "S1GBq90R6EGG",
        "outputId": "763c1549-fc3c-4d63-cbfe-7b1c3865e79f"
      },
      "execution_count": 36,
      "outputs": [
        {
          "output_type": "execute_result",
          "data": {
            "text/plain": [
              "13"
            ]
          },
          "metadata": {},
          "execution_count": 36
        }
      ]
    },
    {
      "cell_type": "code",
      "source": [
        "sorted_list = [sentence_infor[key_index.index(i)] for i in range(len(key_index))]\n",
        "sorted_list"
      ],
      "metadata": {
        "colab": {
          "base_uri": "https://localhost:8080/"
        },
        "id": "LdNWv6xj3cYh",
        "outputId": "08caf872-11fd-485c-f003-a4c9d7e45f1c"
      },
      "execution_count": 37,
      "outputs": [
        {
          "output_type": "execute_result",
          "data": {
            "text/plain": [
              "['根据作者的说法，拉帕努伊在公元700年之后的某个时候由波利尼西亚人定居',\n",
              " '这本书写得很好，值得任何关心环境的人阅读',\n",
              " '在书中，作者描述了几个因自身选择及其对环境的影响而崩溃的文明',\n",
              " '人口减少到了几千人，他们正努力维持生存',\n",
              " '书中最令人不安的例子之一就是拉帕努伊',\n",
              " '他们发展出了一个繁荣的社会，人口或许达到了1.5万人',\n",
              " '贾雷德·戴蒙德的新书《崩溃》是对破坏环境后果的明确警告',\n",
              " '这本书虽然精彩，但也令人警醒，它告诉我们，在过去，人类选择通过砍伐所有树木和将动物物种猎杀至灭绝来破坏环境',\n",
              " '戴蒙德先生写道，拉帕努伊人为了农业和其他目的清理了土地，并且过度捕猎了岛上曾经繁盛的众多海鸟和陆鸟物种',\n",
              " '他们雕刻了著名的摩艾雕像，并利用可用的自然资源将这些巨大的雕像运到岛上的不同地点',\n",
              " '乐观的是，作者指出，我们可以选择不在今天犯同样的错误',\n",
              " '当第一批欧洲人在1722年登上拉帕努伊岛时，摩艾雕像仍然存在，但树木已经消失',\n",
              " '他推测，自然资源的枯竭导致了内战以及拉帕努伊社会的崩溃']"
            ]
          },
          "metadata": {},
          "execution_count": 37
        }
      ]
    }
  ]
}